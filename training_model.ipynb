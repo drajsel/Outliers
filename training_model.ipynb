{
 "cells": [
  {
   "cell_type": "markdown",
   "metadata": {},
   "source": [
    "<h2> Model training </h2>"
   ]
  },
  {
   "cell_type": "code",
   "execution_count": 11,
   "metadata": {},
   "outputs": [],
   "source": [
    "import pandas as pd\n",
    "import matplotlib.pyplot as plt\n",
    "import numpy as np\n",
    "%matplotlib inline"
   ]
  },
  {
   "cell_type": "code",
   "execution_count": 12,
   "metadata": {},
   "outputs": [],
   "source": [
    "## UČITAVANJE TRAIN I TEST SKUPA\n",
    "\n",
    "X_train = pd.read_hdf('X_train.h5' , key = 'X_train')\n",
    "X_test = pd.read_hdf('X_test.h5', key = 'X_test')\n",
    "y_train = X_train['PRIJEVREMENI_RASKID'].ravel()\n",
    "X_train.drop(['PRIJEVREMENI_RASKID'], axis = 1, inplace = True)\n",
    "\n",
    "## to je normalizirani skup, spreman za treniranje"
   ]
  },
  {
   "cell_type": "code",
   "execution_count": 16,
   "metadata": {},
   "outputs": [],
   "source": [
    "### s odabirom znacajki\n",
    "#X_train = pd.read_hdf('X_train_ft.h5' , key = 'X_train_ft')\n",
    "#X_test = pd.read_hdf('X_test_ft.h5', key = 'X_test_ft')\n",
    "#y_train = X_train['PRIJEVREMENI_RASKID'].ravel()\n",
    "#X_train.drop(['PRIJEVREMENI_RASKID'], axis = 1, inplace = True)\n"
   ]
  },
  {
   "cell_type": "markdown",
   "metadata": {},
   "source": [
    "<h3> XGBoost </h3>"
   ]
  },
  {
   "cell_type": "code",
   "execution_count": 3,
   "metadata": {},
   "outputs": [
    {
     "name": "stdout",
     "output_type": "stream",
     "text": [
      "Requirement already satisfied: xgboost in c:\\users\\jakob\\anaconda3\\lib\\site-packages (0.82)\n",
      "Requirement already satisfied: numpy in c:\\users\\jakob\\anaconda3\\lib\\site-packages (from xgboost) (1.16.2)\n",
      "Requirement already satisfied: scipy in c:\\users\\jakob\\anaconda3\\lib\\site-packages (from xgboost) (1.2.1)\n"
     ]
    }
   ],
   "source": [
    "!pip install xgboost"
   ]
  },
  {
   "cell_type": "code",
   "execution_count": 13,
   "metadata": {},
   "outputs": [],
   "source": [
    "import xgboost as xgb\n",
    "from sklearn.metrics import mean_squared_error"
   ]
  },
  {
   "cell_type": "code",
   "execution_count": 5,
   "metadata": {},
   "outputs": [],
   "source": [
    "# https://www.kaggle.com/babatee/intro-xgboost-classification\n",
    "model1 = xgb.XGBClassifier()\n",
    "model2 = xgb.XGBClassifier(n_estimators=100, max_depth=8, learning_rate=0.1, subsample=0.5)"
   ]
  },
  {
   "cell_type": "code",
   "execution_count": 7,
   "metadata": {},
   "outputs": [],
   "source": [
    "train_model1 = model1.fit(X_train, y_train)\n",
    "train_model2 = model2.fit(X_train, y_train)"
   ]
  },
  {
   "cell_type": "code",
   "execution_count": 8,
   "metadata": {},
   "outputs": [],
   "source": [
    "#from sklearn.metrics import classification_report\n",
    "\n",
    "pred1 = train_model1.predict(X_test)\n",
    "pred2 = train_model2.predict(X_test)"
   ]
  },
  {
   "cell_type": "code",
   "execution_count": 10,
   "metadata": {},
   "outputs": [],
   "source": [
    "# ISPIS RJESENJA\n",
    "\n",
    "y_test = pred2\n",
    "y_test = np.where(y_test==0,'N','Y')\n",
    "student = pd.read_excel('eval_dataset_nan.xlsx')\n",
    "student['PRIJEVREMENI_RASKID'] = y_test\n",
    "student.to_csv('student.csv')"
   ]
  },
  {
   "cell_type": "markdown",
   "metadata": {},
   "source": [
    "<h4> Hyperparameter tuning </h4>"
   ]
  },
  {
   "cell_type": "code",
   "execution_count": null,
   "metadata": {},
   "outputs": [],
   "source": [
    "model1 = xgb.XGBClassifier(\n",
    " learning_rate =0.1,\n",
    " n_estimators=1000,\n",
    " max_depth=5,\n",
    " min_child_weight=1,\n",
    " gamma=0,\n",
    " subsample=0.8,\n",
    " colsample_bytree=0.8,\n",
    " objective= 'binary:logistic',\n",
    " nthread=4,\n",
    " scale_pos_weight=1,\n",
    " seed=27)"
   ]
  },
  {
   "cell_type": "code",
   "execution_count": null,
   "metadata": {},
   "outputs": [],
   "source": [
    "train_model1 = model1.fit(X_train, y_train)\n",
    "pred3 = train_model1.predict(X_test)\n",
    "# print(\"Accuracy for model 3: %.2f\" % (accuracy_score(y_test, pred3) * 100))"
   ]
  },
  {
   "cell_type": "code",
   "execution_count": null,
   "metadata": {},
   "outputs": [],
   "source": [
    "from sklearn.model_selection import GridSearchCV\n",
    "\n",
    "param_test = {\n",
    " 'max_depth':[4,5,6],\n",
    " 'min_child_weight':[4,5,6]\n",
    "}\n",
    "gsearch = GridSearchCV(estimator = xgb.XGBClassifier( learning_rate=0.1, n_estimators=140, max_depth=5,\n",
    " min_child_weight=2, gamma=0, subsample=0.8, colsample_bytree=0.8,\n",
    " objective= 'binary:logistic', nthread=4, scale_pos_weight=1,seed=27), \n",
    " param_grid = param_test, scoring='roc_auc',n_jobs=4,iid=False, cv=5)\n",
    "\n",
    "train_model4 = gsearch.fit(X_train, y_train)\n",
    "pred4 = train_model4.predict(X_test)\n",
    "#print(\"Accuracy for model 4: %.2f\" % (accuracy_score(y_test, pred4) * 100))"
   ]
  },
  {
   "cell_type": "code",
   "execution_count": null,
   "metadata": {},
   "outputs": [],
   "source": [
    "gsearch.best_params_ # pokaze koji je najbolji parametar odabran"
   ]
  },
  {
   "cell_type": "code",
   "execution_count": null,
   "metadata": {},
   "outputs": [],
   "source": [
    "##ISPIS RJESENJA\n",
    "y_test = pred4\n",
    "y_test = np.where(y_test==0,'N','Y')\n",
    "student = pd.read_excel('eval_dataset_nan.xlsx')\n",
    "student['PRIJEVREMENI_RASKID'] = y_test\n",
    "student.to_csv('student.csv')"
   ]
  },
  {
   "cell_type": "code",
   "execution_count": null,
   "metadata": {},
   "outputs": [],
   "source": [
    "param_test2b = {\n",
    " 'min_child_weight':[6,8,10,12]\n",
    "}\n",
    "gsearch2b = GridSearchCV(estimator = xgb.XGBClassifier( learning_rate=0.1, n_estimators=140, max_depth=4,\n",
    " min_child_weight=2, gamma=0, subsample=0.8, colsample_bytree=0.8,\n",
    " objective= 'binary:logistic', nthread=4, scale_pos_weight=1,seed=27), \n",
    " param_grid = param_test2b, scoring='roc_auc',n_jobs=4,iid=False, cv=5)\n",
    "\n",
    "train_model5 = gsearch2b.fit(X_train, y_train)\n",
    "pred5 = train_model5.predict(X_test)\n",
    "#print(\"Accuracy for model 5: %.2f\" % (accuracy_score(y_test, pred5) * 100))"
   ]
  },
  {
   "cell_type": "code",
   "execution_count": null,
   "metadata": {},
   "outputs": [],
   "source": [
    "##ISPIS RJESENJA\n",
    "y_test = pred5\n",
    "y_test = np.where(y_test==0,'N','Y')\n",
    "student['PRIJEVREMENI_RASKID'] = y_test\n",
    "student.to_csv('student.csv')"
   ]
  },
  {
   "cell_type": "code",
   "execution_count": null,
   "metadata": {},
   "outputs": [],
   "source": [
    "#Tune Gamma\n",
    "param_test3 = {\n",
    " 'gamma':[i/10.0 for i in range(0,5)]\n",
    "}\n",
    "gsearch3 = GridSearchCV(estimator = xgb.XGBClassifier( learning_rate =0.1, n_estimators=140, max_depth=4,\n",
    " min_child_weight=6, gamma=0, subsample=0.8, colsample_bytree=0.8,\n",
    " objective= 'binary:logistic', nthread=4, scale_pos_weight=1,seed=27), \n",
    " param_grid = param_test3, scoring='roc_auc',n_jobs=4,iid=False, cv=5)\n",
    "\n",
    "train_model6 = gsearch3.fit(X_train, y_train)\n",
    "pred6 = train_model6.predict(X_test)\n",
    "#print(\"Accuracy for model 6: %.2f\" % (accuracy_score(y_test, pred6) * 100))"
   ]
  },
  {
   "cell_type": "code",
   "execution_count": 17,
   "metadata": {},
   "outputs": [],
   "source": [
    "xgb2 = xgb.XGBClassifier(\n",
    " learning_rate =0.1,\n",
    " n_estimators=1000,\n",
    " max_depth=4,\n",
    " min_child_weight=4,\n",
    " gamma=0,\n",
    " subsample=0.8,\n",
    " colsample_bytree=0.8,\n",
    " objective= 'binary:logistic',\n",
    " nthread=4,\n",
    " scale_pos_weight=1,\n",
    " seed=27)\n",
    "\n",
    "train_model7 = xgb2.fit(X_train, y_train)\n",
    "pred7 = train_model7.predict(X_test)\n",
    "#print(\"Accuracy for model 7: %.2f\" % (accuracy_score(y_test, pred7) * 100))"
   ]
  },
  {
   "cell_type": "code",
   "execution_count": 18,
   "metadata": {},
   "outputs": [],
   "source": [
    "##ISPIS RJESENJA - pokazao se najbolji dosad\n",
    "y_test = pred7\n",
    "y_test = np.where(y_test==0,'N','Y')\n",
    "student = pd.read_excel('eval_dataset_nan.xlsx')\n",
    "student['PRIJEVREMENI_RASKID'] = y_test\n",
    "student.to_csv('student.csv')"
   ]
  },
  {
   "cell_type": "code",
   "execution_count": null,
   "metadata": {},
   "outputs": [],
   "source": []
  }
 ],
 "metadata": {
  "kernelspec": {
   "display_name": "Python 3",
   "language": "python",
   "name": "python3"
  },
  "language_info": {
   "codemirror_mode": {
    "name": "ipython",
    "version": 3
   },
   "file_extension": ".py",
   "mimetype": "text/x-python",
   "name": "python",
   "nbconvert_exporter": "python",
   "pygments_lexer": "ipython3",
   "version": "3.7.3"
  }
 },
 "nbformat": 4,
 "nbformat_minor": 2
}

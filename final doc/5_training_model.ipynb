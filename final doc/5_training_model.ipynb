{
 "cells": [
  {
   "cell_type": "markdown",
   "metadata": {},
   "source": [
    "<h1> 5. Treniranje modela </h1>\n",
    "\n",
    "Odabrali smo XGBoost algoritam za treniranje modela. Također ćemo dodatno isprobati metodu oversampling zbog nebalansiranosti skupa za testiranje. \n",
    "\n",
    "Napravit ćemo i pretraživanje parametara za parametre \"max_depth\", \"min_child_weight\" i \"gamma\" XGB klasifikatora.\n",
    "\n",
    "Osim toga, isprobali smo i neuronske mreže i slučajne šume, no najbolji rezultat nam je dao XGBoost nakon pretraživanja parametara."
   ]
  },
  {
   "cell_type": "code",
   "execution_count": 1,
   "metadata": {},
   "outputs": [],
   "source": [
    "import pandas as pd\n",
    "import matplotlib.pyplot as plt\n",
    "import numpy as np\n",
    "%matplotlib inline"
   ]
  },
  {
   "cell_type": "code",
   "execution_count": 2,
   "metadata": {},
   "outputs": [],
   "source": [
    "## BRISE UPOZORENJA\n",
    "import warnings\n",
    "warnings.filterwarnings('ignore')"
   ]
  },
  {
   "cell_type": "code",
   "execution_count": 3,
   "metadata": {},
   "outputs": [],
   "source": [
    "## UČITAVANJE TRAIN I TEST SKUPA - bez odabira značajki\n",
    "X_train = pd.read_hdf('X_train.h5' , key = 'X_train')\n",
    "X_test = pd.read_hdf('X_test.h5', key = 'X_test')\n",
    "y_train = X_train['PRIJEVREMENI_RASKID'].ravel()\n",
    "X_train.drop(['PRIJEVREMENI_RASKID'], axis = 1, inplace = True)\n"
   ]
  },
  {
   "cell_type": "code",
   "execution_count": 4,
   "metadata": {},
   "outputs": [
    {
     "data": {
      "text/plain": [
       "Index(['KLIJENT_ID', 'PLANIRANA_DULJINA_KREDITA', 'PRODULJENJA', 'STAROST',\n",
       "       'UGOVORENI_IZNOS', 'VISINA_KAMATE', 'ind1-poc', 'ind10-poc',\n",
       "       'ind11-poc', 'ind12-poc', 'ind2-poc', 'ind3-poc', 'ind4-poc',\n",
       "       'ind5-poc', 'ind6-poc', 'ind7-poc', 'ind8-poc', 'ind9-poc',\n",
       "       'VRSTA_KLIJENTA_CODE', 'VALUTA_CODE', 'TIP_KAMATE_CODE',\n",
       "       'PROIZVOD_CODE', 'GODINA_OTVARANJA_CODE', 'VRSTA_PROIZVODA_CODE'],\n",
       "      dtype='object')"
      ]
     },
     "execution_count": 4,
     "metadata": {},
     "output_type": "execute_result"
    }
   ],
   "source": [
    "X_train.columns"
   ]
  },
  {
   "cell_type": "code",
   "execution_count": 5,
   "metadata": {},
   "outputs": [
    {
     "data": {
      "text/plain": [
       "(663500, 24)"
      ]
     },
     "execution_count": 5,
     "metadata": {},
     "output_type": "execute_result"
    }
   ],
   "source": [
    "X_train.shape"
   ]
  },
  {
   "cell_type": "markdown",
   "metadata": {},
   "source": [
    "<h3> Oversampling </h3>"
   ]
  },
  {
   "cell_type": "code",
   "execution_count": 6,
   "metadata": {},
   "outputs": [
    {
     "data": {
      "text/plain": [
       "1    543968\n",
       "0    543968\n",
       "Name: PRIJEVREMENI_RASKID, dtype: int64"
      ]
     },
     "execution_count": 6,
     "metadata": {},
     "output_type": "execute_result"
    }
   ],
   "source": [
    "from sklearn.utils import resample\n",
    "from sklearn.model_selection import train_test_split\n",
    "\n",
    "# concatenate our training data back together\n",
    "X = pd.read_hdf('X_train_ft.h5' , key = 'X_train_ft')\n",
    "# separate minority and majority classes\n",
    "neraskidi = X[X['PRIJEVREMENI_RASKID']==0]\n",
    "raskidi = X[X['PRIJEVREMENI_RASKID']==1]\n",
    "\n",
    "# upsample minority\n",
    "raskidi_upsampled = resample(raskidi,\n",
    "                          replace=True, # sample with replacement\n",
    "                          n_samples= len(neraskidi), # match number in majority class\n",
    "                          random_state=27) # reproducible results\n",
    "\n",
    "# combine majority and upsampled minority\n",
    "upsampled = pd.concat([neraskidi, raskidi_upsampled])\n",
    "\n",
    "# check new class counts\n",
    "upsampled['PRIJEVREMENI_RASKID'].value_counts()"
   ]
  },
  {
   "cell_type": "code",
   "execution_count": 7,
   "metadata": {},
   "outputs": [],
   "source": [
    "y_train_up = upsampled['PRIJEVREMENI_RASKID']\n",
    "X_train_up = upsampled.drop(['PRIJEVREMENI_RASKID'], axis = 1)"
   ]
  },
  {
   "cell_type": "markdown",
   "metadata": {},
   "source": [
    "<h3> XGBoost </h3>\n",
    "\n",
    "XGBoost je algoritam koji je nedavno postao domninantan u primjeni strojnog učenja na raznim natjecanjima zbog svoje brzine i performansa. Implementacija je gradient boosting-a sa stablima odlučivanja."
   ]
  },
  {
   "cell_type": "code",
   "execution_count": null,
   "metadata": {},
   "outputs": [],
   "source": [
    "## ukoliko nije instaliran\n",
    "!pip install xgboost"
   ]
  },
  {
   "cell_type": "code",
   "execution_count": 8,
   "metadata": {},
   "outputs": [],
   "source": [
    "import xgboost as xgb"
   ]
  },
  {
   "cell_type": "code",
   "execution_count": 8,
   "metadata": {},
   "outputs": [],
   "source": [
    "model1 = xgb.XGBClassifier()\n",
    "model2 = xgb.XGBClassifier(n_estimators=100, max_depth=8, learning_rate=0.1, subsample=0.5)"
   ]
  },
  {
   "cell_type": "code",
   "execution_count": 9,
   "metadata": {},
   "outputs": [],
   "source": [
    "train_model1 = model1.fit(X_train, y_train)\n",
    "train_model2 = model2.fit(X_train, y_train)"
   ]
  },
  {
   "cell_type": "code",
   "execution_count": 10,
   "metadata": {},
   "outputs": [],
   "source": [
    "pred1 = train_model1.predict(X_test)\n",
    "pred2 = train_model2.predict(X_test)"
   ]
  },
  {
   "cell_type": "code",
   "execution_count": 11,
   "metadata": {},
   "outputs": [],
   "source": [
    "y_test = pred1\n",
    "y_test = np.where(y_test==0,'N','Y')\n",
    "student = pd.read_excel('eval_dataset_nan.xlsx')\n",
    "student['PRIJEVREMENI_RASKID'] = y_test\n",
    "student.to_csv('student.csv')"
   ]
  },
  {
   "cell_type": "code",
   "execution_count": 12,
   "metadata": {},
   "outputs": [],
   "source": [
    "y_test = pred2\n",
    "y_test = np.where(y_test == 0,'N','Y')\n",
    "student = pd.read_excel('eval_dataset_nan.xlsx')\n",
    "student['PRIJEVREMENI_RASKID'] = y_test\n",
    "student.to_csv('student.csv')"
   ]
  },
  {
   "cell_type": "markdown",
   "metadata": {},
   "source": [
    "<h4> Hyperparameter tuning </h4>\n",
    "\n",
    "U ovom dijelu ćemo isprobati odabrati najbolje parametre 'max_depth', 'min_child_weight' i 'gamma'."
   ]
  },
  {
   "cell_type": "code",
   "execution_count": 9,
   "metadata": {},
   "outputs": [],
   "source": [
    "from sklearn.model_selection import GridSearchCV\n",
    "from sklearn.metrics import make_scorer\n",
    "from sklearn.metrics import accuracy_score\n",
    "rez = {'Accuracy': make_scorer(accuracy_score)}\n",
    "\n",
    "\n",
    "param_test = {\n",
    " 'max_depth':[4,5,6],\n",
    " 'min_child_weight':[4,5,6]\n",
    "}\n",
    "gsearch = GridSearchCV(estimator = xgb.XGBClassifier( learning_rate=0.1, n_estimators=140, max_depth=5,\n",
    " min_child_weight=2, gamma=0, subsample=0.8, colsample_bytree=0.8,\n",
    " objective= 'binary:logistic', nthread=4, scale_pos_weight=1,seed=27), \n",
    " param_grid = param_test, scoring=rez, n_jobs=4,iid=False, refit = 'Accuracy' ,cv=5)\n",
    "\n",
    "train_model4 = gsearch.fit(X_train, y_train)\n",
    "pred4 = train_model4.predict(X_test)"
   ]
  },
  {
   "cell_type": "code",
   "execution_count": 10,
   "metadata": {},
   "outputs": [
    {
     "data": {
      "text/plain": [
       "{'max_depth': 4, 'min_child_weight': 4}"
      ]
     },
     "execution_count": 10,
     "metadata": {},
     "output_type": "execute_result"
    }
   ],
   "source": [
    "gsearch.best_params_ # najbolji parametri"
   ]
  },
  {
   "cell_type": "code",
   "execution_count": 11,
   "metadata": {},
   "outputs": [
    {
     "data": {
      "text/plain": [
       "0.5817161447509701"
      ]
     },
     "execution_count": 11,
     "metadata": {},
     "output_type": "execute_result"
    }
   ],
   "source": [
    "gsearch.best_score_ # najbolji rezultat "
   ]
  },
  {
   "cell_type": "code",
   "execution_count": 12,
   "metadata": {},
   "outputs": [
    {
     "name": "stdout",
     "output_type": "stream",
     "text": [
      "Najbolji parametri:\n",
      "{'max_depth': 4, 'min_child_weight': 4}\n",
      "\n",
      " Accuracy score s najboljim parametrima:\n",
      "0.5817161447509701\n"
     ]
    }
   ],
   "source": [
    "print('Najbolji parametri:')\n",
    "print(gsearch.best_params_)\n",
    "print('\\n Accuracy score s najboljim parametrima:')\n",
    "print(gsearch.best_score_)"
   ]
  },
  {
   "cell_type": "markdown",
   "metadata": {},
   "source": [
    "Testiranjem na web servisu se pokazalo da iako je accuracy u grid-searchu manji, rezultat na web-servisu je bolji. Naime, grid-search sa scoringom ROC-AUC krivulje daje puno viši score nego kad je scoring postavljen na 'Accuracy'. "
   ]
  },
  {
   "cell_type": "code",
   "execution_count": 13,
   "metadata": {},
   "outputs": [],
   "source": [
    "from xgboost import plot_importance\n"
   ]
  },
  {
   "cell_type": "code",
   "execution_count": 14,
   "metadata": {},
   "outputs": [
    {
     "data": {
      "text/plain": [
       "<matplotlib.axes._subplots.AxesSubplot at 0x1f70d25c780>"
      ]
     },
     "execution_count": 14,
     "metadata": {},
     "output_type": "execute_result"
    },
    {
     "data": {
      "image/png": "[encoded data removed]",
      "text/plain": [
       "<Figure size 432x288 with 1 Axes>"
      ]
     },
     "metadata": {
      "needs_background": "light"
     },
     "output_type": "display_data"
    }
   ],
   "source": [
    "plot_importance(gsearch.best_estimator_)"
   ]
  },
  {
   "cell_type": "code",
   "execution_count": 15,
   "metadata": {},
   "outputs": [],
   "source": [
    "## UČITAVANJE TRAIN I TEST SKUPA - prvi odabir\n",
    "X_train = pd.read_hdf('X_train_ft1.h5' , key = 'X_train_ft1')\n",
    "X_test = pd.read_hdf('X_test_ft1.h5', key = 'X_test_ft1')\n",
    "y_train = X_train['PRIJEVREMENI_RASKID'].ravel()\n",
    "X_train.drop(['PRIJEVREMENI_RASKID'], axis = 1, inplace = True)\n"
   ]
  },
  {
   "cell_type": "code",
   "execution_count": 16,
   "metadata": {},
   "outputs": [],
   "source": [
    "from sklearn.model_selection import GridSearchCV\n",
    "from sklearn.metrics import make_scorer\n",
    "from sklearn.metrics import accuracy_score\n",
    "rez = {'Accuracy': make_scorer(accuracy_score)}\n",
    "\n",
    "\n",
    "param_test = {\n",
    " 'max_depth':[4,5,6],\n",
    " 'min_child_weight':[4,5,6]\n",
    "}\n",
    "gsearch = GridSearchCV(estimator = xgb.XGBClassifier( learning_rate=0.1, n_estimators=140, max_depth=5,\n",
    " min_child_weight=2, gamma=0, subsample=0.8, colsample_bytree=0.8,\n",
    " objective= 'binary:logistic', nthread=4, scale_pos_weight=1,seed=27), \n",
    " param_grid = param_test, scoring=rez, n_jobs=4,iid=False, refit = 'Accuracy' ,cv=5)\n",
    "\n",
    "train_model4 = gsearch.fit(X_train, y_train)\n",
    "pred4 = train_model4.predict(X_test)"
   ]
  },
  {
   "cell_type": "code",
   "execution_count": 17,
   "metadata": {},
   "outputs": [
    {
     "name": "stdout",
     "output_type": "stream",
     "text": [
      "Najbolji parametri:\n",
      "{'max_depth': 4, 'min_child_weight': 5}\n",
      "\n",
      " Accuracy score s najboljim parametrima:\n",
      "0.5749640658313131\n"
     ]
    }
   ],
   "source": [
    "print('Najbolji parametri:')\n",
    "print(gsearch.best_params_)\n",
    "print('\\n Accuracy score s najboljim parametrima:')\n",
    "print(gsearch.best_score_)"
   ]
  },
  {
   "cell_type": "code",
   "execution_count": 18,
   "metadata": {},
   "outputs": [],
   "source": [
    "from sklearn.model_selection import GridSearchCV\n",
    "from sklearn.metrics import make_scorer\n",
    "from sklearn.metrics import accuracy_score\n",
    "rez = {'Accuracy': make_scorer(accuracy_score)}\n",
    "\n",
    "\n",
    "param_test = {\n",
    " 'max_depth':[4,5,6],\n",
    " 'min_child_weight':[4,5,6]\n",
    "}\n",
    "gsearch = GridSearchCV(estimator = xgb.XGBClassifier( learning_rate=0.1, n_estimators=140, max_depth=5,\n",
    " min_child_weight=2, gamma=0, subsample=0.8, colsample_bytree=0.8,\n",
    " objective= 'binary:logistic', nthread=4, scale_pos_weight=1,seed=27), \n",
    " param_grid = param_test, scoring='roc_auc', n_jobs=4,iid=False ,cv=5)\n",
    "\n",
    "train_model4 = gsearch.fit(X_train, y_train)\n",
    "pred4 = train_model4.predict(X_test)"
   ]
  },
  {
   "cell_type": "code",
   "execution_count": 19,
   "metadata": {},
   "outputs": [
    {
     "name": "stdout",
     "output_type": "stream",
     "text": [
      "Najbolji parametri:\n",
      "{'max_depth': 4, 'min_child_weight': 5}\n",
      "\n",
      " ROC-AUC score s najboljim parametrima:\n",
      "0.7367119942746945\n"
     ]
    }
   ],
   "source": [
    "print('Najbolji parametri:')\n",
    "print(gsearch.best_params_)\n",
    "print('\\n ROC-AUC score s najboljim parametrima:') # za sve značajke 0.7361355976623376\n",
    "print(gsearch.best_score_)"
   ]
  },
  {
   "cell_type": "code",
   "execution_count": 20,
   "metadata": {},
   "outputs": [],
   "source": [
    "## UČITAVANJE TRAIN I TEST SKUPA - drugi odabir\n",
    "X_train = pd.read_hdf('X_train_ft2.h5' , key = 'X_train_ft2')\n",
    "X_test = pd.read_hdf('X_test_ft2.h5', key = 'X_test_ft2')\n",
    "y_train = X_train['PRIJEVREMENI_RASKID'].ravel()\n",
    "X_train.drop(['PRIJEVREMENI_RASKID'], axis = 1, inplace = True)\n"
   ]
  },
  {
   "cell_type": "code",
   "execution_count": null,
   "metadata": {},
   "outputs": [],
   "source": [
    "from sklearn.model_selection import GridSearchCV\n",
    "from sklearn.metrics import make_scorer\n",
    "from sklearn.metrics import accuracy_score\n",
    "rez = {'Accuracy': make_scorer(accuracy_score)}\n",
    "\n",
    "\n",
    "param_test = {\n",
    " 'max_depth':[4,5,6],\n",
    " 'min_child_weight':[4,5,6]\n",
    "}\n",
    "gsearch = GridSearchCV(estimator = xgb.XGBClassifier( learning_rate=0.1, n_estimators=140, max_depth=5,\n",
    " min_child_weight=2, gamma=0, subsample=0.8, colsample_bytree=0.8,\n",
    " objective= 'binary:logistic', nthread=4, scale_pos_weight=1,seed=27), \n",
    " param_grid = param_test, scoring='roc_auc', n_jobs=4,iid=False ,cv=5)\n",
    "\n",
    "train_model4 = gsearch.fit(X_train, y_train)\n",
    "pred4 = train_model4.predict(X_test)"
   ]
  },
  {
   "cell_type": "code",
   "execution_count": null,
   "metadata": {},
   "outputs": [],
   "source": [
    "print('Najbolji parametri:')\n",
    "print(gsearch.best_params_)\n",
    "print('\\n ROC-AUC score s najboljim parametrima:')\n",
    "print(gsearch.best_score_)"
   ]
  },
  {
   "cell_type": "code",
   "execution_count": null,
   "metadata": {},
   "outputs": [],
   "source": [
    "## UČITAVANJE TRAIN I TEST SKUPA - treći odabir\n",
    "X_train = pd.read_hdf('X_train_ft3.h5' , key = 'X_train_ft3')\n",
    "X_test = pd.read_hdf('X_test_ft3.h5', key = 'X_test_ft3')\n",
    "y_train = X_train['PRIJEVREMENI_RASKID'].ravel()\n",
    "X_train.drop(['PRIJEVREMENI_RASKID'], axis = 1, inplace = True)\n"
   ]
  },
  {
   "cell_type": "code",
   "execution_count": null,
   "metadata": {},
   "outputs": [],
   "source": [
    "from sklearn.model_selection import GridSearchCV\n",
    "from sklearn.metrics import make_scorer\n",
    "from sklearn.metrics import accuracy_score\n",
    "rez = {'Accuracy': make_scorer(accuracy_score)}\n",
    "\n",
    "\n",
    "param_test = {\n",
    " 'max_depth':[4,5,6],\n",
    " 'min_child_weight':[4,5,6]\n",
    "}\n",
    "gsearch = GridSearchCV(estimator = xgb.XGBClassifier( learning_rate=0.1, n_estimators=140, max_depth=5,\n",
    " min_child_weight=2, gamma=0, subsample=0.8, colsample_bytree=0.8,\n",
    " objective= 'binary:logistic', nthread=4, scale_pos_weight=1,seed=27), \n",
    " param_grid = param_test, scoring='roc_auc', n_jobs=4,iid=False ,cv=5)\n",
    "\n",
    "train_model4 = gsearch.fit(X_train, y_train)\n",
    "pred4 = train_model4.predict(X_test)"
   ]
  },
  {
   "cell_type": "code",
   "execution_count": null,
   "metadata": {},
   "outputs": [],
   "source": [
    "print('Najbolji parametri:')\n",
    "print(gsearch.best_params_)\n",
    "print('\\n ROC-AUC score s najboljim parametrima:')\n",
    "print(gsearch.best_score_)"
   ]
  },
  {
   "cell_type": "code",
   "execution_count": null,
   "metadata": {},
   "outputs": [],
   "source": [
    "## UČITAVANJE TRAIN I TEST SKUPA - četvrti odabir\n",
    "X_train = pd.read_hdf('X_train_ft4.h5' , key = 'X_train_ft4')\n",
    "X_test = pd.read_hdf('X_test_ft4.h5', key = 'X_test_ft4')\n",
    "y_train = X_train['PRIJEVREMENI_RASKID'].ravel()\n",
    "X_train.drop(['PRIJEVREMENI_RASKID'], axis = 1, inplace = True)\n"
   ]
  },
  {
   "cell_type": "code",
   "execution_count": null,
   "metadata": {},
   "outputs": [],
   "source": [
    "print('Najbolji parametri:')\n",
    "print(gsearch.best_params_)\n",
    "print('\\n ROC-AUC score s najboljim parametrima:')\n",
    "print(gsearch.best_score_)"
   ]
  },
  {
   "cell_type": "code",
   "execution_count": null,
   "metadata": {},
   "outputs": [],
   "source": [
    "from sklearn.model_selection import GridSearchCV\n",
    "from sklearn.metrics import make_scorer\n",
    "from sklearn.metrics import accuracy_score\n",
    "rez = {'Accuracy': make_scorer(accuracy_score)}\n",
    "\n",
    "\n",
    "param_test = {\n",
    " 'max_depth':[4,5,6],\n",
    " 'min_child_weight':[4,5,6]\n",
    "}\n",
    "gsearch = GridSearchCV(estimator = xgb.XGBClassifier( learning_rate=0.1, n_estimators=140, max_depth=5,\n",
    " min_child_weight=2, gamma=0, subsample=0.8, colsample_bytree=0.8,\n",
    " objective= 'binary:logistic', nthread=4, scale_pos_weight=1,seed=27), \n",
    " param_grid = param_test, scoring='roc_auc', n_jobs=4,iid=False ,cv=5)\n",
    "\n",
    "train_model4 = gsearch.fit(X_train, y_train)\n",
    "pred4 = train_model4.predict(X_test)"
   ]
  },
  {
   "cell_type": "code",
   "execution_count": null,
   "metadata": {},
   "outputs": [],
   "source": [
    "##ISPIS RJESENJA\n",
    "y_test = pred4 # ili neki drugi rezultat estimatora\n",
    "y_test = np.where(y_test==0,'N','Y')\n",
    "student = pd.read_excel('eval_dataset_nan.xlsx')\n",
    "student['PRIJEVREMENI_RASKID'] = y_test\n",
    "student.to_csv('student.csv')"
   ]
  },
  {
   "cell_type": "markdown",
   "metadata": {},
   "source": [
    "Tuning ostalih parametara"
   ]
  },
  {
   "cell_type": "code",
   "execution_count": 32,
   "metadata": {},
   "outputs": [],
   "source": [
    "param_test2b = {\n",
    " 'min_child_weight':[6,8,10,12]\n",
    "}\n",
    "gsearch2b = GridSearchCV(estimator = xgb.XGBClassifier( learning_rate=0.1, n_estimators=200, max_depth=4,\n",
    " min_child_weight=5,  gamma=0, subsample=0.8, colsample_bytree=0.8,\n",
    " objective= 'binary:logistic', nthread=4, scale_pos_weight=1,seed=27), \n",
    " param_grid = param_test2b, scoring='roc-auc',n_jobs=4,iid=False, cv=5)\n",
    "\n",
    "train_model5 = gsearch2b.fit(X_train, y_train)\n",
    "pred5 = train_model5.predict(X_test)"
   ]
  },
  {
   "cell_type": "code",
   "execution_count": null,
   "metadata": {},
   "outputs": [],
   "source": [
    "##ISPIS RJESENJA\n",
    "y_test = pred5\n",
    "y_test = np.where(y_test==0,'N','Y')\n",
    "student['PRIJEVREMENI_RASKID'] = y_test\n",
    "student.to_csv('student.csv')"
   ]
  },
  {
   "cell_type": "code",
   "execution_count": 35,
   "metadata": {},
   "outputs": [],
   "source": [
    "#Tune Gamma\n",
    "param_test3 = {\n",
    " 'gamma':[i/10.0 for i in range(0,5)]\n",
    "}\n",
    "gsearch3 = GridSearchCV(estimator = xgb.XGBClassifier( learning_rate =0.1, n_estimators=200, max_depth=4,\n",
    " min_child_weight=6, gamma=0, subsample=0.8, colsample_bytree=0.8,\n",
    " objective= 'binary:logistic', nthread=4, scale_pos_weight=1,seed=27), \n",
    " param_grid = param_test3, scoring=rez, refit = 'Accuracy',n_jobs=4,iid=False, cv=5)\n",
    "\n",
    "train_model6 = gsearch3.fit(X_train, y_train)\n",
    "pred6 = train_model6.predict(X_test)\n",
    "\n"
   ]
  },
  {
   "cell_type": "markdown",
   "metadata": {},
   "source": [
    "<h3> Slučajne šume </h3>"
   ]
  },
  {
   "cell_type": "code",
   "execution_count": null,
   "metadata": {},
   "outputs": [],
   "source": [
    "from sklearn.ensemble import RandomForestClassifier\n",
    "\n",
    "#Create a Gaussian Classifier\n",
    "clf=RandomForestClassifier(n_estimators=1000)\n",
    "\n",
    "#Train the model using the training sets y_pred=clf.predict(X_test)\n",
    "clf.fit(X_train,y_train)\n",
    "\n",
    "y_pred=clf.predict(X_test)\n",
    "\n",
    "y_test = y_pred\n",
    "\n",
    "student = pd.read_excel('eval_dataset_nan.xlsx')\n",
    "y_test = np.where(y_test==0,'N', 'Y')\n",
    "\n",
    "student['PRIJEVREMENI_RASKID'] = y_test\n",
    "\n",
    "student.to_csv('student.csv')"
   ]
  },
  {
   "cell_type": "markdown",
   "metadata": {},
   "source": [
    "<h3> Neuronske mreže </h3>"
   ]
  },
  {
   "cell_type": "code",
   "execution_count": null,
   "metadata": {},
   "outputs": [],
   "source": [
    "!pip install tensorflow"
   ]
  },
  {
   "cell_type": "code",
   "execution_count": null,
   "metadata": {},
   "outputs": [],
   "source": [
    "!pip install keras"
   ]
  },
  {
   "cell_type": "code",
   "execution_count": null,
   "metadata": {},
   "outputs": [],
   "source": [
    "!pip install numpy==1.16.3"
   ]
  },
  {
   "cell_type": "code",
   "execution_count": 57,
   "metadata": {},
   "outputs": [],
   "source": [
    "X_train = pd.read_hdf('X_train_ft1.h5')\n",
    "X_test = pd.read_hdf('X_test_ft1.h5')\n",
    "y_train = X_train['PRIJEVREMENI_RASKID']\n",
    "del X_train['PRIJEVREMENI_RASKID']"
   ]
  },
  {
   "cell_type": "code",
   "execution_count": 58,
   "metadata": {},
   "outputs": [
    {
     "name": "stderr",
     "output_type": "stream",
     "text": [
      "Using TensorFlow backend.\n"
     ]
    }
   ],
   "source": [
    "from keras.models import Sequential\n",
    "from keras.layers import Dense\n",
    "from keras.layers import LSTM\n",
    "from keras.models import load_model\n",
    "from keras.layers import Flatten\n",
    "from keras.layers import Dropout"
   ]
  },
  {
   "cell_type": "code",
   "execution_count": 59,
   "metadata": {},
   "outputs": [
    {
     "data": {
      "text/plain": [
       "(663500, 14)"
      ]
     },
     "execution_count": 59,
     "metadata": {},
     "output_type": "execute_result"
    }
   ],
   "source": [
    "X_train.shape"
   ]
  },
  {
   "cell_type": "code",
   "execution_count": 60,
   "metadata": {},
   "outputs": [
    {
     "data": {
      "text/plain": [
       "0         0\n",
       "1         0\n",
       "2         0\n",
       "3         0\n",
       "4         0\n",
       "5         1\n",
       "6         0\n",
       "7         0\n",
       "8         1\n",
       "9         1\n",
       "10        1\n",
       "11        0\n",
       "12        0\n",
       "13        0\n",
       "14        0\n",
       "15        0\n",
       "16        0\n",
       "17        0\n",
       "18        0\n",
       "19        0\n",
       "20        0\n",
       "21        0\n",
       "22        0\n",
       "23        0\n",
       "24        0\n",
       "25        0\n",
       "26        0\n",
       "27        0\n",
       "28        0\n",
       "29        0\n",
       "         ..\n",
       "663470    1\n",
       "663471    1\n",
       "663472    1\n",
       "663473    1\n",
       "663474    1\n",
       "663475    1\n",
       "663476    1\n",
       "663477    1\n",
       "663478    1\n",
       "663479    1\n",
       "663480    1\n",
       "663481    1\n",
       "663482    1\n",
       "663483    1\n",
       "663484    1\n",
       "663485    1\n",
       "663486    1\n",
       "663487    0\n",
       "663488    1\n",
       "663489    1\n",
       "663490    1\n",
       "663491    1\n",
       "663492    1\n",
       "663493    1\n",
       "663494    1\n",
       "663495    1\n",
       "663496    1\n",
       "663497    1\n",
       "663498    0\n",
       "663499    1\n",
       "Name: PRIJEVREMENI_RASKID, Length: 663500, dtype: int32"
      ]
     },
     "execution_count": 60,
     "metadata": {},
     "output_type": "execute_result"
    }
   ],
   "source": [
    "y_train"
   ]
  },
  {
   "cell_type": "code",
   "execution_count": 61,
   "metadata": {},
   "outputs": [],
   "source": [
    "import keras\n",
    "import numpy as np\n",
    "np.random.seed(7)"
   ]
  },
  {
   "cell_type": "code",
   "execution_count": null,
   "metadata": {},
   "outputs": [],
   "source": [
    "#https://medium.com/datadriveninvestor/building-neural-network-using-keras-for-classification-3a3656c726c1\n",
    "#https://medium.com/octavian-ai/which-optimizer-and-learning-rate-should-i-use-for-deep-learning-5acb418f9b2\n",
    "model = Sequential()\n",
    "model.add(Dense(10, input_dim=14, activation='relu', kernel_initializer='uniform'))\n",
    "model.add(Dense(5, activation='relu', kernel_initializer='uniform'))\n",
    "model.add(Dense(1, activation='sigmoid'))"
   ]
  },
  {
   "cell_type": "code",
   "execution_count": 63,
   "metadata": {},
   "outputs": [],
   "source": [
    "#optimizer = keras.optimizers.Adam(lr=0.00146)"
   ]
  },
  {
   "cell_type": "code",
   "execution_count": 64,
   "metadata": {},
   "outputs": [],
   "source": [
    "#Compiling the neural network\n",
    "model.compile(optimizer ='adam',loss='binary_crossentropy', metrics =['accuracy'])"
   ]
  },
  {
   "cell_type": "code",
   "execution_count": null,
   "metadata": {},
   "outputs": [],
   "source": [
    "model.fit(X_train,y_train, batch_size=64, epochs=2)"
   ]
  },
  {
   "cell_type": "code",
   "execution_count": 66,
   "metadata": {},
   "outputs": [
    {
     "name": "stdout",
     "output_type": "stream",
     "text": [
      "663500/663500 [==============================] - 7s 11us/step\n"
     ]
    },
    {
     "data": {
      "text/plain": [
       "[0.35720141318931153, 0.8643104747550867]"
      ]
     },
     "execution_count": 66,
     "metadata": {},
     "output_type": "execute_result"
    }
   ],
   "source": [
    "eval_model=model.evaluate(X_train, y_train)\n",
    "eval_model"
   ]
  },
  {
   "cell_type": "code",
   "execution_count": 67,
   "metadata": {},
   "outputs": [
    {
     "name": "stdout",
     "output_type": "stream",
     "text": [
      "_________________________________________________________________\n",
      "Layer (type)                 Output Shape              Param #   \n",
      "=================================================================\n",
      "dense_1 (Dense)              (None, 10)                150       \n",
      "_________________________________________________________________\n",
      "dense_2 (Dense)              (None, 5)                 55        \n",
      "_________________________________________________________________\n",
      "dense_3 (Dense)              (None, 1)                 6         \n",
      "=================================================================\n",
      "Total params: 211\n",
      "Trainable params: 211\n",
      "Non-trainable params: 0\n",
      "_________________________________________________________________\n"
     ]
    }
   ],
   "source": [
    "model.summary()"
   ]
  },
  {
   "cell_type": "code",
   "execution_count": 68,
   "metadata": {},
   "outputs": [],
   "source": [
    "y_pred=model.predict(X_test)\n",
    "y_pred =(y_pred>0.5)"
   ]
  },
  {
   "cell_type": "code",
   "execution_count": 69,
   "metadata": {},
   "outputs": [
    {
     "data": {
      "text/plain": [
       "array([[False],\n",
       "       [False],\n",
       "       [False],\n",
       "       ...,\n",
       "       [False],\n",
       "       [False],\n",
       "       [False]])"
      ]
     },
     "execution_count": 69,
     "metadata": {},
     "output_type": "execute_result"
    }
   ],
   "source": [
    "y_pred"
   ]
  },
  {
   "cell_type": "code",
   "execution_count": 70,
   "metadata": {},
   "outputs": [
    {
     "data": {
      "text/plain": [
       "(84903, 1)"
      ]
     },
     "execution_count": 70,
     "metadata": {},
     "output_type": "execute_result"
    }
   ],
   "source": [
    "y_pred=1*y_pred\n",
    "y_pred.shape"
   ]
  },
  {
   "cell_type": "code",
   "execution_count": 71,
   "metadata": {},
   "outputs": [],
   "source": [
    "y_pred = np.where(y_pred==0,'N', 'Y')"
   ]
  },
  {
   "cell_type": "code",
   "execution_count": 72,
   "metadata": {},
   "outputs": [
    {
     "data": {
      "text/plain": [
       "array([['N'],\n",
       "       ['N'],\n",
       "       ['N'],\n",
       "       ...,\n",
       "       ['N'],\n",
       "       ['N'],\n",
       "       ['N']], dtype='<U1')"
      ]
     },
     "execution_count": 72,
     "metadata": {},
     "output_type": "execute_result"
    }
   ],
   "source": [
    "y_pred"
   ]
  },
  {
   "cell_type": "code",
   "execution_count": 73,
   "metadata": {},
   "outputs": [],
   "source": [
    "test = pd.read_hdf('test_dataset.h5')"
   ]
  },
  {
   "cell_type": "code",
   "execution_count": 74,
   "metadata": {},
   "outputs": [],
   "source": [
    "test['PRIJEVREMENI_RASKID'] = y_pred"
   ]
  },
  {
   "cell_type": "code",
   "execution_count": null,
   "metadata": {},
   "outputs": [],
   "source": [
    "X_train = pd.read_hdf('X_train.h5')\n",
    "X_test = pd.read_hdf('X_test.h5')\n",
    "y_train = X_train['PRIJEVREMENI_RASKID']\n",
    "del X_train['PRIJEVREMENI_RASKID']"
   ]
  },
  {
   "cell_type": "code",
   "execution_count": null,
   "metadata": {},
   "outputs": [],
   "source": [
    "!pip install numpy==1.16.3"
   ]
  },
  {
   "cell_type": "code",
   "execution_count": null,
   "metadata": {},
   "outputs": [],
   "source": [
    "#https://medium.com/datadriveninvestor/building-neural-network-using-keras-for-classification-3a3656c726c1\n",
    "#https://medium.com/octavian-ai/which-optimizer-and-learning-rate-should-i-use-for-deep-learning-5acb418f9b2\n",
    "model = Sequential()\n",
    "model.add(Dense(10, input_dim=14, activation='relu', kernel_initializer='uniform'))\n",
    "model.add(Dense(5, activation='relu', kernel_initializer='uniform'))\n",
    "model.add(Dense(1, activation='sigmoid'))"
   ]
  },
  {
   "cell_type": "code",
   "execution_count": null,
   "metadata": {},
   "outputs": [],
   "source": [
    "#Compiling the neural network\n",
    "model.compile(optimizer ='adam',loss='binary_crossentropy', metrics =['accuracy'])"
   ]
  },
  {
   "cell_type": "code",
   "execution_count": null,
   "metadata": {},
   "outputs": [],
   "source": [
    "model.fit(X_train,y_train, batch_size=64, epochs=2)"
   ]
  },
  {
   "cell_type": "code",
   "execution_count": null,
   "metadata": {},
   "outputs": [],
   "source": [
    "eval_model=model.evaluate(X_train, y_train)\n",
    "eval_model"
   ]
  }
 ],
 "metadata": {
  "kernelspec": {
   "display_name": "Python 3",
   "language": "python",
   "name": "python3"
  },
  "language_info": {
   "codemirror_mode": {
    "name": "ipython",
    "version": 3
   },
   "file_extension": ".py",
   "mimetype": "text/x-python",
   "name": "python",
   "nbconvert_exporter": "python",
   "pygments_lexer": "ipython3",
   "version": "3.7.3"
  }
 },
 "nbformat": 4,
 "nbformat_minor": 2
}

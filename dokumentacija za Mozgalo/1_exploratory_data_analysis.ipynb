{
 "cells": [
  {
   "cell_type": "markdown",
   "metadata": {},
   "source": [
    "<h1> 1. Eksploratorna analiza podataka </h1>\n",
    "\n",
    "Namjena ove datoteke je da vizualiziramo podatke iz skupu za učenje te da bolje razumijemo podatke s kojima baratamo. U bilježnici se nalazi preliminarno čišćenje podataka koje će biti detaljno napravljeno u bilježnici \"data_processing\". "
   ]
  },
  {
   "cell_type": "code",
   "execution_count": 1,
   "metadata": {},
   "outputs": [],
   "source": [
    "import pandas as pd\n",
    "import matplotlib.pyplot as plt\n",
    "import numpy as np\n",
    "%matplotlib inline"
   ]
  },
  {
   "cell_type": "code",
   "execution_count": 2,
   "metadata": {},
   "outputs": [],
   "source": [
    "## DIO POTREBAN ZA BRISANJE UPOZORENJA (kako bismo sačuvali anonimnost)\n",
    "import warnings\n",
    "warnings.filterwarnings('ignore')"
   ]
  },
  {
   "cell_type": "markdown",
   "metadata": {},
   "source": [
    "<h2> Učitavanje skupa podataka i generalni uvid u podatke </h2>"
   ]
  },
  {
   "cell_type": "code",
   "execution_count": null,
   "metadata": {},
   "outputs": [],
   "source": [
    "# učitavanje podataka uz pretvorbu formata datuma \n",
    "mydateparser = lambda c: pd.to_datetime(c, format='%d.%m.%Y', errors='coerce')\n",
    "df = pd.read_csv('./data/raw/training_dataset_enc.csv', \n",
    "                 parse_dates=['DATUM_IZVJESTAVANJA', 'PLANIRANI_DATUM_ZATVARANJA', 'DATUM_OTVARANJA', 'DATUM_ZATVARANJA'], \n",
    "                 date_parser=mydateparser)"
   ]
  },
  {
   "cell_type": "code",
   "execution_count": 3,
   "metadata": {},
   "outputs": [],
   "source": [
    "# brisanje nepotrebnih stupaca \n",
    "del df['Unnamed: 0']; del df['Unnamed: 0.1']; "
   ]
  },
  {
   "cell_type": "code",
   "execution_count": null,
   "metadata": {},
   "outputs": [],
   "source": [
    "## ispis u pogodniji format - formati datuma ostaju sačuvani te se brže učitavaju podaci\n",
    "df.to_hdf('training_dataset.h5', key = 'df')"
   ]
  },
  {
   "cell_type": "code",
   "execution_count": 3,
   "metadata": {},
   "outputs": [],
   "source": [
    "## ukoliko datoteka sa skupom za učenje u novom formatu postoji u direktoriju, čitamo je ovako:\n",
    "df = pd.read_hdf('training_dataset.h5', key = 'df')"
   ]
  },
  {
   "cell_type": "code",
   "execution_count": 4,
   "metadata": {},
   "outputs": [
    {
     "data": {
      "text/plain": [
       "(5193124, 17)"
      ]
     },
     "execution_count": 4,
     "metadata": {},
     "output_type": "execute_result"
    }
   ],
   "source": [
    "df.shape"
   ]
  },
  {
   "cell_type": "code",
   "execution_count": 5,
   "metadata": {},
   "outputs": [
    {
     "data": {
      "text/html": [
       "<div>\n",
       "<style scoped>\n",
       "    .dataframe tbody tr th:only-of-type {\n",
       "        vertical-align: middle;\n",
       "    }\n",
       "\n",
       "    .dataframe tbody tr th {\n",
       "        vertical-align: top;\n",
       "    }\n",
       "\n",
       "    .dataframe thead th {\n",
       "        text-align: right;\n",
       "    }\n",
       "</style>\n",
       "<table border=\"1\" class=\"dataframe\">\n",
       "  <thead>\n",
       "    <tr style=\"text-align: right;\">\n",
       "      <th></th>\n",
       "      <th>DATUM_IZVJESTAVANJA</th>\n",
       "      <th>KLIJENT_ID</th>\n",
       "      <th>OZNAKA_PARTIJE</th>\n",
       "      <th>DATUM_OTVARANJA</th>\n",
       "      <th>PLANIRANI_DATUM_ZATVARANJA</th>\n",
       "      <th>DATUM_ZATVARANJA</th>\n",
       "      <th>UGOVORENI_IZNOS</th>\n",
       "      <th>STANJE_NA_KRAJU_PRETH_KVARTALA</th>\n",
       "      <th>STANJE_NA_KRAJU_KVARTALA</th>\n",
       "      <th>VALUTA</th>\n",
       "      <th>VRSTA_KLIJENTA</th>\n",
       "      <th>PROIZVOD</th>\n",
       "      <th>VRSTA_PROIZVODA</th>\n",
       "      <th>VISINA_KAMATE</th>\n",
       "      <th>TIP_KAMATE</th>\n",
       "      <th>STAROST</th>\n",
       "      <th>PRIJEVREMENI_RASKID</th>\n",
       "    </tr>\n",
       "  </thead>\n",
       "  <tbody>\n",
       "    <tr>\n",
       "      <th>0</th>\n",
       "      <td>2013-12-31</td>\n",
       "      <td>412140</td>\n",
       "      <td>7146814</td>\n",
       "      <td>2012-08-27</td>\n",
       "      <td>2018-04-30</td>\n",
       "      <td>NaT</td>\n",
       "      <td>629155.97</td>\n",
       "      <td>639373.81</td>\n",
       "      <td>641562.01</td>\n",
       "      <td>2</td>\n",
       "      <td>1420</td>\n",
       "      <td>TM0109</td>\n",
       "      <td>L</td>\n",
       "      <td>1.50</td>\n",
       "      <td>A</td>\n",
       "      <td>22</td>\n",
       "      <td>N</td>\n",
       "    </tr>\n",
       "    <tr>\n",
       "      <th>1</th>\n",
       "      <td>2013-12-31</td>\n",
       "      <td>772139</td>\n",
       "      <td>5521579</td>\n",
       "      <td>2010-06-11</td>\n",
       "      <td>2017-06-30</td>\n",
       "      <td>NaT</td>\n",
       "      <td>46000.00</td>\n",
       "      <td>28481.94</td>\n",
       "      <td>26887.19</td>\n",
       "      <td>1</td>\n",
       "      <td>1410</td>\n",
       "      <td>FL0801</td>\n",
       "      <td>A</td>\n",
       "      <td>9.70</td>\n",
       "      <td>B</td>\n",
       "      <td>38</td>\n",
       "      <td>N</td>\n",
       "    </tr>\n",
       "    <tr>\n",
       "      <th>2</th>\n",
       "      <td>2013-12-31</td>\n",
       "      <td>481985</td>\n",
       "      <td>7443823</td>\n",
       "      <td>2013-01-23</td>\n",
       "      <td>2018-02-28</td>\n",
       "      <td>NaT</td>\n",
       "      <td>44679.50</td>\n",
       "      <td>44908.40</td>\n",
       "      <td>45062.09</td>\n",
       "      <td>2</td>\n",
       "      <td>1550</td>\n",
       "      <td>FD0100</td>\n",
       "      <td>L</td>\n",
       "      <td>3.10</td>\n",
       "      <td>A</td>\n",
       "      <td>37</td>\n",
       "      <td>N</td>\n",
       "    </tr>\n",
       "    <tr>\n",
       "      <th>3</th>\n",
       "      <td>2013-12-31</td>\n",
       "      <td>139014</td>\n",
       "      <td>6511639</td>\n",
       "      <td>2011-09-16</td>\n",
       "      <td>2016-09-30</td>\n",
       "      <td>NaT</td>\n",
       "      <td>29959.15</td>\n",
       "      <td>19691.64</td>\n",
       "      <td>18285.89</td>\n",
       "      <td>2</td>\n",
       "      <td>1410</td>\n",
       "      <td>FL0801</td>\n",
       "      <td>A</td>\n",
       "      <td>7.95</td>\n",
       "      <td>B</td>\n",
       "      <td>49</td>\n",
       "      <td>N</td>\n",
       "    </tr>\n",
       "    <tr>\n",
       "      <th>4</th>\n",
       "      <td>2013-12-31</td>\n",
       "      <td>952566</td>\n",
       "      <td>6143123</td>\n",
       "      <td>2011-05-23</td>\n",
       "      <td>2014-05-31</td>\n",
       "      <td>NaT</td>\n",
       "      <td>100000.00</td>\n",
       "      <td>24797.93</td>\n",
       "      <td>15685.33</td>\n",
       "      <td>1</td>\n",
       "      <td>1410</td>\n",
       "      <td>FL0801</td>\n",
       "      <td>A</td>\n",
       "      <td>9.70</td>\n",
       "      <td>B</td>\n",
       "      <td>35</td>\n",
       "      <td>N</td>\n",
       "    </tr>\n",
       "  </tbody>\n",
       "</table>\n",
       "</div>"
      ],
      "text/plain": [
       "  DATUM_IZVJESTAVANJA  KLIJENT_ID  OZNAKA_PARTIJE DATUM_OTVARANJA  \\\n",
       "0          2013-12-31      412140         7146814      2012-08-27   \n",
       "1          2013-12-31      772139         5521579      2010-06-11   \n",
       "2          2013-12-31      481985         7443823      2013-01-23   \n",
       "3          2013-12-31      139014         6511639      2011-09-16   \n",
       "4          2013-12-31      952566         6143123      2011-05-23   \n",
       "\n",
       "  PLANIRANI_DATUM_ZATVARANJA DATUM_ZATVARANJA  UGOVORENI_IZNOS  \\\n",
       "0                 2018-04-30              NaT        629155.97   \n",
       "1                 2017-06-30              NaT         46000.00   \n",
       "2                 2018-02-28              NaT         44679.50   \n",
       "3                 2016-09-30              NaT         29959.15   \n",
       "4                 2014-05-31              NaT        100000.00   \n",
       "\n",
       "   STANJE_NA_KRAJU_PRETH_KVARTALA  STANJE_NA_KRAJU_KVARTALA  VALUTA  \\\n",
       "0                       639373.81                 641562.01       2   \n",
       "1                        28481.94                  26887.19       1   \n",
       "2                        44908.40                  45062.09       2   \n",
       "3                        19691.64                  18285.89       2   \n",
       "4                        24797.93                  15685.33       1   \n",
       "\n",
       "   VRSTA_KLIJENTA PROIZVOD VRSTA_PROIZVODA  VISINA_KAMATE TIP_KAMATE  STAROST  \\\n",
       "0            1420   TM0109               L           1.50          A       22   \n",
       "1            1410   FL0801               A           9.70          B       38   \n",
       "2            1550   FD0100               L           3.10          A       37   \n",
       "3            1410   FL0801               A           7.95          B       49   \n",
       "4            1410   FL0801               A           9.70          B       35   \n",
       "\n",
       "  PRIJEVREMENI_RASKID  \n",
       "0                   N  \n",
       "1                   N  \n",
       "2                   N  \n",
       "3                   N  \n",
       "4                   N  "
      ]
     },
     "execution_count": 5,
     "metadata": {},
     "output_type": "execute_result"
    }
   ],
   "source": [
    "df.head()"
   ]
  },
  {
   "cell_type": "code",
   "execution_count": 6,
   "metadata": {},
   "outputs": [
    {
     "data": {
      "text/html": [
       "<div>\n",
       "<style scoped>\n",
       "    .dataframe tbody tr th:only-of-type {\n",
       "        vertical-align: middle;\n",
       "    }\n",
       "\n",
       "    .dataframe tbody tr th {\n",
       "        vertical-align: top;\n",
       "    }\n",
       "\n",
       "    .dataframe thead th {\n",
       "        text-align: right;\n",
       "    }\n",
       "</style>\n",
       "<table border=\"1\" class=\"dataframe\">\n",
       "  <thead>\n",
       "    <tr style=\"text-align: right;\">\n",
       "      <th></th>\n",
       "      <th>KLIJENT_ID</th>\n",
       "      <th>OZNAKA_PARTIJE</th>\n",
       "      <th>UGOVORENI_IZNOS</th>\n",
       "      <th>STANJE_NA_KRAJU_PRETH_KVARTALA</th>\n",
       "      <th>STANJE_NA_KRAJU_KVARTALA</th>\n",
       "      <th>VALUTA</th>\n",
       "      <th>VRSTA_KLIJENTA</th>\n",
       "      <th>VISINA_KAMATE</th>\n",
       "      <th>STAROST</th>\n",
       "    </tr>\n",
       "  </thead>\n",
       "  <tbody>\n",
       "    <tr>\n",
       "      <th>count</th>\n",
       "      <td>5.193124e+06</td>\n",
       "      <td>5.193124e+06</td>\n",
       "      <td>5.193124e+06</td>\n",
       "      <td>4.772056e+06</td>\n",
       "      <td>5.193124e+06</td>\n",
       "      <td>5.193124e+06</td>\n",
       "      <td>5.193124e+06</td>\n",
       "      <td>5.141422e+06</td>\n",
       "      <td>5.193124e+06</td>\n",
       "    </tr>\n",
       "    <tr>\n",
       "      <th>mean</th>\n",
       "      <td>7.207398e+05</td>\n",
       "      <td>7.152089e+06</td>\n",
       "      <td>2.554007e+05</td>\n",
       "      <td>1.309054e+05</td>\n",
       "      <td>1.181028e+05</td>\n",
       "      <td>1.682643e+00</td>\n",
       "      <td>1.426380e+03</td>\n",
       "      <td>5.562767e+00</td>\n",
       "      <td>4.141305e+01</td>\n",
       "    </tr>\n",
       "    <tr>\n",
       "      <th>std</th>\n",
       "      <td>1.160615e+07</td>\n",
       "      <td>8.765659e+06</td>\n",
       "      <td>3.784332e+06</td>\n",
       "      <td>1.950900e+06</td>\n",
       "      <td>1.829336e+06</td>\n",
       "      <td>8.221024e-01</td>\n",
       "      <td>6.029030e+01</td>\n",
       "      <td>3.760118e+00</td>\n",
       "      <td>2.045255e+02</td>\n",
       "    </tr>\n",
       "    <tr>\n",
       "      <th>min</th>\n",
       "      <td>1.002000e+03</td>\n",
       "      <td>1.630070e+05</td>\n",
       "      <td>0.000000e+00</td>\n",
       "      <td>-5.981000e+01</td>\n",
       "      <td>-5.981000e+01</td>\n",
       "      <td>1.000000e+00</td>\n",
       "      <td>1.110000e+03</td>\n",
       "      <td>-4.000000e-03</td>\n",
       "      <td>-7.994000e+03</td>\n",
       "    </tr>\n",
       "    <tr>\n",
       "      <th>25%</th>\n",
       "      <td>3.708580e+05</td>\n",
       "      <td>4.275223e+06</td>\n",
       "      <td>2.956673e+04</td>\n",
       "      <td>6.897520e+03</td>\n",
       "      <td>4.032975e+02</td>\n",
       "      <td>1.000000e+00</td>\n",
       "      <td>1.410000e+03</td>\n",
       "      <td>2.350000e+00</td>\n",
       "      <td>3.500000e+01</td>\n",
       "    </tr>\n",
       "    <tr>\n",
       "      <th>50%</th>\n",
       "      <td>6.930290e+05</td>\n",
       "      <td>6.603912e+06</td>\n",
       "      <td>6.422751e+04</td>\n",
       "      <td>3.339354e+04</td>\n",
       "      <td>2.673879e+04</td>\n",
       "      <td>2.000000e+00</td>\n",
       "      <td>1.410000e+03</td>\n",
       "      <td>6.480000e+00</td>\n",
       "      <td>4.600000e+01</td>\n",
       "    </tr>\n",
       "    <tr>\n",
       "      <th>75%</th>\n",
       "      <td>1.033071e+06</td>\n",
       "      <td>9.142953e+06</td>\n",
       "      <td>1.150000e+05</td>\n",
       "      <td>8.280279e+04</td>\n",
       "      <td>7.627030e+04</td>\n",
       "      <td>2.000000e+00</td>\n",
       "      <td>1.410000e+03</td>\n",
       "      <td>8.740000e+00</td>\n",
       "      <td>5.700000e+01</td>\n",
       "    </tr>\n",
       "    <tr>\n",
       "      <th>max</th>\n",
       "      <td>9.991411e+09</td>\n",
       "      <td>1.136257e+08</td>\n",
       "      <td>6.055048e+08</td>\n",
       "      <td>6.105662e+08</td>\n",
       "      <td>6.105662e+08</td>\n",
       "      <td>5.000000e+00</td>\n",
       "      <td>1.610000e+03</td>\n",
       "      <td>8.080000e+01</td>\n",
       "      <td>9.080000e+02</td>\n",
       "    </tr>\n",
       "  </tbody>\n",
       "</table>\n",
       "</div>"
      ],
      "text/plain": [
       "         KLIJENT_ID  OZNAKA_PARTIJE  UGOVORENI_IZNOS  \\\n",
       "count  5.193124e+06    5.193124e+06     5.193124e+06   \n",
       "mean   7.207398e+05    7.152089e+06     2.554007e+05   \n",
       "std    1.160615e+07    8.765659e+06     3.784332e+06   \n",
       "min    1.002000e+03    1.630070e+05     0.000000e+00   \n",
       "25%    3.708580e+05    4.275223e+06     2.956673e+04   \n",
       "50%    6.930290e+05    6.603912e+06     6.422751e+04   \n",
       "75%    1.033071e+06    9.142953e+06     1.150000e+05   \n",
       "max    9.991411e+09    1.136257e+08     6.055048e+08   \n",
       "\n",
       "       STANJE_NA_KRAJU_PRETH_KVARTALA  STANJE_NA_KRAJU_KVARTALA        VALUTA  \\\n",
       "count                    4.772056e+06              5.193124e+06  5.193124e+06   \n",
       "mean                     1.309054e+05              1.181028e+05  1.682643e+00   \n",
       "std                      1.950900e+06              1.829336e+06  8.221024e-01   \n",
       "min                     -5.981000e+01             -5.981000e+01  1.000000e+00   \n",
       "25%                      6.897520e+03              4.032975e+02  1.000000e+00   \n",
       "50%                      3.339354e+04              2.673879e+04  2.000000e+00   \n",
       "75%                      8.280279e+04              7.627030e+04  2.000000e+00   \n",
       "max                      6.105662e+08              6.105662e+08  5.000000e+00   \n",
       "\n",
       "       VRSTA_KLIJENTA  VISINA_KAMATE       STAROST  \n",
       "count    5.193124e+06   5.141422e+06  5.193124e+06  \n",
       "mean     1.426380e+03   5.562767e+00  4.141305e+01  \n",
       "std      6.029030e+01   3.760118e+00  2.045255e+02  \n",
       "min      1.110000e+03  -4.000000e-03 -7.994000e+03  \n",
       "25%      1.410000e+03   2.350000e+00  3.500000e+01  \n",
       "50%      1.410000e+03   6.480000e+00  4.600000e+01  \n",
       "75%      1.410000e+03   8.740000e+00  5.700000e+01  \n",
       "max      1.610000e+03   8.080000e+01  9.080000e+02  "
      ]
     },
     "execution_count": 6,
     "metadata": {},
     "output_type": "execute_result"
    }
   ],
   "source": [
    "df.describe()"
   ]
  },
  {
   "cell_type": "code",
   "execution_count": 7,
   "metadata": {},
   "outputs": [
    {
     "name": "stdout",
     "output_type": "stream",
     "text": [
      "<class 'pandas.core.frame.DataFrame'>\n",
      "Int64Index: 5193124 entries, 0 to 5193123\n",
      "Data columns (total 17 columns):\n",
      "DATUM_IZVJESTAVANJA               datetime64[ns]\n",
      "KLIJENT_ID                        int64\n",
      "OZNAKA_PARTIJE                    int64\n",
      "DATUM_OTVARANJA                   datetime64[ns]\n",
      "PLANIRANI_DATUM_ZATVARANJA        datetime64[ns]\n",
      "DATUM_ZATVARANJA                  datetime64[ns]\n",
      "UGOVORENI_IZNOS                   float64\n",
      "STANJE_NA_KRAJU_PRETH_KVARTALA    float64\n",
      "STANJE_NA_KRAJU_KVARTALA          float64\n",
      "VALUTA                            int64\n",
      "VRSTA_KLIJENTA                    int64\n",
      "PROIZVOD                          object\n",
      "VRSTA_PROIZVODA                   object\n",
      "VISINA_KAMATE                     float64\n",
      "TIP_KAMATE                        object\n",
      "STAROST                           int64\n",
      "PRIJEVREMENI_RASKID               object\n",
      "dtypes: datetime64[ns](4), float64(4), int64(5), object(4)\n",
      "memory usage: 713.2+ MB\n"
     ]
    }
   ],
   "source": [
    "df.info()"
   ]
  },
  {
   "cell_type": "markdown",
   "metadata": {},
   "source": [
    "<h2> Data preprocessing </h2>"
   ]
  },
  {
   "cell_type": "markdown",
   "metadata": {},
   "source": [
    "Ciljna značajka je varijabla 'PRIJEVREMENI_RASKID'. Problem na kojem radimo je (binarni) klasifikacijski problem; ciljna značajka može poprimiti vrijednost 'Y' ili 'N'.   "
   ]
  },
  {
   "cell_type": "markdown",
   "metadata": {},
   "source": [
    "Primjećujemo da u stupcu 'STAROST' postoje netipične vrijednosti kao što su negativne vrijednosti i vrijednosti veće od 900. Rečeno nam je da to znači da podatak nije dostupan. Na prvu pretpostavljamo da se radi o pravnoj osobi pa ćemo postaviti te vrijednosti na -1 i kasnije promijeniti kada očistimo podatke te dobijemo bolji uvid. Npr. mogli bismo te netipične vrijednosti postaviti na prosjek starosti ovisno u vrsti proizvoda i klijenta."
   ]
  },
  {
   "cell_type": "code",
   "execution_count": 8,
   "metadata": {},
   "outputs": [],
   "source": [
    "df['STAROST'].values[df['STAROST'].values >= 900] = -1\n",
    "df['STAROST'].values[df['STAROST'].values < 0] = -1"
   ]
  },
  {
   "cell_type": "code",
   "execution_count": 9,
   "metadata": {},
   "outputs": [
    {
     "name": "stdout",
     "output_type": "stream",
     "text": [
      "VALUTA :  [1, 2, 3, 4, 5]\n",
      "VRSTA_KLIJENTA :  [1110, 1120, 1210, 1310, 1320, 1330, 1350, 1410, 1420, 1430, 1510, 1550, 1610]\n",
      "PROIZVOD :  ['FD0100', 'FD0200', 'FE0100', 'FE0200', 'FI0500', 'FL0201', 'FL0202', 'FL0600', 'FL0801', 'FL0802', 'FL0803', 'FL0804', 'FL0900', 'FL0901', 'FL1100', 'FL1200', 'FL1201', 'FL1202', 'FL1301', 'FL1304', 'FL1306', 'FL1309', 'FL1310', 'FL1400', 'FL1500', 'FL1600', 'FP0100', 'FS0200', 'TM0102', 'TM0104', 'TM0109', 'TM0500']\n",
      "VRSTA_PROIZVODA :  ['A', 'L']\n",
      "TIP_KAMATE :  ['A', 'B', 'C', 'D']\n",
      "PRIJEVREMENI_RASKID :  ['N', 'Y']\n"
     ]
    }
   ],
   "source": [
    "# istražujemo kategoričke varijable; koje vrijednosti mogu poprimiti \n",
    "columns = ['VALUTA', 'VRSTA_KLIJENTA', 'PROIZVOD', 'VRSTA_PROIZVODA','TIP_KAMATE', 'PRIJEVREMENI_RASKID'];\n",
    "for column_name in columns:\n",
    "    print(column_name,': ', sorted(df[column_name].unique()))"
   ]
  },
  {
   "cell_type": "markdown",
   "metadata": {},
   "source": [
    "Naknadno je objavljena napomena o vrijednostima ciljne značajke. U evaluacijskom i validacijskom skupu smatrat će se da je ugovor prijevremeno raskinut ukoliko je zatvoren najkasnije 10 dana prije planiranog datuma zatvaranja."
   ]
  },
  {
   "cell_type": "code",
   "execution_count": 10,
   "metadata": {},
   "outputs": [],
   "source": [
    "df['PRIJEVREMENI_RASKID'] = np.where(df['DATUM_ZATVARANJA']>=(df['PLANIRANI_DATUM_ZATVARANJA']- np.timedelta64(10, 'D')), \n",
    "                                     'N', df['PRIJEVREMENI_RASKID'])"
   ]
  },
  {
   "cell_type": "markdown",
   "metadata": {},
   "source": [
    "<h3> (Ne)Balansiranost skupa podataka </h3>"
   ]
  },
  {
   "cell_type": "markdown",
   "metadata": {},
   "source": [
    "Podaci sadrže izvještaje o ugovorima s bankom. Dakle, za svakog klijenta i njegov ugovor postoji varijabilni broj redaka u tablici. Također, svako produljenje ugovora ima novi datum otvaranja pa i to moramo uzeti u obzir. Kako bismo dobili uvid u distribuciju prijevremenih raskida, potrebno je \"izbaciti\" duplikate."
   ]
  },
  {
   "cell_type": "code",
   "execution_count": 11,
   "metadata": {},
   "outputs": [
    {
     "name": "stdout",
     "output_type": "stream",
     "text": [
      "Ako se svako produljenje ugovora smatra zasebno:\n",
      "Postotak prijevremeno raskinutih ugovora:  12.43 %\n",
      "Postotak ostalih ugovora:  87.57 %\n",
      "Ukupan broj ugovora:  950239\n",
      "\n",
      "Ako ugovor sa svim pripadnim produljenjima smatramo kao cjelinu:\n",
      "Postotak prijevremeno raskinutih ugovora:  20.22 %\n",
      "Postotak ostalih ugovora:  79.78 %\n",
      "Ukupan broj ugovora:  579636\n"
     ]
    }
   ],
   "source": [
    "df.sort_values(['KLIJENT_ID', 'OZNAKA_PARTIJE', 'DATUM_OTVARANJA', 'DATUM_IZVJESTAVANJA'], inplace = True)\n",
    "\n",
    "duplicates = df.copy()\n",
    "duplicates.drop_duplicates(subset = ['KLIJENT_ID', 'OZNAKA_PARTIJE', 'DATUM_OTVARANJA'], keep = 'last', inplace = True)\n",
    "\n",
    "distribucija = duplicates.groupby(['PRIJEVREMENI_RASKID']).size() / duplicates.shape[0]\n",
    "print('Ako se svako produljenje ugovora smatra zasebno:')\n",
    "print('Postotak prijevremeno raskinutih ugovora: ', '{:02.2f}'.format(distribucija[1]*100), '%')\n",
    "print('Postotak ostalih ugovora: ', '{:02.2f}'.format(distribucija[0]*100), '%')\n",
    "print('Ukupan broj ugovora: ', duplicates.shape[0])\n",
    "\n",
    "duplicates2 = df.copy()\n",
    "duplicates2.drop_duplicates(subset = ['KLIJENT_ID', 'OZNAKA_PARTIJE'], inplace = True, keep = 'last')\n",
    "\n",
    "distribucija = duplicates2.groupby(['PRIJEVREMENI_RASKID']).size() / duplicates2.shape[0]\n",
    "print('\\nAko ugovor sa svim pripadnim produljenjima smatramo kao cjelinu:')\n",
    "print('Postotak prijevremeno raskinutih ugovora: ', '{:02.2f}'.format(distribucija[1]*100), '%')\n",
    "print('Postotak ostalih ugovora: ', '{:02.2f}'.format(distribucija[0]*100), '%')\n",
    "print('Ukupan broj ugovora: ', duplicates2.shape[0])"
   ]
  },
  {
   "cell_type": "markdown",
   "metadata": {},
   "source": [
    "Zaključujemo da je dataset nebalansiran pa moramo to uzeti u obzir pri odabiru ML modela i metoda pripreme podataka."
   ]
  },
  {
   "cell_type": "markdown",
   "metadata": {},
   "source": [
    "<h3>Missing values </h3>\n",
    "\n",
    "Mnoge vrijednosti u tablici nedostaju pa će ih biti potrebno na neki način \"popuniti\". Promatranjem tablice zaključujemo da se neke varijable poput 'PLANIRANI_DATUM_ZATVARANJA' i 'DATUM_ZATVARANJA' ne pojavljuju nužno u prvom kvartalnom izvještaju ugovora pa ih je potrebno \"povući\" iz sljedećih izvještaja. \n",
    "\n",
    "Vrijednosti varijable 'STANJE_NA_KRAJU_PRETH_KVARTALA' možemo postaviti na ugovoreni iznos.\n",
    "\n",
    "Varijablu 'VISINA_KAMATE' ćemo popuniti ovisno o vrsti proizvoda i vrsti klijenta, a STAROST ovisno o vrsti klijenta.\n",
    "\n",
    "Uvidom u podatke je utvrđeno da se među njima nalaze i krediti koji još nisu zatvoreni pa je logično da za njih nemamo podatak o datumu zatvaranja."
   ]
  },
  {
   "cell_type": "code",
   "execution_count": 12,
   "metadata": {},
   "outputs": [
    {
     "name": "stdout",
     "output_type": "stream",
     "text": [
      "DATUM_IZVJESTAVANJA                     0\n",
      "KLIJENT_ID                              0\n",
      "OZNAKA_PARTIJE                          0\n",
      "DATUM_OTVARANJA                         0\n",
      "PLANIRANI_DATUM_ZATVARANJA         421129\n",
      "DATUM_ZATVARANJA                  3978638\n",
      "UGOVORENI_IZNOS                         0\n",
      "STANJE_NA_KRAJU_PRETH_KVARTALA     421068\n",
      "STANJE_NA_KRAJU_KVARTALA                0\n",
      "VALUTA                                  0\n",
      "VRSTA_KLIJENTA                          0\n",
      "PROIZVOD                                0\n",
      "VRSTA_PROIZVODA                         0\n",
      "VISINA_KAMATE                       51702\n",
      "TIP_KAMATE                              0\n",
      "STAROST                                 0\n",
      "PRIJEVREMENI_RASKID                     0\n",
      "dtype: int64\n"
     ]
    }
   ],
   "source": [
    "missing_values = df.isnull().sum()\n",
    "print(missing_values)"
   ]
  },
  {
   "cell_type": "markdown",
   "metadata": {},
   "source": [
    "Popunjavanje nedostajućih vrijednosti tamo gdje treba ćemo učiniti nakon što transformiramo skup podataka. Naime, da bismo primijenile željene ML algoritme, potrebno je izvući informacije o pojedinom ugovoru iz pripadajućih izvještaja tako da svedemo podatke tog ugovora na jedan redak dataframe-a. \n",
    "\n",
    "Ugovor je određen značajkama 'KLIJENT_ID', 'OZNAKA_PARTIJE' i 'DATUM_OTVARANJA'. Transformirat ćemo podatke tako da definiramo nove mjere (značajke) koje će odražavati trend ugovora i bitno utjecati na ciljnu značajku.\n",
    "\n",
    "Također, nakon što transformiramo dataset, izbacit ćemo nerelevantne značajke za treniranje modela kao što je 'OZNAKA_PARTIJE'. i sl. "
   ]
  },
  {
   "cell_type": "markdown",
   "metadata": {},
   "source": [
    "<h2> Vizualizacija značajki </h2>\n",
    "\n",
    "Kako bismo mogle vizualizirati neke značajke, napravit ćemo kopiju podataka i tamo izbaciti značajke vezane uz izvještaje te sažeti dataset."
   ]
  },
  {
   "cell_type": "code",
   "execution_count": 13,
   "metadata": {},
   "outputs": [
    {
     "data": {
      "text/html": [
       "<div>\n",
       "<style scoped>\n",
       "    .dataframe tbody tr th:only-of-type {\n",
       "        vertical-align: middle;\n",
       "    }\n",
       "\n",
       "    .dataframe tbody tr th {\n",
       "        vertical-align: top;\n",
       "    }\n",
       "\n",
       "    .dataframe thead th {\n",
       "        text-align: right;\n",
       "    }\n",
       "</style>\n",
       "<table border=\"1\" class=\"dataframe\">\n",
       "  <thead>\n",
       "    <tr style=\"text-align: right;\">\n",
       "      <th></th>\n",
       "      <th>DATUM_IZVJESTAVANJA</th>\n",
       "      <th>KLIJENT_ID</th>\n",
       "      <th>OZNAKA_PARTIJE</th>\n",
       "      <th>DATUM_OTVARANJA</th>\n",
       "      <th>PLANIRANI_DATUM_ZATVARANJA</th>\n",
       "      <th>DATUM_ZATVARANJA</th>\n",
       "      <th>UGOVORENI_IZNOS</th>\n",
       "      <th>STANJE_NA_KRAJU_PRETH_KVARTALA</th>\n",
       "      <th>STANJE_NA_KRAJU_KVARTALA</th>\n",
       "      <th>VALUTA</th>\n",
       "      <th>VRSTA_KLIJENTA</th>\n",
       "      <th>PROIZVOD</th>\n",
       "      <th>VRSTA_PROIZVODA</th>\n",
       "      <th>VISINA_KAMATE</th>\n",
       "      <th>TIP_KAMATE</th>\n",
       "      <th>STAROST</th>\n",
       "      <th>PRIJEVREMENI_RASKID</th>\n",
       "    </tr>\n",
       "  </thead>\n",
       "  <tbody>\n",
       "    <tr>\n",
       "      <th>2427362</th>\n",
       "      <td>2018-09-30</td>\n",
       "      <td>233737</td>\n",
       "      <td>1407556</td>\n",
       "      <td>2015-09-30</td>\n",
       "      <td>2036-12-31</td>\n",
       "      <td>NaT</td>\n",
       "      <td>363910.34</td>\n",
       "      <td>294373.93</td>\n",
       "      <td>293767.05</td>\n",
       "      <td>2</td>\n",
       "      <td>1410</td>\n",
       "      <td>FL1301</td>\n",
       "      <td>A</td>\n",
       "      <td>5.25</td>\n",
       "      <td>A</td>\n",
       "      <td>39</td>\n",
       "      <td>N</td>\n",
       "    </tr>\n",
       "    <tr>\n",
       "      <th>979785</th>\n",
       "      <td>2017-06-30</td>\n",
       "      <td>671533</td>\n",
       "      <td>9967124</td>\n",
       "      <td>2017-06-16</td>\n",
       "      <td>2017-06-16</td>\n",
       "      <td>NaT</td>\n",
       "      <td>32219.08</td>\n",
       "      <td>32190.63</td>\n",
       "      <td>32219.08</td>\n",
       "      <td>1</td>\n",
       "      <td>1410</td>\n",
       "      <td>TM0109</td>\n",
       "      <td>L</td>\n",
       "      <td>0.25</td>\n",
       "      <td>A</td>\n",
       "      <td>40</td>\n",
       "      <td>N</td>\n",
       "    </tr>\n",
       "    <tr>\n",
       "      <th>2190986</th>\n",
       "      <td>2015-06-30</td>\n",
       "      <td>554166</td>\n",
       "      <td>5740872</td>\n",
       "      <td>2010-11-29</td>\n",
       "      <td>2017-11-30</td>\n",
       "      <td>NaT</td>\n",
       "      <td>59291.38</td>\n",
       "      <td>27763.49</td>\n",
       "      <td>25207.59</td>\n",
       "      <td>2</td>\n",
       "      <td>1410</td>\n",
       "      <td>FL0801</td>\n",
       "      <td>A</td>\n",
       "      <td>8.55</td>\n",
       "      <td>B</td>\n",
       "      <td>44</td>\n",
       "      <td>N</td>\n",
       "    </tr>\n",
       "    <tr>\n",
       "      <th>627354</th>\n",
       "      <td>2012-03-31</td>\n",
       "      <td>115279</td>\n",
       "      <td>6552561</td>\n",
       "      <td>2011-10-20</td>\n",
       "      <td>2021-10-31</td>\n",
       "      <td>NaT</td>\n",
       "      <td>68131.07</td>\n",
       "      <td>67996.53</td>\n",
       "      <td>66634.77</td>\n",
       "      <td>2</td>\n",
       "      <td>1410</td>\n",
       "      <td>FL0801</td>\n",
       "      <td>A</td>\n",
       "      <td>7.95</td>\n",
       "      <td>C</td>\n",
       "      <td>35</td>\n",
       "      <td>N</td>\n",
       "    </tr>\n",
       "    <tr>\n",
       "      <th>4819167</th>\n",
       "      <td>2017-09-30</td>\n",
       "      <td>1211759</td>\n",
       "      <td>6735743</td>\n",
       "      <td>2017-02-25</td>\n",
       "      <td>2018-02-26</td>\n",
       "      <td>NaT</td>\n",
       "      <td>41126.90</td>\n",
       "      <td>41126.90</td>\n",
       "      <td>41126.90</td>\n",
       "      <td>1</td>\n",
       "      <td>1410</td>\n",
       "      <td>TM0109</td>\n",
       "      <td>L</td>\n",
       "      <td>1.45</td>\n",
       "      <td>A</td>\n",
       "      <td>34</td>\n",
       "      <td>N</td>\n",
       "    </tr>\n",
       "    <tr>\n",
       "      <th>2498645</th>\n",
       "      <td>2013-09-30</td>\n",
       "      <td>294267</td>\n",
       "      <td>7488340</td>\n",
       "      <td>2013-02-08</td>\n",
       "      <td>2014-02-09</td>\n",
       "      <td>NaT</td>\n",
       "      <td>450000.00</td>\n",
       "      <td>450000.00</td>\n",
       "      <td>450000.00</td>\n",
       "      <td>1</td>\n",
       "      <td>1550</td>\n",
       "      <td>TM0109</td>\n",
       "      <td>L</td>\n",
       "      <td>4.20</td>\n",
       "      <td>A</td>\n",
       "      <td>54</td>\n",
       "      <td>N</td>\n",
       "    </tr>\n",
       "    <tr>\n",
       "      <th>1956559</th>\n",
       "      <td>2012-03-31</td>\n",
       "      <td>735560</td>\n",
       "      <td>6551120</td>\n",
       "      <td>2011-10-20</td>\n",
       "      <td>2012-01-21</td>\n",
       "      <td>2012-01-21</td>\n",
       "      <td>70000.00</td>\n",
       "      <td>70000.00</td>\n",
       "      <td>0.00</td>\n",
       "      <td>1</td>\n",
       "      <td>1410</td>\n",
       "      <td>TM0109</td>\n",
       "      <td>L</td>\n",
       "      <td>3.30</td>\n",
       "      <td>A</td>\n",
       "      <td>37</td>\n",
       "      <td>N</td>\n",
       "    </tr>\n",
       "    <tr>\n",
       "      <th>3627303</th>\n",
       "      <td>2015-12-31</td>\n",
       "      <td>48446</td>\n",
       "      <td>584460</td>\n",
       "      <td>2014-01-12</td>\n",
       "      <td>2017-01-13</td>\n",
       "      <td>NaT</td>\n",
       "      <td>139349.19</td>\n",
       "      <td>144732.06</td>\n",
       "      <td>144788.36</td>\n",
       "      <td>2</td>\n",
       "      <td>1410</td>\n",
       "      <td>TM0109</td>\n",
       "      <td>L</td>\n",
       "      <td>2.85</td>\n",
       "      <td>A</td>\n",
       "      <td>47</td>\n",
       "      <td>N</td>\n",
       "    </tr>\n",
       "    <tr>\n",
       "      <th>4664258</th>\n",
       "      <td>2011-03-31</td>\n",
       "      <td>363141</td>\n",
       "      <td>1436201</td>\n",
       "      <td>2003-05-16</td>\n",
       "      <td>2018-05-31</td>\n",
       "      <td>NaT</td>\n",
       "      <td>225376.32</td>\n",
       "      <td>136979.38</td>\n",
       "      <td>133346.42</td>\n",
       "      <td>2</td>\n",
       "      <td>1410</td>\n",
       "      <td>FL1301</td>\n",
       "      <td>A</td>\n",
       "      <td>6.75</td>\n",
       "      <td>C</td>\n",
       "      <td>54</td>\n",
       "      <td>N</td>\n",
       "    </tr>\n",
       "    <tr>\n",
       "      <th>4502931</th>\n",
       "      <td>2016-12-31</td>\n",
       "      <td>211372</td>\n",
       "      <td>12335232</td>\n",
       "      <td>2016-11-08</td>\n",
       "      <td>NaT</td>\n",
       "      <td>NaT</td>\n",
       "      <td>15015.47</td>\n",
       "      <td>NaN</td>\n",
       "      <td>14431.58</td>\n",
       "      <td>1</td>\n",
       "      <td>1410</td>\n",
       "      <td>FL0801</td>\n",
       "      <td>A</td>\n",
       "      <td>7.14</td>\n",
       "      <td>B</td>\n",
       "      <td>63</td>\n",
       "      <td>N</td>\n",
       "    </tr>\n",
       "  </tbody>\n",
       "</table>\n",
       "</div>"
      ],
      "text/plain": [
       "        DATUM_IZVJESTAVANJA  KLIJENT_ID  OZNAKA_PARTIJE DATUM_OTVARANJA  \\\n",
       "2427362          2018-09-30      233737         1407556      2015-09-30   \n",
       "979785           2017-06-30      671533         9967124      2017-06-16   \n",
       "2190986          2015-06-30      554166         5740872      2010-11-29   \n",
       "627354           2012-03-31      115279         6552561      2011-10-20   \n",
       "4819167          2017-09-30     1211759         6735743      2017-02-25   \n",
       "2498645          2013-09-30      294267         7488340      2013-02-08   \n",
       "1956559          2012-03-31      735560         6551120      2011-10-20   \n",
       "3627303          2015-12-31       48446          584460      2014-01-12   \n",
       "4664258          2011-03-31      363141         1436201      2003-05-16   \n",
       "4502931          2016-12-31      211372        12335232      2016-11-08   \n",
       "\n",
       "        PLANIRANI_DATUM_ZATVARANJA DATUM_ZATVARANJA  UGOVORENI_IZNOS  \\\n",
       "2427362                 2036-12-31              NaT        363910.34   \n",
       "979785                  2017-06-16              NaT         32219.08   \n",
       "2190986                 2017-11-30              NaT         59291.38   \n",
       "627354                  2021-10-31              NaT         68131.07   \n",
       "4819167                 2018-02-26              NaT         41126.90   \n",
       "2498645                 2014-02-09              NaT        450000.00   \n",
       "1956559                 2012-01-21       2012-01-21         70000.00   \n",
       "3627303                 2017-01-13              NaT        139349.19   \n",
       "4664258                 2018-05-31              NaT        225376.32   \n",
       "4502931                        NaT              NaT         15015.47   \n",
       "\n",
       "         STANJE_NA_KRAJU_PRETH_KVARTALA  STANJE_NA_KRAJU_KVARTALA  VALUTA  \\\n",
       "2427362                       294373.93                 293767.05       2   \n",
       "979785                         32190.63                  32219.08       1   \n",
       "2190986                        27763.49                  25207.59       2   \n",
       "627354                         67996.53                  66634.77       2   \n",
       "4819167                        41126.90                  41126.90       1   \n",
       "2498645                       450000.00                 450000.00       1   \n",
       "1956559                        70000.00                      0.00       1   \n",
       "3627303                       144732.06                 144788.36       2   \n",
       "4664258                       136979.38                 133346.42       2   \n",
       "4502931                             NaN                  14431.58       1   \n",
       "\n",
       "         VRSTA_KLIJENTA PROIZVOD VRSTA_PROIZVODA  VISINA_KAMATE TIP_KAMATE  \\\n",
       "2427362            1410   FL1301               A           5.25          A   \n",
       "979785             1410   TM0109               L           0.25          A   \n",
       "2190986            1410   FL0801               A           8.55          B   \n",
       "627354             1410   FL0801               A           7.95          C   \n",
       "4819167            1410   TM0109               L           1.45          A   \n",
       "2498645            1550   TM0109               L           4.20          A   \n",
       "1956559            1410   TM0109               L           3.30          A   \n",
       "3627303            1410   TM0109               L           2.85          A   \n",
       "4664258            1410   FL1301               A           6.75          C   \n",
       "4502931            1410   FL0801               A           7.14          B   \n",
       "\n",
       "         STAROST PRIJEVREMENI_RASKID  \n",
       "2427362       39                   N  \n",
       "979785        40                   N  \n",
       "2190986       44                   N  \n",
       "627354        35                   N  \n",
       "4819167       34                   N  \n",
       "2498645       54                   N  \n",
       "1956559       37                   N  \n",
       "3627303       47                   N  \n",
       "4664258       54                   N  \n",
       "4502931       63                   N  "
      ]
     },
     "execution_count": 13,
     "metadata": {},
     "output_type": "execute_result"
    }
   ],
   "source": [
    "df_copy = df.copy()\n",
    "df_copy.sample(n=10)"
   ]
  },
  {
   "cell_type": "code",
   "execution_count": 14,
   "metadata": {},
   "outputs": [
    {
     "data": {
      "text/plain": [
       "(5193124, 17)"
      ]
     },
     "execution_count": 14,
     "metadata": {},
     "output_type": "execute_result"
    }
   ],
   "source": [
    "df_copy.shape"
   ]
  },
  {
   "cell_type": "code",
   "execution_count": 15,
   "metadata": {},
   "outputs": [],
   "source": [
    "df_copy.drop_duplicates(subset = ['KLIJENT_ID', 'OZNAKA_PARTIJE', 'DATUM_OTVARANJA'], keep = 'last', inplace = True)"
   ]
  },
  {
   "cell_type": "code",
   "execution_count": 16,
   "metadata": {},
   "outputs": [
    {
     "data": {
      "text/plain": [
       "(950239, 17)"
      ]
     },
     "execution_count": 16,
     "metadata": {},
     "output_type": "execute_result"
    }
   ],
   "source": [
    "df_copy.shape"
   ]
  },
  {
   "cell_type": "code",
   "execution_count": 16,
   "metadata": {},
   "outputs": [],
   "source": [
    "del_col_list = ['DATUM_IZVJESTAVANJA','PLANIRANI_DATUM_ZATVARANJA', 'DATUM_ZATVARANJA',\n",
    "       'STANJE_NA_KRAJU_PRETH_KVARTALA', 'STANJE_NA_KRAJU_KVARTALA']\n",
    "df_copy.drop(del_col_list, axis = 1, inplace = True)"
   ]
  },
  {
   "cell_type": "code",
   "execution_count": 17,
   "metadata": {},
   "outputs": [],
   "source": [
    "prijevremeni_raskidi = df_copy.loc[ df_copy['PRIJEVREMENI_RASKID'] == 'Y', : ]\n",
    "neprijevremeni_raskidi = df_copy.loc[ df_copy['PRIJEVREMENI_RASKID'] == 'N', : ]"
   ]
  },
  {
   "cell_type": "code",
   "execution_count": 18,
   "metadata": {},
   "outputs": [
    {
     "data": {
      "text/plain": [
       "Index(['DATUM_IZVJESTAVANJA', 'KLIJENT_ID', 'OZNAKA_PARTIJE',\n",
       "       'DATUM_OTVARANJA', 'PLANIRANI_DATUM_ZATVARANJA', 'DATUM_ZATVARANJA',\n",
       "       'UGOVORENI_IZNOS', 'STANJE_NA_KRAJU_PRETH_KVARTALA',\n",
       "       'STANJE_NA_KRAJU_KVARTALA', 'VALUTA', 'VRSTA_KLIJENTA', 'PROIZVOD',\n",
       "       'VRSTA_PROIZVODA', 'VISINA_KAMATE', 'TIP_KAMATE', 'STAROST',\n",
       "       'PRIJEVREMENI_RASKID'],\n",
       "      dtype='object')"
      ]
     },
     "execution_count": 18,
     "metadata": {},
     "output_type": "execute_result"
    }
   ],
   "source": [
    "df.columns"
   ]
  },
  {
   "cell_type": "code",
   "execution_count": 19,
   "metadata": {},
   "outputs": [
    {
     "data": {
      "text/plain": [
       "<matplotlib.legend.Legend at 0x2b50f1dd860>"
      ]
     },
     "execution_count": 19,
     "metadata": {},
     "output_type": "execute_result"
    },
    {
     "data": {
      "image/png": "[encoded data removed]",
      "text/plain": [
       "<Figure size 720x216 with 2 Axes>"
      ]
     },
     "metadata": {
      "needs_background": "light"
     },
     "output_type": "display_data"
    }
   ],
   "source": [
    "fig, axes = plt.subplots(1, 2, figsize=(10, 3))\n",
    "ax = axes.ravel() # axes are 2-dimensional so we unfold them\n",
    "\n",
    "i = 3 \n",
    "_, bins = np.histogram(df_copy.iloc[:,i], bins=50)\n",
    "ax[0].hist(prijevremeni_raskidi.iloc[:,i], bins=bins, color='r', alpha=.5, label='prijevremeni raskid')\n",
    "ax[0].hist(neprijevremeni_raskidi.iloc[:,i], bins=bins, color='b', alpha=.5, label='neprijevremeni raskid')\n",
    "ax[0].set_title(df_copy.columns.values[i])\n",
    "ax[0].set_yticks(()) # remove ticks on y-axis\n",
    "ax[0].legend(loc='upper right')\n",
    "\n",
    "i = 10\n",
    "_, bins = np.histogram(df_copy.iloc[:,i], bins=50)\n",
    "ax[1].hist(prijevremeni_raskidi.iloc[:,i], bins=bins, color='r', alpha=.5, label='prijevremeni raskid')\n",
    "ax[1].hist(neprijevremeni_raskidi.iloc[:,i], bins=bins, color='b', alpha=.5, label='neprijevremeni raskid')\n",
    "ax[1].set_title(df_copy.columns.values[i])\n",
    "ax[1].set_yticks(()) # remove ticks on y-axis\n",
    "ax[1].legend(loc='upper right')\n",
    "\n"
   ]
  },
  {
   "cell_type": "markdown",
   "metadata": {},
   "source": [
    "Još i u početku analize se može primijetiti da postoje ekstremne vrijednosti u stupcu 'UGOVORENI_IZNOS', što dolazi do izražaja u histogramu.\n",
    "\n",
    "Iz drugog histograma vidimo da značajka 'STAROST' ne razdvaja dobro klase sama po sebi što je i očekivano.\n",
    "\n",
    "\n"
   ]
  },
  {
   "cell_type": "code",
   "execution_count": 20,
   "metadata": {},
   "outputs": [
    {
     "data": {
      "text/plain": [
       "<matplotlib.legend.Legend at 0x2b50cd768d0>"
      ]
     },
     "execution_count": 20,
     "metadata": {},
     "output_type": "execute_result"
    },
    {
     "data": {
      "image/png": "[encoded data removed]",
      "text/plain": [
       "<Figure size 720x216 with 1 Axes>"
      ]
     },
     "metadata": {
      "needs_background": "light"
     },
     "output_type": "display_data"
    }
   ],
   "source": [
    "# izdvajamo podatke gdje ugovoreni iznos nije ekstreman radi bolje vizualizacije\n",
    "subdf = df_copy[df_copy['UGOVORENI_IZNOS'] < 2e5]\n",
    "prijevremeni_raskidi = subdf.loc[ subdf['PRIJEVREMENI_RASKID'] == 'Y', : ]\n",
    "neprijevremeni_raskidi = subdf.loc[ subdf['PRIJEVREMENI_RASKID'] == 'N', : ]\n",
    "\n",
    "fig, ax = plt.subplots(1, 1, figsize=(10, 3))\n",
    "\n",
    "i = 3 \n",
    "_, bins = np.histogram(subdf.iloc[:,i], bins=50)\n",
    "ax.hist(prijevremeni_raskidi.iloc[:,i], bins=bins, color='r', alpha=.5, label='prijevremeni raskid')\n",
    "ax.hist(neprijevremeni_raskidi.iloc[:,i], bins=bins, color='b', alpha=.5, label='neprijevremeni raskid')\n",
    "ax.set_title(subdf.columns.values[i])\n",
    "ax.set_yticks(()) # remove ticks on y-axis\n",
    "ax.legend(loc='upper right')"
   ]
  },
  {
   "cell_type": "markdown",
   "metadata": {},
   "source": [
    "Na gornjem histogramu bolje uočavamo odnos klasa ovisno o ugovorenom iznosu. Također zaključujemo da ta značajka sama po sebi ne razdvaja dobro klase, ali to samo potvrđuje naše mišljenje."
   ]
  },
  {
   "cell_type": "code",
   "execution_count": 21,
   "metadata": {},
   "outputs": [],
   "source": [
    "import seaborn as sns\n",
    "\n",
    "# pomocna funkcija za opis kategorickih varijabli, \n",
    "# preuzeta sa \n",
    "# https://towardsdatascience.com/a-starter-pack-to-exploratory-data-analysis-with-python-pandas-seaborn-and-scikit-learn-a77889485baf\n",
    "\n",
    "def categorical_summarized(dataframe, x=None, y=None, hue=None, palette='Set1', verbose=True):\n",
    "    '''\n",
    "    Helper function that gives a quick summary of a given column of categorical data\n",
    "    Arguments\n",
    "    =========\n",
    "    dataframe: pandas dataframe\n",
    "    x: str. horizontal axis to plot the labels of categorical data, y would be the count\n",
    "    y: str. vertical axis to plot the labels of categorical data, x would be the count\n",
    "    hue: str. if you want to compare it another variable (usually the target variable)\n",
    "    palette: array-like. Colour of the plot\n",
    "    Returns\n",
    "    =======\n",
    "    Quick Stats of the data and also the count plot\n",
    "    '''\n",
    "    if x == None:\n",
    "        column_interested = y\n",
    "    else:\n",
    "        column_interested = x\n",
    "    series = dataframe[column_interested]\n",
    "    print(series.describe())\n",
    "    print('mode: ', series.mode())\n",
    "    if verbose:\n",
    "        print('='*80)\n",
    "        print(series.value_counts())\n",
    "\n",
    "    sns.countplot(x=x, y=y, hue=hue, data=dataframe, palette=palette)\n",
    "    plt.show()"
   ]
  },
  {
   "cell_type": "code",
   "execution_count": 22,
   "metadata": {},
   "outputs": [
    {
     "name": "stdout",
     "output_type": "stream",
     "text": [
      "count     950239\n",
      "unique         2\n",
      "top            N\n",
      "freq      832139\n",
      "Name: PRIJEVREMENI_RASKID, dtype: object\n",
      "mode:  0    N\n",
      "dtype: object\n",
      "================================================================================\n",
      "N    832139\n",
      "Y    118100\n",
      "Name: PRIJEVREMENI_RASKID, dtype: int64\n"
     ]
    },
    {
     "data": {
      "image/png": "[encoded data removed]",
      "text/plain": [
       "<Figure size 432x288 with 1 Axes>"
      ]
     },
     "metadata": {
      "needs_background": "light"
     },
     "output_type": "display_data"
    }
   ],
   "source": [
    "c_palette = ['tab:blue', 'tab:orange']\n",
    "# vizualizacija balansiranosti dataset-a\n",
    "categorical_summarized(df_copy, y = 'PRIJEVREMENI_RASKID', palette=c_palette)"
   ]
  },
  {
   "cell_type": "code",
   "execution_count": 23,
   "metadata": {},
   "outputs": [
    {
     "name": "stdout",
     "output_type": "stream",
     "text": [
      "count    950239.000000\n",
      "mean          1.744054\n",
      "std           0.803767\n",
      "min           1.000000\n",
      "25%           1.000000\n",
      "50%           2.000000\n",
      "75%           2.000000\n",
      "max           5.000000\n",
      "Name: VALUTA, dtype: float64\n",
      "mode:  0    2\n",
      "dtype: int64\n",
      "================================================================================\n",
      "2    464745\n",
      "1    393151\n",
      "3     43672\n",
      "4     39744\n",
      "5      8927\n",
      "Name: VALUTA, dtype: int64\n"
     ]
    },
    {
     "data": {
      "image/png": "[encoded data removed]",
      "text/plain": [
       "<Figure size 432x288 with 1 Axes>"
      ]
     },
     "metadata": {
      "needs_background": "light"
     },
     "output_type": "display_data"
    }
   ],
   "source": [
    "categorical_summarized(df_copy, y = 'VALUTA', hue = 'PRIJEVREMENI_RASKID', palette=c_palette)"
   ]
  },
  {
   "cell_type": "code",
   "execution_count": 24,
   "metadata": {},
   "outputs": [
    {
     "name": "stdout",
     "output_type": "stream",
     "text": [
      "count    950239.000000\n",
      "mean       1429.972354\n",
      "std          64.790949\n",
      "min        1110.000000\n",
      "25%        1410.000000\n",
      "50%        1410.000000\n",
      "75%        1410.000000\n",
      "max        1610.000000\n",
      "Name: VRSTA_KLIJENTA, dtype: float64\n",
      "mode:  0    1410\n",
      "dtype: int64\n",
      "================================================================================\n",
      "1410    766244\n",
      "1550    131484\n",
      "1610     18232\n",
      "1430      9382\n",
      "1420      6191\n",
      "1110      6108\n",
      "1120      5206\n",
      "1510      3607\n",
      "1320      2898\n",
      "1350       443\n",
      "1330       237\n",
      "1210       167\n",
      "1310        40\n",
      "Name: VRSTA_KLIJENTA, dtype: int64\n"
     ]
    },
    {
     "data": {
      "image/png": "[encoded data removed]",
      "text/plain": [
       "<Figure size 432x288 with 1 Axes>"
      ]
     },
     "metadata": {
      "needs_background": "light"
     },
     "output_type": "display_data"
    }
   ],
   "source": [
    "categorical_summarized(df_copy, y = 'VRSTA_KLIJENTA', hue = 'PRIJEVREMENI_RASKID', palette=c_palette)"
   ]
  },
  {
   "cell_type": "markdown",
   "metadata": {},
   "source": [
    "Primjećujemo da ima daleko više klijenata vrste '1410'  od ostalih pa bismo mogli zaključiti da se radi o fizičkim osobama."
   ]
  },
  {
   "cell_type": "code",
   "execution_count": 25,
   "metadata": {},
   "outputs": [
    {
     "name": "stdout",
     "output_type": "stream",
     "text": [
      "count     950239\n",
      "unique         2\n",
      "top            L\n",
      "freq      629313\n",
      "Name: VRSTA_PROIZVODA, dtype: object\n",
      "mode:  0    L\n",
      "dtype: object\n",
      "================================================================================\n",
      "L    629313\n",
      "A    320926\n",
      "Name: VRSTA_PROIZVODA, dtype: int64\n"
     ]
    },
    {
     "data": {
      "image/png": "[encoded data removed]",
      "text/plain": [
       "<Figure size 432x288 with 1 Axes>"
      ]
     },
     "metadata": {
      "needs_background": "light"
     },
     "output_type": "display_data"
    }
   ],
   "source": [
    "categorical_summarized(df_copy, y = 'VRSTA_PROIZVODA', hue = 'PRIJEVREMENI_RASKID', palette=c_palette)"
   ]
  },
  {
   "cell_type": "code",
   "execution_count": 26,
   "metadata": {},
   "outputs": [
    {
     "name": "stdout",
     "output_type": "stream",
     "text": [
      "count     950239\n",
      "unique         4\n",
      "top            A\n",
      "freq      672051\n",
      "Name: TIP_KAMATE, dtype: object\n",
      "mode:  0    A\n",
      "dtype: object\n",
      "================================================================================\n",
      "A    672051\n",
      "C    157232\n",
      "B    120947\n",
      "D         9\n",
      "Name: TIP_KAMATE, dtype: int64\n"
     ]
    },
    {
     "data": {
      "image/png": "[encoded data removed]",
      "text/plain": [
       "<Figure size 432x288 with 1 Axes>"
      ]
     },
     "metadata": {
      "needs_background": "light"
     },
     "output_type": "display_data"
    }
   ],
   "source": [
    "categorical_summarized(df_copy, y = 'TIP_KAMATE', hue = 'PRIJEVREMENI_RASKID', palette=c_palette)"
   ]
  },
  {
   "cell_type": "markdown",
   "metadata": {},
   "source": [
    "<h2> Sljedeći koraci </h2>\n",
    "\n",
    " - nastavak čišćenja dataset-a: outlieri, nelogičnosti, nekonzistentni podaci...\n",
    " - definicija novih značajki koje će odraziti informacije iz izvještaja o ugovorima (za pojedini ugovor) \n",
    " - enkodiranje kategoričkih značajki \n",
    " - odabir značajki\n",
    " - treniranje raznih ML modela ( + odabir hiperparametara po potrebi), evaluacija, validacija "
   ]
  }
 ],
 "metadata": {
  "kernelspec": {
   "display_name": "Python 3",
   "language": "python",
   "name": "python3"
  },
  "language_info": {
   "codemirror_mode": {
    "name": "ipython",
    "version": 3
   },
   "file_extension": ".py",
   "mimetype": "text/x-python",
   "name": "python",
   "nbconvert_exporter": "python",
   "pygments_lexer": "ipython3",
   "version": "3.7.3"
  }
 },
 "nbformat": 4,
 "nbformat_minor": 2
}

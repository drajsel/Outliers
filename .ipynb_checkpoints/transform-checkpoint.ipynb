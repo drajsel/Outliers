{
 "cells": [
  {
   "cell_type": "code",
   "execution_count": 1,
   "metadata": {},
   "outputs": [],
   "source": [
    "import pandas as pd\n",
    "import matplotlib.pyplot as plt\n",
    "import numpy as np\n",
    "%matplotlib inline"
   ]
  },
  {
   "cell_type": "code",
   "execution_count": 2,
   "metadata": {},
   "outputs": [
    {
     "name": "stdout",
     "output_type": "stream",
     "text": [
      "5.5400168895721436\n"
     ]
    }
   ],
   "source": [
    "# nakon što stavimo datoteke na Git uvijek čitati u ovomo obliku! (štedi vrijeme)\n",
    "import time\n",
    "start = time.time()\n",
    "df = pd.read_hdf('./data/raw/training_dataset.h5', 'df')\n",
    "end = time.time()\n",
    "print(end - start)\n",
    "\n",
    "# nakon što napravimo promjene kako treba, exportat ću ih u novu datoteku pomoću naredbe\n",
    "# df.to_hdf('training_dataset2.h5', key='df')"
   ]
  },
  {
   "cell_type": "code",
   "execution_count": 3,
   "metadata": {},
   "outputs": [
    {
     "name": "stdout",
     "output_type": "stream",
     "text": [
      "Index(['DATUM_IZVJESTAVANJA', 'KLIJENT_ID', 'OZNAKA_PARTIJE',\n",
      "       'DATUM_OTVARANJA', 'PLANIRANI_DATUM_ZATVARANJA', 'DATUM_ZATVARANJA',\n",
      "       'UGOVORENI_IZNOS', 'STANJE_NA_KRAJU_PRETH_KVARTALA',\n",
      "       'STANJE_NA_KRAJU_KVARTALA', 'VALUTA', 'VRSTA_KLIJENTA', 'PROIZVOD',\n",
      "       'VRSTA_PROIZVODA', 'VISINA_KAMATE', 'TIP_KAMATE', 'STAROST',\n",
      "       'PRIJEVREMENI_RASKID'],\n",
      "      dtype='object')\n"
     ]
    }
   ],
   "source": [
    "print(df.columns)"
   ]
  },
  {
   "cell_type": "code",
   "execution_count": 4,
   "metadata": {},
   "outputs": [],
   "source": [
    "df['UPLATE'] = df['STANJE_NA_KRAJU_PRETH_KVARTALA']-df['STANJE_NA_KRAJU_KVARTALA']"
   ]
  },
  {
   "cell_type": "code",
   "execution_count": 18,
   "metadata": {},
   "outputs": [
    {
     "data": {
      "text/html": [
       "<div>\n",
       "<style scoped>\n",
       "    .dataframe tbody tr th:only-of-type {\n",
       "        vertical-align: middle;\n",
       "    }\n",
       "\n",
       "    .dataframe tbody tr th {\n",
       "        vertical-align: top;\n",
       "    }\n",
       "\n",
       "    .dataframe thead th {\n",
       "        text-align: right;\n",
       "    }\n",
       "</style>\n",
       "<table border=\"1\" class=\"dataframe\">\n",
       "  <thead>\n",
       "    <tr style=\"text-align: right;\">\n",
       "      <th></th>\n",
       "      <th>STANJE_NA_KRAJU_PRETH_KVARTALA</th>\n",
       "      <th>STANJE_NA_KRAJU_KVARTALA</th>\n",
       "      <th>UPLATE</th>\n",
       "      <th>VRSTA_PROIZVODA</th>\n",
       "    </tr>\n",
       "  </thead>\n",
       "  <tbody>\n",
       "    <tr>\n",
       "      <th>0</th>\n",
       "      <td>639373.81</td>\n",
       "      <td>641562.01</td>\n",
       "      <td>-2188.20</td>\n",
       "      <td>L</td>\n",
       "    </tr>\n",
       "    <tr>\n",
       "      <th>1</th>\n",
       "      <td>28481.94</td>\n",
       "      <td>26887.19</td>\n",
       "      <td>1594.75</td>\n",
       "      <td>A</td>\n",
       "    </tr>\n",
       "    <tr>\n",
       "      <th>2</th>\n",
       "      <td>44908.40</td>\n",
       "      <td>45062.09</td>\n",
       "      <td>-153.69</td>\n",
       "      <td>L</td>\n",
       "    </tr>\n",
       "    <tr>\n",
       "      <th>3</th>\n",
       "      <td>19691.64</td>\n",
       "      <td>18285.89</td>\n",
       "      <td>1405.75</td>\n",
       "      <td>A</td>\n",
       "    </tr>\n",
       "    <tr>\n",
       "      <th>4</th>\n",
       "      <td>24797.93</td>\n",
       "      <td>15685.33</td>\n",
       "      <td>9112.60</td>\n",
       "      <td>A</td>\n",
       "    </tr>\n",
       "  </tbody>\n",
       "</table>\n",
       "</div>"
      ],
      "text/plain": [
       "   STANJE_NA_KRAJU_PRETH_KVARTALA  STANJE_NA_KRAJU_KVARTALA   UPLATE  \\\n",
       "0                       639373.81                 641562.01 -2188.20   \n",
       "1                        28481.94                  26887.19  1594.75   \n",
       "2                        44908.40                  45062.09  -153.69   \n",
       "3                        19691.64                  18285.89  1405.75   \n",
       "4                        24797.93                  15685.33  9112.60   \n",
       "\n",
       "  VRSTA_PROIZVODA  \n",
       "0               L  \n",
       "1               A  \n",
       "2               L  \n",
       "3               A  \n",
       "4               A  "
      ]
     },
     "execution_count": 18,
     "metadata": {},
     "output_type": "execute_result"
    }
   ],
   "source": [
    "df2 = df[['STANJE_NA_KRAJU_PRETH_KVARTALA', 'STANJE_NA_KRAJU_KVARTALA', 'UPLATE', 'VRSTA_PROIZVODA']]\n",
    "df2.head()\n",
    "\n",
    "## L je stednja, A kredit\n"
   ]
  },
  {
   "cell_type": "code",
   "execution_count": 19,
   "metadata": {},
   "outputs": [
    {
     "name": "stdout",
     "output_type": "stream",
     "text": [
      "6.471698999404907\n"
     ]
    }
   ],
   "source": [
    "start = time.time()\n",
    "df.sort_values(['KLIJENT_ID', 'OZNAKA_PARTIJE', 'DATUM_OTVARANJA', 'DATUM_IZVJESTAVANJA'], ascending=[True, True, True, True], inplace = True)\n",
    "end = time.time()\n",
    "print(end - start)"
   ]
  },
  {
   "cell_type": "code",
   "execution_count": 37,
   "metadata": {},
   "outputs": [],
   "source": [
    "df2 = df.copy()[['KLIJENT_ID', 'OZNAKA_PARTIJE', 'DATUM_OTVARANJA', 'UPLATE', 'DATUM_IZVJESTAVANJA', 'VRSTA_PROIZVODA']]\n",
    "df2.sort_values(['KLIJENT_ID', 'OZNAKA_PARTIJE', 'DATUM_OTVARANJA', 'DATUM_IZVJESTAVANJA'], ascending=[True, True, True, True], inplace = True)\n",
    "groups = df2.groupby(['KLIJENT_ID', 'OZNAKA_PARTIJE', 'DATUM_OTVARANJA'])\n"
   ]
  },
  {
   "cell_type": "code",
   "execution_count": 38,
   "metadata": {},
   "outputs": [
    {
     "name": "stdout",
     "output_type": "stream",
     "text": [
      "[((1002, 168061, Timestamp('2007-04-04 00:00:00')),          KLIJENT_ID  OZNAKA_PARTIJE DATUM_OTVARANJA    UPLATE  \\\n",
      "5155888        1002          168061      2007-04-04  21059.23   \n",
      "4470142        1002          168061      2007-04-04  26232.24   \n",
      "3522338        1002          168061      2007-04-04  34703.33   \n",
      "2342921        1002          168061      2007-04-04  25932.32   \n",
      "1723155        1002          168061      2007-04-04  26087.93   \n",
      "4673022        1002          168061      2007-04-04  17568.83   \n",
      "2504157        1002          168061      2007-04-04  26070.05   \n",
      "2731048        1002          168061      2007-04-04  26714.67   \n",
      "5097120        1002          168061      2007-04-04  26025.70   \n",
      "3681824        1002          168061      2007-04-04  26109.10   \n",
      "1826218        1002          168061      2007-04-04  26028.03   \n",
      "1792159        1002          168061      2007-04-04  25963.51   \n",
      "3987089        1002          168061      2007-04-04  26036.31   \n",
      "3756041        1002          168061      2007-04-04  26084.28   \n",
      "1619468        1002          168061      2007-04-04  26029.69   \n",
      "2482720        1002          168061      2007-04-04  25980.06   \n",
      "5164251        1002          168061      2007-04-04  26034.65   \n",
      "4282986        1002          168061      2007-04-04  26069.39   \n",
      "3459210        1002          168061      2007-04-04  26026.38   \n",
      "3995185        1002          168061      2007-04-04  26003.22   \n",
      "2803994        1002          168061      2007-04-04  26028.23   \n",
      "3265996        1002          168061      2007-04-04  26050.73   \n",
      "1604098        1002          168061      2007-04-04  34663.90   \n",
      "3144925        1002          168061      2007-04-04  17386.39   \n",
      "3090595        1002          168061      2007-04-04  25998.75   \n",
      "5114609        1002          168061      2007-04-04   8718.19   \n",
      "3219491        1002          168061      2007-04-04      0.00   \n",
      "5072337        1002          168061      2007-04-04      0.00   \n",
      "\n",
      "        DATUM_IZVJESTAVANJA VRSTA_PROIZVODA  \n",
      "5155888          2011-03-31               A  \n",
      "4470142          2011-06-30               A  \n",
      "3522338          2011-09-30               A  \n",
      "2342921          2011-12-31               A  \n",
      "1723155          2012-03-31               A  \n",
      "4673022          2012-06-30               A  \n",
      "2504157          2012-09-30               A  \n",
      "2731048          2012-12-31               A  \n",
      "5097120          2013-03-31               A  \n",
      "3681824          2013-06-30               A  \n",
      "1826218          2013-09-30               A  \n",
      "1792159          2013-12-31               A  \n",
      "3987089          2014-03-31               A  \n",
      "3756041          2014-06-30               A  \n",
      "1619468          2014-09-30               A  \n",
      "2482720          2014-12-31               A  \n",
      "5164251          2015-03-31               A  \n",
      "4282986          2015-06-30               A  \n",
      "3459210          2015-09-30               A  \n",
      "3995185          2015-12-31               A  \n",
      "2803994          2016-03-31               A  \n",
      "3265996          2016-06-30               A  \n",
      "1604098          2016-09-30               A  \n",
      "3144925          2016-12-31               A  \n",
      "3090595          2017-03-31               A  \n",
      "5114609          2017-06-30               A  \n",
      "3219491          2017-09-30               A  \n",
      "5072337          2017-12-31               A  )]\n"
     ]
    }
   ],
   "source": [
    "import itertools\n",
    "prva_grupa = itertools.islice(groups,0,1)\n",
    "\n",
    "print(list(prva_grupa))\n",
    "    "
   ]
  },
  {
   "cell_type": "code",
   "execution_count": null,
   "metadata": {},
   "outputs": [],
   "source": [
    "def rata_kredita(group):\n",
    "    \n",
    "    ## što više razmišljam o ovome, to ima manje smisla baratat s podacima iz kvartala\n",
    " \n"
   ]
  },
  {
   "cell_type": "code",
   "execution_count": null,
   "metadata": {},
   "outputs": [],
   "source": []
  },
  {
   "cell_type": "code",
   "execution_count": null,
   "metadata": {},
   "outputs": [],
   "source": []
  }
 ],
 "metadata": {
  "kernelspec": {
   "display_name": "Python 3",
   "language": "python",
   "name": "python3"
  },
  "language_info": {
   "codemirror_mode": {
    "name": "ipython",
    "version": 3
   },
   "file_extension": ".py",
   "mimetype": "text/x-python",
   "name": "python",
   "nbconvert_exporter": "python",
   "pygments_lexer": "ipython3",
   "version": "3.7.3"
  }
 },
 "nbformat": 4,
 "nbformat_minor": 2
}

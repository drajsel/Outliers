{
 "cells": [
  {
   "cell_type": "code",
   "execution_count": 1,
   "metadata": {},
   "outputs": [],
   "source": [
    "import pandas as pd\n",
    "import matplotlib.pyplot as plt\n",
    "import numpy as np\n",
    "%matplotlib inline"
   ]
  },
  {
   "cell_type": "code",
   "execution_count": 2,
   "metadata": {},
   "outputs": [
    {
     "name": "stdout",
     "output_type": "stream",
     "text": [
      "10.008233785629272\n"
     ]
    }
   ],
   "source": [
    "# nakon što stavimo datoteke na Git uvijek čitati u ovomo obliku! (štedi vrijeme)\n",
    "import time\n",
    "start = time.time()\n",
    "df = pd.read_hdf('./data/raw/training_dataset.h5', 'df')\n",
    "end = time.time()\n",
    "print(end - start)\n",
    "\n",
    "# nakon što napravimo promjene kako treba, exportat ću ih u novu datoteku pomoću naredbe\n",
    "# df.to_hdf('training_dataset2.h5', key='df')"
   ]
  },
  {
   "cell_type": "code",
   "execution_count": 3,
   "metadata": {},
   "outputs": [],
   "source": [
    "# kasnije razmisliti o postavljanju na prosjek ovisno o vrsti klijenta? \n",
    "df['STAROST'].values[df['STAROST'].values >= 900] = -1\n",
    "df['STAROST'].values[df['STAROST'].values < 0] = -1"
   ]
  },
  {
   "cell_type": "code",
   "execution_count": 4,
   "metadata": {},
   "outputs": [],
   "source": [
    "df['PRIJEVREMENI_RASKID'] = np.where(df['DATUM_ZATVARANJA']>=(df['PLANIRANI_DATUM_ZATVARANJA']- np.timedelta64(10, 'D')), 'N', df['PRIJEVREMENI_RASKID'])"
   ]
  },
  {
   "cell_type": "code",
   "execution_count": 5,
   "metadata": {},
   "outputs": [],
   "source": [
    "#brisanje outlier-a i ugovorenih iznosa = 0.0\n",
    "df = df[(df['UGOVORENI_IZNOS'] < 2e5) & (df['UGOVORENI_IZNOS'] > 0.0)]"
   ]
  },
  {
   "cell_type": "code",
   "execution_count": 6,
   "metadata": {},
   "outputs": [
    {
     "name": "stdout",
     "output_type": "stream",
     "text": [
      "6.051986217498779\n"
     ]
    }
   ],
   "source": [
    "### BRISANJE PARTIJA S VIŠE KLIJENATA\n",
    "start = time.time()\n",
    "gb = df.groupby('OZNAKA_PARTIJE')['KLIJENT_ID'].nunique() # baci broj jedinstvenih klijenata za pojedinu partiju\n",
    "# party_labels = df2['OZNAKA_PARTIJE'].unique().tolist() \n",
    "mask = gb[df['OZNAKA_PARTIJE']] == 1 # gb[df2['OZNAKA_PARTIJE']] vrati za svaku oznaku partije (svaki redak tablice) njenu vrijednost i usporedi je s 1\n",
    "df = df[ mask.values ] # mask je neki objekt koji moram ovako koristiti, rezultat je skup gdje za svaku partiju ima jedan klijent\n",
    "end = time.time()\n",
    "print(end - start)"
   ]
  },
  {
   "cell_type": "code",
   "execution_count": 7,
   "metadata": {},
   "outputs": [],
   "source": [
    "df = df[df['PLANIRANI_DATUM_ZATVARANJA'] > df['DATUM_OTVARANJA']] "
   ]
  },
  {
   "cell_type": "code",
   "execution_count": 8,
   "metadata": {},
   "outputs": [
    {
     "data": {
      "text/plain": [
       "(3830210, 17)"
      ]
     },
     "execution_count": 8,
     "metadata": {},
     "output_type": "execute_result"
    }
   ],
   "source": [
    "df.shape"
   ]
  },
  {
   "cell_type": "code",
   "execution_count": 10,
   "metadata": {},
   "outputs": [
    {
     "name": "stdout",
     "output_type": "stream",
     "text": [
      "0.0\n",
      "355.7915391921997\n",
      "220.9151976108551\n"
     ]
    }
   ],
   "source": [
    "## POPUNJAVANJE MISSING VALUES UNAZAD (po grupama)\n",
    "\n",
    "start = time.time()\n",
    "# Create a groupby object\n",
    "grouped = df.groupby(['KLIJENT_ID', 'OZNAKA_PARTIJE', 'DATUM_OTVARANJA'])\n",
    "end = time.time()\n",
    "print( end - start)\n",
    "\n",
    "# Write a function that imputes median\n",
    "def impute_backwards(series):\n",
    "    return series.fillna(method = 'bfill')\n",
    "\n",
    "start = time.time()\n",
    "# Impute age and assign to titanic['age']\n",
    "df['NOVI_DATUM_ZATVARANJA']  = grouped['DATUM_ZATVARANJA'].transform(impute_backwards)\n",
    "end = time.time()\n",
    "print(end - start)\n",
    "\n",
    "start = time.time()\n",
    "# Impute age and assign to titanic['age']\n",
    "df['NOVA_VISINA_KAMATE']  = grouped['VISINA_KAMATE'].transform(impute_backwards)\n",
    "end = time.time()\n",
    "print(end - start)"
   ]
  },
  {
   "cell_type": "code",
   "execution_count": 12,
   "metadata": {},
   "outputs": [
    {
     "name": "stdout",
     "output_type": "stream",
     "text": [
      "0.6879968643188477\n",
      "355.42935848236084\n",
      "221.71464681625366\n"
     ]
    }
   ],
   "source": [
    "## POPUNJAVANJE MISSING VALUES UNAZAD (po grupama)\n",
    "\n",
    "start = time.time()\n",
    "# Create a groupby object\n",
    "grouped = df.groupby(['KLIJENT_ID', 'OZNAKA_PARTIJE', 'DATUM_OTVARANJA'])\n",
    "end = time.time()\n",
    "print( end - start)\n",
    "\n",
    "# Write a function that imputes median\n",
    "def impute_forwards(series):\n",
    "    return series.fillna(method = 'ffill')\n",
    "\n",
    "start = time.time()\n",
    "# Impute age and assign to titanic['age']\n",
    "df['NOVI_DATUM_ZATVARANJA2']  = grouped['NOVI_DATUM_ZATVARANJA'].transform(impute_forwards)\n",
    "end = time.time()\n",
    "print(end - start)\n",
    "\n",
    "start = time.time()\n",
    "# Impute age and assign to titanic['age']\n",
    "df['NOVA_VISINA_KAMATE2']  = grouped['NOVA_VISINA_KAMATE'].transform(impute_forwards)\n",
    "end = time.time()\n",
    "print(end - start)"
   ]
  },
  {
   "cell_type": "code",
   "execution_count": 13,
   "metadata": {},
   "outputs": [
    {
     "name": "stdout",
     "output_type": "stream",
     "text": [
      "DATUM_IZVJESTAVANJA                     0\n",
      "KLIJENT_ID                              0\n",
      "OZNAKA_PARTIJE                          0\n",
      "DATUM_OTVARANJA                         0\n",
      "PLANIRANI_DATUM_ZATVARANJA              0\n",
      "DATUM_ZATVARANJA                  2830145\n",
      "UGOVORENI_IZNOS                         0\n",
      "STANJE_NA_KRAJU_PRETH_KVARTALA          0\n",
      "STANJE_NA_KRAJU_KVARTALA                0\n",
      "VALUTA                                  0\n",
      "VRSTA_KLIJENTA                          0\n",
      "PROIZVOD                                0\n",
      "VRSTA_PROIZVODA                         0\n",
      "VISINA_KAMATE                       35417\n",
      "TIP_KAMATE                              0\n",
      "STAROST                                 0\n",
      "PRIJEVREMENI_RASKID                     0\n",
      "NOVI_DATUM_ZATVARANJA             1696065\n",
      "NOVA_VISINA_KAMATE                   5584\n",
      "NOVI_DATUM_ZATVARANJA2            1086755\n",
      "NOVA_VISINA_KAMATE2                  1086\n",
      "dtype: int64\n"
     ]
    }
   ],
   "source": [
    "missing_values = df.isnull().sum()\n",
    "print(missing_values)\n",
    "\n",
    "## pogledati jesu li uopće jedinstvene vrijednosti visine kamate u grupi, mozda se mijenjalo?"
   ]
  },
  {
   "cell_type": "code",
   "execution_count": 11,
   "metadata": {},
   "outputs": [
    {
     "data": {
      "text/plain": [
       "(3830210, 19)"
      ]
     },
     "execution_count": 11,
     "metadata": {},
     "output_type": "execute_result"
    }
   ],
   "source": [
    "df.shape"
   ]
  },
  {
   "cell_type": "code",
   "execution_count": null,
   "metadata": {},
   "outputs": [],
   "source": [
    "# neka tu stoji ako zatreba\n",
    "# sortiranje, potrebno za filanje missing values\n",
    "# df.sort_values(['KLIJENT_ID', 'OZNAKA_PARTIJE', 'DATUM_OTVARANJA', 'DATUM_IZVJESTAVANJA', 'STANJE_NA_KRAJU_KVARTALA'], ascending=[True, True, True, True, False], inplace = True)"
   ]
  },
  {
   "cell_type": "code",
   "execution_count": null,
   "metadata": {},
   "outputs": [],
   "source": [
    "# export datoteke\n",
    "df.to_hdf('./data/raw/nakon_procesiranja.h5', key='df')"
   ]
  }
 ],
 "metadata": {
  "kernelspec": {
   "display_name": "Python 3",
   "language": "python",
   "name": "python3"
  },
  "language_info": {
   "codemirror_mode": {
    "name": "ipython",
    "version": 3
   },
   "file_extension": ".py",
   "mimetype": "text/x-python",
   "name": "python",
   "nbconvert_exporter": "python",
   "pygments_lexer": "ipython3",
   "version": "3.7.3"
  }
 },
 "nbformat": 4,
 "nbformat_minor": 2
}

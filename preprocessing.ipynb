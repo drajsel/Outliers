{
 "cells": [
  {
   "cell_type": "code",
   "execution_count": 1,
   "metadata": {},
   "outputs": [],
   "source": [
    "import pandas as pd\n",
    "import matplotlib.pyplot as plt\n",
    "import numpy as np\n",
    "%matplotlib inline"
   ]
  },
  {
   "cell_type": "code",
   "execution_count": null,
   "metadata": {},
   "outputs": [],
   "source": [
    "# nakon što stavimo datoteke na Git uvijek čitati u ovomo obliku! (štedi vrijeme)\n",
    "import time\n",
    "start = time.time()\n",
    "df = pd.read_hdf('./data/raw/training_dataset.h5', 'df')\n",
    "end = time.time()\n",
    "print(end - start)\n",
    "\n",
    "# nakon što napravimo promjene kako treba, exportat ću ih u novu datoteku pomoću naredbe\n",
    "# df.to_hdf('training_dataset2.h5', key='df')"
   ]
  },
  {
   "cell_type": "code",
   "execution_count": null,
   "metadata": {},
   "outputs": [],
   "source": [
    "# kasnije razmisliti o postavljanju na prosjek ovisno o vrsti klijenta? \n",
    "df['STAROST'].values[df['STAROST'].values >= 900] = -1\n",
    "df['STAROST'].values[df['STAROST'].values < 0] = -1"
   ]
  },
  {
   "cell_type": "code",
   "execution_count": null,
   "metadata": {},
   "outputs": [],
   "source": [
    "df['PRIJEVREMENI_RASKID'] = np.where(df['DATUM_ZATVARANJA']>=(df['PLANIRANI_DATUM_ZATVARANJA']- np.timedelta64(10, 'D')), 'N', df['PRIJEVREMENI_RASKID'])"
   ]
  },
  {
   "cell_type": "code",
   "execution_count": null,
   "metadata": {},
   "outputs": [],
   "source": [
    "#brisanje outlier-a i ugovorenih iznosa = 0.0\n",
    "df = df[(df['UGOVORENI_IZNOS'] < 2e5) & (df['UGOVORENI_IZNOS'] > 0.0)]"
   ]
  },
  {
   "cell_type": "code",
   "execution_count": null,
   "metadata": {},
   "outputs": [],
   "source": [
    "### BRISANJE PARTIJA S VIŠE KLIJENATA\n",
    "gb = df.groupby('OZNAKA_PARTIJE')['KLIJENT_ID'].nunique() # baci broj jedinstvenih klijenata za pojedinu partiju\n",
    "# party_labels = df2['OZNAKA_PARTIJE'].unique().tolist() \n",
    "mask = gb[df['OZNAKA_PARTIJE']] == 1 # gb[df2['OZNAKA_PARTIJE']] vrati za svaku oznaku partije (svaki redak tablice) njenu vrijednost i usporedi je s 1\n",
    "df = df[ mask.values ] # mask je neki objekt koji moram ovako koristiti, rezultat je skup gdje za svaku partiju ima jedan klijent"
   ]
  },
  {
   "cell_type": "code",
   "execution_count": null,
   "metadata": {},
   "outputs": [],
   "source": [
    "df = df[df['PLANIRANI_DATUM_ZATVARANJA'] > df['DATUM_OTVARANJA']] "
   ]
  },
  {
   "cell_type": "code",
   "execution_count": null,
   "metadata": {},
   "outputs": [],
   "source": [
    "## POPUNJAVANJE MISSING VALUES UNAZAD (po grupama)\n",
    "\n",
    "# Create a groupby object\n",
    "grouped = df.groupby(['KLIJENT_ID', 'OZNAKA_PARTIJE', 'DATUM_OTVARANJA'])\n",
    "\n",
    "# Write a function that imputes median\n",
    "def impute_backwards(series):\n",
    "    return series.fillna(method = 'bfill')\n",
    "\n",
    "# Impute age and assign to titanic['age']\n",
    "df['NOVI_DATUM_ZATVARANJA', 'NOVA_VISINA_KAMATE'] = grouped['DATUM_ZATVARANJA', 'VISINA_KAMATE'].transform(impute_backwards)"
   ]
  },
  {
   "cell_type": "code",
   "execution_count": null,
   "metadata": {},
   "outputs": [],
   "source": [
    "# neka tu stoji ako zatreba\n",
    "# sortiranje, potrebno za filanje missing values\n",
    "# df.sort_values(['KLIJENT_ID', 'OZNAKA_PARTIJE', 'DATUM_OTVARANJA', 'DATUM_IZVJESTAVANJA', 'STANJE_NA_KRAJU_KVARTALA'], ascending=[True, True, True, True, False], inplace = True)"
   ]
  },
  {
   "cell_type": "code",
   "execution_count": null,
   "metadata": {},
   "outputs": [],
   "source": [
    "# export datoteke\n",
    "df.to_hdf('./data/raw/nakon_procesiranja.h5', key='df')"
   ]
  }
 ],
 "metadata": {
  "kernelspec": {
   "display_name": "Python 3",
   "language": "python",
   "name": "python3"
  },
  "language_info": {
   "codemirror_mode": {
    "name": "ipython",
    "version": 3
   },
   "file_extension": ".py",
   "mimetype": "text/x-python",
   "name": "python",
   "nbconvert_exporter": "python",
   "pygments_lexer": "ipython3",
   "version": "3.7.1"
  }
 },
 "nbformat": 4,
 "nbformat_minor": 2
}

{
 "cells": [
  {
   "cell_type": "code",
   "execution_count": 2,
   "metadata": {},
   "outputs": [],
   "source": [
    "import pandas as pd\n",
    "import matplotlib.pyplot as plt\n",
    "import numpy as np\n",
    "%matplotlib inline"
   ]
  },
  {
   "cell_type": "markdown",
   "metadata": {},
   "source": [
    "<h2> Učitavanje skupa podataka i generalni uvid u podatke </h2>"
   ]
  },
  {
   "cell_type": "code",
   "execution_count": 3,
   "metadata": {},
   "outputs": [],
   "source": [
    "# učitavanje podataka\n",
    "mydateparser = lambda c: pd.to_datetime(c, format='%d.%m.%Y', errors='coerce')\n",
    "df = pd.read_csv('training_dataset_enc.csv', parse_dates=['DATUM_IZVJESTAVANJA', 'PLANIRANI_DATUM_ZATVARANJA', 'DATUM_OTVARANJA', 'DATUM_ZATVARANJA'], date_parser=mydateparser)"
   ]
  },
  {
   "cell_type": "code",
   "execution_count": 4,
   "metadata": {},
   "outputs": [],
   "source": [
    "# brisanje nepotrebnih stupaca \n",
    "del df['Unnamed: 0']; del df['Unnamed: 0.1']; "
   ]
  },
  {
   "cell_type": "code",
   "execution_count": 5,
   "metadata": {},
   "outputs": [
    {
     "data": {
      "text/plain": [
       "(5193124, 17)"
      ]
     },
     "execution_count": 5,
     "metadata": {},
     "output_type": "execute_result"
    }
   ],
   "source": [
    "df.shape"
   ]
  },
  {
   "cell_type": "code",
   "execution_count": 6,
   "metadata": {},
   "outputs": [
    {
     "data": {
      "text/html": [
       "<div>\n",
       "<style scoped>\n",
       "    .dataframe tbody tr th:only-of-type {\n",
       "        vertical-align: middle;\n",
       "    }\n",
       "\n",
       "    .dataframe tbody tr th {\n",
       "        vertical-align: top;\n",
       "    }\n",
       "\n",
       "    .dataframe thead th {\n",
       "        text-align: right;\n",
       "    }\n",
       "</style>\n",
       "<table border=\"1\" class=\"dataframe\">\n",
       "  <thead>\n",
       "    <tr style=\"text-align: right;\">\n",
       "      <th></th>\n",
       "      <th>DATUM_IZVJESTAVANJA</th>\n",
       "      <th>KLIJENT_ID</th>\n",
       "      <th>OZNAKA_PARTIJE</th>\n",
       "      <th>DATUM_OTVARANJA</th>\n",
       "      <th>PLANIRANI_DATUM_ZATVARANJA</th>\n",
       "      <th>DATUM_ZATVARANJA</th>\n",
       "      <th>UGOVORENI_IZNOS</th>\n",
       "      <th>STANJE_NA_KRAJU_PRETH_KVARTALA</th>\n",
       "      <th>STANJE_NA_KRAJU_KVARTALA</th>\n",
       "      <th>VALUTA</th>\n",
       "      <th>VRSTA_KLIJENTA</th>\n",
       "      <th>PROIZVOD</th>\n",
       "      <th>VRSTA_PROIZVODA</th>\n",
       "      <th>VISINA_KAMATE</th>\n",
       "      <th>TIP_KAMATE</th>\n",
       "      <th>STAROST</th>\n",
       "      <th>PRIJEVREMENI_RASKID</th>\n",
       "    </tr>\n",
       "  </thead>\n",
       "  <tbody>\n",
       "    <tr>\n",
       "      <th>0</th>\n",
       "      <td>2013-12-31</td>\n",
       "      <td>412140</td>\n",
       "      <td>7146814</td>\n",
       "      <td>2012-08-27</td>\n",
       "      <td>2018-04-30</td>\n",
       "      <td>NaT</td>\n",
       "      <td>629155.97</td>\n",
       "      <td>639373.81</td>\n",
       "      <td>641562.01</td>\n",
       "      <td>2</td>\n",
       "      <td>1420</td>\n",
       "      <td>TM0109</td>\n",
       "      <td>L</td>\n",
       "      <td>1.50</td>\n",
       "      <td>A</td>\n",
       "      <td>22</td>\n",
       "      <td>N</td>\n",
       "    </tr>\n",
       "    <tr>\n",
       "      <th>1</th>\n",
       "      <td>2013-12-31</td>\n",
       "      <td>772139</td>\n",
       "      <td>5521579</td>\n",
       "      <td>2010-06-11</td>\n",
       "      <td>2017-06-30</td>\n",
       "      <td>NaT</td>\n",
       "      <td>46000.00</td>\n",
       "      <td>28481.94</td>\n",
       "      <td>26887.19</td>\n",
       "      <td>1</td>\n",
       "      <td>1410</td>\n",
       "      <td>FL0801</td>\n",
       "      <td>A</td>\n",
       "      <td>9.70</td>\n",
       "      <td>B</td>\n",
       "      <td>38</td>\n",
       "      <td>N</td>\n",
       "    </tr>\n",
       "    <tr>\n",
       "      <th>2</th>\n",
       "      <td>2013-12-31</td>\n",
       "      <td>481985</td>\n",
       "      <td>7443823</td>\n",
       "      <td>2013-01-23</td>\n",
       "      <td>2018-02-28</td>\n",
       "      <td>NaT</td>\n",
       "      <td>44679.50</td>\n",
       "      <td>44908.40</td>\n",
       "      <td>45062.09</td>\n",
       "      <td>2</td>\n",
       "      <td>1550</td>\n",
       "      <td>FD0100</td>\n",
       "      <td>L</td>\n",
       "      <td>3.10</td>\n",
       "      <td>A</td>\n",
       "      <td>37</td>\n",
       "      <td>N</td>\n",
       "    </tr>\n",
       "    <tr>\n",
       "      <th>3</th>\n",
       "      <td>2013-12-31</td>\n",
       "      <td>139014</td>\n",
       "      <td>6511639</td>\n",
       "      <td>2011-09-16</td>\n",
       "      <td>2016-09-30</td>\n",
       "      <td>NaT</td>\n",
       "      <td>29959.15</td>\n",
       "      <td>19691.64</td>\n",
       "      <td>18285.89</td>\n",
       "      <td>2</td>\n",
       "      <td>1410</td>\n",
       "      <td>FL0801</td>\n",
       "      <td>A</td>\n",
       "      <td>7.95</td>\n",
       "      <td>B</td>\n",
       "      <td>49</td>\n",
       "      <td>N</td>\n",
       "    </tr>\n",
       "    <tr>\n",
       "      <th>4</th>\n",
       "      <td>2013-12-31</td>\n",
       "      <td>952566</td>\n",
       "      <td>6143123</td>\n",
       "      <td>2011-05-23</td>\n",
       "      <td>2014-05-31</td>\n",
       "      <td>NaT</td>\n",
       "      <td>100000.00</td>\n",
       "      <td>24797.93</td>\n",
       "      <td>15685.33</td>\n",
       "      <td>1</td>\n",
       "      <td>1410</td>\n",
       "      <td>FL0801</td>\n",
       "      <td>A</td>\n",
       "      <td>9.70</td>\n",
       "      <td>B</td>\n",
       "      <td>35</td>\n",
       "      <td>N</td>\n",
       "    </tr>\n",
       "  </tbody>\n",
       "</table>\n",
       "</div>"
      ],
      "text/plain": [
       "  DATUM_IZVJESTAVANJA  KLIJENT_ID  OZNAKA_PARTIJE DATUM_OTVARANJA  \\\n",
       "0          2013-12-31      412140         7146814      2012-08-27   \n",
       "1          2013-12-31      772139         5521579      2010-06-11   \n",
       "2          2013-12-31      481985         7443823      2013-01-23   \n",
       "3          2013-12-31      139014         6511639      2011-09-16   \n",
       "4          2013-12-31      952566         6143123      2011-05-23   \n",
       "\n",
       "  PLANIRANI_DATUM_ZATVARANJA DATUM_ZATVARANJA  UGOVORENI_IZNOS  \\\n",
       "0                 2018-04-30              NaT        629155.97   \n",
       "1                 2017-06-30              NaT         46000.00   \n",
       "2                 2018-02-28              NaT         44679.50   \n",
       "3                 2016-09-30              NaT         29959.15   \n",
       "4                 2014-05-31              NaT        100000.00   \n",
       "\n",
       "   STANJE_NA_KRAJU_PRETH_KVARTALA  STANJE_NA_KRAJU_KVARTALA  VALUTA  \\\n",
       "0                       639373.81                 641562.01       2   \n",
       "1                        28481.94                  26887.19       1   \n",
       "2                        44908.40                  45062.09       2   \n",
       "3                        19691.64                  18285.89       2   \n",
       "4                        24797.93                  15685.33       1   \n",
       "\n",
       "   VRSTA_KLIJENTA PROIZVOD VRSTA_PROIZVODA  VISINA_KAMATE TIP_KAMATE  STAROST  \\\n",
       "0            1420   TM0109               L           1.50          A       22   \n",
       "1            1410   FL0801               A           9.70          B       38   \n",
       "2            1550   FD0100               L           3.10          A       37   \n",
       "3            1410   FL0801               A           7.95          B       49   \n",
       "4            1410   FL0801               A           9.70          B       35   \n",
       "\n",
       "  PRIJEVREMENI_RASKID  \n",
       "0                   N  \n",
       "1                   N  \n",
       "2                   N  \n",
       "3                   N  \n",
       "4                   N  "
      ]
     },
     "execution_count": 6,
     "metadata": {},
     "output_type": "execute_result"
    }
   ],
   "source": [
    "df.head()"
   ]
  },
  {
   "cell_type": "code",
   "execution_count": 7,
   "metadata": {},
   "outputs": [
    {
     "data": {
      "text/html": [
       "<div>\n",
       "<style scoped>\n",
       "    .dataframe tbody tr th:only-of-type {\n",
       "        vertical-align: middle;\n",
       "    }\n",
       "\n",
       "    .dataframe tbody tr th {\n",
       "        vertical-align: top;\n",
       "    }\n",
       "\n",
       "    .dataframe thead th {\n",
       "        text-align: right;\n",
       "    }\n",
       "</style>\n",
       "<table border=\"1\" class=\"dataframe\">\n",
       "  <thead>\n",
       "    <tr style=\"text-align: right;\">\n",
       "      <th></th>\n",
       "      <th>KLIJENT_ID</th>\n",
       "      <th>OZNAKA_PARTIJE</th>\n",
       "      <th>UGOVORENI_IZNOS</th>\n",
       "      <th>STANJE_NA_KRAJU_PRETH_KVARTALA</th>\n",
       "      <th>STANJE_NA_KRAJU_KVARTALA</th>\n",
       "      <th>VALUTA</th>\n",
       "      <th>VRSTA_KLIJENTA</th>\n",
       "      <th>VISINA_KAMATE</th>\n",
       "      <th>STAROST</th>\n",
       "    </tr>\n",
       "  </thead>\n",
       "  <tbody>\n",
       "    <tr>\n",
       "      <th>count</th>\n",
       "      <td>5.193124e+06</td>\n",
       "      <td>5.193124e+06</td>\n",
       "      <td>5.193124e+06</td>\n",
       "      <td>4.772056e+06</td>\n",
       "      <td>5.193124e+06</td>\n",
       "      <td>5.193124e+06</td>\n",
       "      <td>5.193124e+06</td>\n",
       "      <td>5.141422e+06</td>\n",
       "      <td>5.193124e+06</td>\n",
       "    </tr>\n",
       "    <tr>\n",
       "      <th>mean</th>\n",
       "      <td>7.207398e+05</td>\n",
       "      <td>7.152089e+06</td>\n",
       "      <td>2.554007e+05</td>\n",
       "      <td>1.309054e+05</td>\n",
       "      <td>1.181028e+05</td>\n",
       "      <td>1.682643e+00</td>\n",
       "      <td>1.426380e+03</td>\n",
       "      <td>5.562767e+00</td>\n",
       "      <td>4.141305e+01</td>\n",
       "    </tr>\n",
       "    <tr>\n",
       "      <th>std</th>\n",
       "      <td>1.160615e+07</td>\n",
       "      <td>8.765659e+06</td>\n",
       "      <td>3.784332e+06</td>\n",
       "      <td>1.950900e+06</td>\n",
       "      <td>1.829336e+06</td>\n",
       "      <td>8.221024e-01</td>\n",
       "      <td>6.029030e+01</td>\n",
       "      <td>3.760118e+00</td>\n",
       "      <td>2.045255e+02</td>\n",
       "    </tr>\n",
       "    <tr>\n",
       "      <th>min</th>\n",
       "      <td>1.002000e+03</td>\n",
       "      <td>1.630070e+05</td>\n",
       "      <td>0.000000e+00</td>\n",
       "      <td>-5.981000e+01</td>\n",
       "      <td>-5.981000e+01</td>\n",
       "      <td>1.000000e+00</td>\n",
       "      <td>1.110000e+03</td>\n",
       "      <td>-4.000000e-03</td>\n",
       "      <td>-7.994000e+03</td>\n",
       "    </tr>\n",
       "    <tr>\n",
       "      <th>25%</th>\n",
       "      <td>3.708580e+05</td>\n",
       "      <td>4.275223e+06</td>\n",
       "      <td>2.956673e+04</td>\n",
       "      <td>6.897520e+03</td>\n",
       "      <td>4.032975e+02</td>\n",
       "      <td>1.000000e+00</td>\n",
       "      <td>1.410000e+03</td>\n",
       "      <td>2.350000e+00</td>\n",
       "      <td>3.500000e+01</td>\n",
       "    </tr>\n",
       "    <tr>\n",
       "      <th>50%</th>\n",
       "      <td>6.930290e+05</td>\n",
       "      <td>6.603912e+06</td>\n",
       "      <td>6.422751e+04</td>\n",
       "      <td>3.339354e+04</td>\n",
       "      <td>2.673879e+04</td>\n",
       "      <td>2.000000e+00</td>\n",
       "      <td>1.410000e+03</td>\n",
       "      <td>6.480000e+00</td>\n",
       "      <td>4.600000e+01</td>\n",
       "    </tr>\n",
       "    <tr>\n",
       "      <th>75%</th>\n",
       "      <td>1.033071e+06</td>\n",
       "      <td>9.142953e+06</td>\n",
       "      <td>1.150000e+05</td>\n",
       "      <td>8.280279e+04</td>\n",
       "      <td>7.627030e+04</td>\n",
       "      <td>2.000000e+00</td>\n",
       "      <td>1.410000e+03</td>\n",
       "      <td>8.740000e+00</td>\n",
       "      <td>5.700000e+01</td>\n",
       "    </tr>\n",
       "    <tr>\n",
       "      <th>max</th>\n",
       "      <td>9.991411e+09</td>\n",
       "      <td>1.136257e+08</td>\n",
       "      <td>6.055048e+08</td>\n",
       "      <td>6.105662e+08</td>\n",
       "      <td>6.105662e+08</td>\n",
       "      <td>5.000000e+00</td>\n",
       "      <td>1.610000e+03</td>\n",
       "      <td>8.080000e+01</td>\n",
       "      <td>9.080000e+02</td>\n",
       "    </tr>\n",
       "  </tbody>\n",
       "</table>\n",
       "</div>"
      ],
      "text/plain": [
       "         KLIJENT_ID  OZNAKA_PARTIJE  UGOVORENI_IZNOS  \\\n",
       "count  5.193124e+06    5.193124e+06     5.193124e+06   \n",
       "mean   7.207398e+05    7.152089e+06     2.554007e+05   \n",
       "std    1.160615e+07    8.765659e+06     3.784332e+06   \n",
       "min    1.002000e+03    1.630070e+05     0.000000e+00   \n",
       "25%    3.708580e+05    4.275223e+06     2.956673e+04   \n",
       "50%    6.930290e+05    6.603912e+06     6.422751e+04   \n",
       "75%    1.033071e+06    9.142953e+06     1.150000e+05   \n",
       "max    9.991411e+09    1.136257e+08     6.055048e+08   \n",
       "\n",
       "       STANJE_NA_KRAJU_PRETH_KVARTALA  STANJE_NA_KRAJU_KVARTALA        VALUTA  \\\n",
       "count                    4.772056e+06              5.193124e+06  5.193124e+06   \n",
       "mean                     1.309054e+05              1.181028e+05  1.682643e+00   \n",
       "std                      1.950900e+06              1.829336e+06  8.221024e-01   \n",
       "min                     -5.981000e+01             -5.981000e+01  1.000000e+00   \n",
       "25%                      6.897520e+03              4.032975e+02  1.000000e+00   \n",
       "50%                      3.339354e+04              2.673879e+04  2.000000e+00   \n",
       "75%                      8.280279e+04              7.627030e+04  2.000000e+00   \n",
       "max                      6.105662e+08              6.105662e+08  5.000000e+00   \n",
       "\n",
       "       VRSTA_KLIJENTA  VISINA_KAMATE       STAROST  \n",
       "count    5.193124e+06   5.141422e+06  5.193124e+06  \n",
       "mean     1.426380e+03   5.562767e+00  4.141305e+01  \n",
       "std      6.029030e+01   3.760118e+00  2.045255e+02  \n",
       "min      1.110000e+03  -4.000000e-03 -7.994000e+03  \n",
       "25%      1.410000e+03   2.350000e+00  3.500000e+01  \n",
       "50%      1.410000e+03   6.480000e+00  4.600000e+01  \n",
       "75%      1.410000e+03   8.740000e+00  5.700000e+01  \n",
       "max      1.610000e+03   8.080000e+01  9.080000e+02  "
      ]
     },
     "execution_count": 7,
     "metadata": {},
     "output_type": "execute_result"
    }
   ],
   "source": [
    "df.describe()"
   ]
  },
  {
   "cell_type": "code",
   "execution_count": 8,
   "metadata": {},
   "outputs": [
    {
     "name": "stdout",
     "output_type": "stream",
     "text": [
      "<class 'pandas.core.frame.DataFrame'>\n",
      "RangeIndex: 5193124 entries, 0 to 5193123\n",
      "Data columns (total 17 columns):\n",
      "DATUM_IZVJESTAVANJA               datetime64[ns]\n",
      "KLIJENT_ID                        int64\n",
      "OZNAKA_PARTIJE                    int64\n",
      "DATUM_OTVARANJA                   datetime64[ns]\n",
      "PLANIRANI_DATUM_ZATVARANJA        datetime64[ns]\n",
      "DATUM_ZATVARANJA                  datetime64[ns]\n",
      "UGOVORENI_IZNOS                   float64\n",
      "STANJE_NA_KRAJU_PRETH_KVARTALA    float64\n",
      "STANJE_NA_KRAJU_KVARTALA          float64\n",
      "VALUTA                            int64\n",
      "VRSTA_KLIJENTA                    int64\n",
      "PROIZVOD                          object\n",
      "VRSTA_PROIZVODA                   object\n",
      "VISINA_KAMATE                     float64\n",
      "TIP_KAMATE                        object\n",
      "STAROST                           int64\n",
      "PRIJEVREMENI_RASKID               object\n",
      "dtypes: datetime64[ns](4), float64(4), int64(5), object(4)\n",
      "memory usage: 673.5+ MB\n"
     ]
    }
   ],
   "source": [
    "df.info()"
   ]
  },
  {
   "cell_type": "markdown",
   "metadata": {},
   "source": [
    "<h2> Data preprocessing </h2>"
   ]
  },
  {
   "cell_type": "markdown",
   "metadata": {},
   "source": [
    "Ciljna značajka je varijabla 'PRIJEVREMENI_RASKID'. Problem na kojem radimo je (binarni) klasifikacijski problem; ciljna značajka može poprimiti vrijednost 'Y' ili 'N'.   \n",
    "\n",
    "Primjećujemo da u stupcu 'STAROST' postoje netipične vrijednosti kao što su negativne vrijednosti i vrijednosti veće od 900. Rečeno nam je da to znači da podatak nije dostupan, tj. vrlo vjerojatno se radi o pravnoj osobi pa ćemo postaviti te vrijednosti na -1 i eventualno kasnije promijeniti kada uočimo koji od klijenata su pravne osobe. Npr. mogli bismo te netipične vrijednosti postaviti na prosjek starosti pravnih osoba (tvrtki). "
   ]
  },
  {
   "cell_type": "code",
   "execution_count": 9,
   "metadata": {},
   "outputs": [],
   "source": [
    "df['STAROST'].values[df['STAROST'].values >= 900] = -1\n",
    "df['STAROST'].values[df['STAROST'].values < 0] = -1"
   ]
  },
  {
   "cell_type": "code",
   "execution_count": 10,
   "metadata": {},
   "outputs": [
    {
     "name": "stdout",
     "output_type": "stream",
     "text": [
      "VALUTA :  [1, 2, 3, 4, 5]\n",
      "VRSTA_KLIJENTA :  [1110, 1120, 1210, 1310, 1320, 1330, 1350, 1410, 1420, 1430, 1510, 1550, 1610]\n",
      "PROIZVOD :  ['FD0100', 'FD0200', 'FE0100', 'FE0200', 'FI0500', 'FL0201', 'FL0202', 'FL0600', 'FL0801', 'FL0802', 'FL0803', 'FL0804', 'FL0900', 'FL0901', 'FL1100', 'FL1200', 'FL1201', 'FL1202', 'FL1301', 'FL1304', 'FL1306', 'FL1309', 'FL1310', 'FL1400', 'FL1500', 'FL1600', 'FP0100', 'FS0200', 'TM0102', 'TM0104', 'TM0109', 'TM0500']\n",
      "VRSTA_PROIZVODA :  ['A', 'L']\n",
      "TIP_KAMATE :  ['A', 'B', 'C', 'D']\n",
      "PRIJEVREMENI_RASKID :  ['N', 'Y']\n"
     ]
    }
   ],
   "source": [
    "# istražujemo kategoričke varijable \n",
    "columns = ['VALUTA', 'VRSTA_KLIJENTA', 'PROIZVOD', 'VRSTA_PROIZVODA','TIP_KAMATE', 'PRIJEVREMENI_RASKID'];\n",
    "for column_name in columns:\n",
    "    print(column_name,': ', sorted(df[column_name].unique()))"
   ]
  },
  {
   "cell_type": "markdown",
   "metadata": {},
   "source": [
    "Partneri Mozgala koji su smislili zadatak su naknadno objavili napomenu o vrijednostima ciljne značajke. U njihovom evaluacijskom i validacijskom skupu smatrat će se da je ugovor prijevremeno raskinut ukoliko je zatvoren najkasnije 10 dana prije planiranog datuma zatvaranja."
   ]
  },
  {
   "cell_type": "code",
   "execution_count": 11,
   "metadata": {},
   "outputs": [],
   "source": [
    "df['PRIJEVREMENI_RASKID'] = np.where(df['DATUM_ZATVARANJA']>=(df['PLANIRANI_DATUM_ZATVARANJA']- np.timedelta64(10, 'D')), 'N', df['PRIJEVREMENI_RASKID'])"
   ]
  },
  {
   "cell_type": "markdown",
   "metadata": {},
   "source": [
    "<h3> (Ne)Balansiranost skupa podataka </h3>"
   ]
  },
  {
   "cell_type": "code",
   "execution_count": 12,
   "metadata": {},
   "outputs": [
    {
     "name": "stdout",
     "output_type": "stream",
     "text": [
      "Broj prijevremenih raskida:  153935\n",
      "Ukupan broj ugovora:  950239\n",
      "Postotak prijevremenih raskida u datasetu:  0.1619960873001424\n"
     ]
    }
   ],
   "source": [
    "prekidi = df.loc[df['PRIJEVREMENI_RASKID']=='Y']\n",
    "prekidi_group = prekidi.groupby(['KLIJENT_ID', 'OZNAKA_PARTIJE', 'DATUM_OTVARANJA'])\n",
    "len1 = len(prekidi_group);\n",
    "print('Broj prijevremenih raskida: ', len1)\n",
    "\n",
    "sve_grupe = df.groupby(['KLIJENT_ID', 'OZNAKA_PARTIJE', 'DATUM_OTVARANJA'])\n",
    "len2 = len(sve_grupe);\n",
    "print('Ukupan broj ugovora: ', len2)\n",
    "print('Postotak prijevremenih raskida u datasetu: ', len1/len2 )"
   ]
  },
  {
   "cell_type": "markdown",
   "metadata": {},
   "source": [
    "Kako je postotak prijevremenih raskida u skupu podataka otprilike 16%, zaključujemo da je dataset nebalansiran pa moramo to uzeti u obzir pri odabiru ML modela."
   ]
  },
  {
   "cell_type": "markdown",
   "metadata": {},
   "source": [
    "<h3>Missing values </h3>"
   ]
  },
  {
   "cell_type": "code",
   "execution_count": 16,
   "metadata": {},
   "outputs": [
    {
     "name": "stdout",
     "output_type": "stream",
     "text": [
      "DATUM_IZVJESTAVANJA                     0\n",
      "KLIJENT_ID                              0\n",
      "OZNAKA_PARTIJE                          0\n",
      "DATUM_OTVARANJA                         0\n",
      "PLANIRANI_DATUM_ZATVARANJA         421129\n",
      "DATUM_ZATVARANJA                  3978638\n",
      "UGOVORENI_IZNOS                         0\n",
      "STANJE_NA_KRAJU_PRETH_KVARTALA     421068\n",
      "STANJE_NA_KRAJU_KVARTALA                0\n",
      "VALUTA                                  0\n",
      "VRSTA_KLIJENTA                          0\n",
      "PROIZVOD                                0\n",
      "VRSTA_PROIZVODA                         0\n",
      "VISINA_KAMATE                       51702\n",
      "TIP_KAMATE                              0\n",
      "STAROST                                 0\n",
      "PRIJEVREMENI_RASKID                     0\n",
      "dtype: int64\n"
     ]
    }
   ],
   "source": [
    "missing_values = df.isnull().sum()\n",
    "print(missing_values)"
   ]
  },
  {
   "cell_type": "code",
   "execution_count": 17,
   "metadata": {},
   "outputs": [
    {
     "data": {
      "text/plain": [
       "0.7661357595158521"
      ]
     },
     "execution_count": 17,
     "metadata": {},
     "output_type": "execute_result"
    }
   ],
   "source": [
    "missing_values['DATUM_ZATVARANJA'] / df.shape[0]"
   ]
  },
  {
   "cell_type": "markdown",
   "metadata": {},
   "source": [
    "Budući da je otprilike 77% podataka u stupcu 'DATUM_ZATVARANJA' nepoznato, razmotrit ćemo brisanje tog stupca. Trenutačno nam je još možda potreban zbog daljnjeg čišćenja podataka (skup podataka je dosta nečist i ima nelogičnosti u podacima). Ukoliko nam je 'DATUM_ZATVARANJA' potreban u daljnjoj analizi npr. zbog trajanja ugovora, to možemo iščitati iz izvještavanja."
   ]
  },
  {
   "cell_type": "code",
   "execution_count": 18,
   "metadata": {},
   "outputs": [],
   "source": [
    "# del df['DATUM_ZATVARANJA']"
   ]
  },
  {
   "cell_type": "markdown",
   "metadata": {},
   "source": [
    "Primijetile smo da se visine kamata razlikuju ovisno o tipu kamate, vrsti klijenta i vrsti proizvoda pa ovisno o tome u ovom dijelu računamo prosjek visina kamata kako bismo to iskoristile u popunjavanju nepoznatih vrijednosti u stupcu 'VISINA_KAMATE'.\n",
    "\n"
   ]
  },
  {
   "cell_type": "code",
   "execution_count": 21,
   "metadata": {},
   "outputs": [
    {
     "name": "stdout",
     "output_type": "stream",
     "text": [
      "Tipovi kamata:  ['A', 'B', 'C', 'D']\n",
      "Vrste proizvoda:  ['L', 'A']\n",
      "Vrste klijenata:  [1420, 1410, 1550, 1610, 1430, 1120, 1110, 1320, 1210, 1510, 1310, 1330, 1350]\n"
     ]
    }
   ],
   "source": [
    "tip_kamate = df['TIP_KAMATE'].unique().tolist()\n",
    "vrsta_proizvoda = df['VRSTA_PROIZVODA'].unique().tolist()\n",
    "vrsta_klijenta = df['VRSTA_KLIJENTA'].unique().tolist()\n",
    "prosjeci = np.zeros(shape=(len(tip_kamate), len(vrsta_proizvoda), len(vrsta_klijenta)))\n",
    "\n",
    "\n",
    "for i in range(0, len(tip_kamate)):\n",
    "    for j in range(0, len(vrsta_proizvoda)):\n",
    "        for k in range(0, len(vrsta_klijenta)):\n",
    "            izdvojeni_krediti = df.loc[ (df['TIP_KAMATE'] == tip_kamate[i]) & (df['VRSTA_PROIZVODA'] == vrsta_proizvoda[j]) & (df['VRSTA_KLIJENTA'] == vrsta_klijenta[k]) ]\n",
    "            visine_kamata = izdvojeni_krediti['VISINA_KAMATE']\n",
    "            if(len(visine_kamata)):\n",
    "                prosjeci[i,j,k] = visine_kamata.mean()\n",
    "\n",
    "print('Tipovi kamata: ', tip_kamate)\n",
    "print('Vrste proizvoda: ', vrsta_proizvoda)\n",
    "print('Vrste klijenata: ', vrsta_klijenta)\n",
    "            "
   ]
  },
  {
   "cell_type": "code",
   "execution_count": null,
   "metadata": {},
   "outputs": [],
   "source": [
    "# popunjavanje nedostajućih vrijednosti u 'VISINA_KAMATE'\n",
    "# df['visine_kamata'] = df.apply(\n",
    "#    lambda row: prosjeci(tip_kamate.find(row['TIP_KAMATE']), vrsta_proizvoda.find(row['VRSTA_PROIZVODA']), vrsta_klijenta.find(row['VRSTA_KLIJENTA'])) if np.isnan(row['VISINA_KAMATE']) else row['VISINA_KAMATE'],\n",
    "#    axis=1)\n",
    "#"
   ]
  },
  {
   "cell_type": "markdown",
   "metadata": {},
   "source": [
    "Popunjavanje nedostajućih vrijednosti tamo gdje treba ćemo učiniti nakon što transformiramo skup podataka. Naime, da bismo primijenile željene ML algoritme, potrebno je izvući informacije o pojedinom ugovoru iz pripadajućih izvještaja tako da svedemo podatke tog ugovora na jedan redak dataframe-a. \n",
    "\n",
    "Ugovor je određen značajkama 'KLIJENT_ID', 'OZNAKA_PARTIJE' i 'DATUM_OTVARANJA'. Transformirat ćemo podatke tako da definiramo nove mjere (značajke) koje će odražavati trend ugovora i bitno utjecati na ciljnu značajku.\n",
    "\n",
    "Također, nakon što transformiramo dataset, izbacit ćemo nerelevantne značajke za treniranje modela kao što su 'KLIJENT_ID', 'OZNAKA_PARTIJE' i sl. "
   ]
  },
  {
   "cell_type": "markdown",
   "metadata": {},
   "source": [
    "<h2> Transformacija dataset-a </h2>\n",
    "\n",
    "U ovom dijelu ne definiramo nove značajke, nego samo izvlačimo ono što bismo voljele vizualizirati."
   ]
  },
  {
   "cell_type": "code",
   "execution_count": 32,
   "metadata": {},
   "outputs": [
    {
     "data": {
      "text/html": [
       "<div>\n",
       "<style scoped>\n",
       "    .dataframe tbody tr th:only-of-type {\n",
       "        vertical-align: middle;\n",
       "    }\n",
       "\n",
       "    .dataframe tbody tr th {\n",
       "        vertical-align: top;\n",
       "    }\n",
       "\n",
       "    .dataframe thead th {\n",
       "        text-align: right;\n",
       "    }\n",
       "</style>\n",
       "<table border=\"1\" class=\"dataframe\">\n",
       "  <thead>\n",
       "    <tr style=\"text-align: right;\">\n",
       "      <th></th>\n",
       "      <th>KLIJENT_ID</th>\n",
       "      <th>OZNAKA_PARTIJE</th>\n",
       "      <th>DATUM_OTVARANJA</th>\n",
       "      <th>UGOVORENI_IZNOS</th>\n",
       "      <th>VALUTA</th>\n",
       "      <th>VRSTA_KLIJENTA</th>\n",
       "      <th>PROIZVOD</th>\n",
       "      <th>VRSTA_PROIZVODA</th>\n",
       "      <th>VISINA_KAMATE</th>\n",
       "      <th>TIP_KAMATE</th>\n",
       "      <th>STAROST</th>\n",
       "      <th>PRIJEVREMENI_RASKID</th>\n",
       "    </tr>\n",
       "  </thead>\n",
       "  <tbody>\n",
       "    <tr>\n",
       "      <th>1169709</th>\n",
       "      <td>899857</td>\n",
       "      <td>5540168</td>\n",
       "      <td>2010-06-23</td>\n",
       "      <td>144016.10</td>\n",
       "      <td>2</td>\n",
       "      <td>1410</td>\n",
       "      <td>FL0801</td>\n",
       "      <td>A</td>\n",
       "      <td>8.78</td>\n",
       "      <td>B</td>\n",
       "      <td>29</td>\n",
       "      <td>N</td>\n",
       "    </tr>\n",
       "    <tr>\n",
       "      <th>1044081</th>\n",
       "      <td>1335935</td>\n",
       "      <td>8972913</td>\n",
       "      <td>2013-09-18</td>\n",
       "      <td>182000.00</td>\n",
       "      <td>1</td>\n",
       "      <td>1410</td>\n",
       "      <td>FL0801</td>\n",
       "      <td>A</td>\n",
       "      <td>9.45</td>\n",
       "      <td>A</td>\n",
       "      <td>58</td>\n",
       "      <td>Y</td>\n",
       "    </tr>\n",
       "    <tr>\n",
       "      <th>3167342</th>\n",
       "      <td>1467205</td>\n",
       "      <td>9836547</td>\n",
       "      <td>2014-06-24</td>\n",
       "      <td>10500.00</td>\n",
       "      <td>1</td>\n",
       "      <td>1410</td>\n",
       "      <td>FD0200</td>\n",
       "      <td>L</td>\n",
       "      <td>3.80</td>\n",
       "      <td>A</td>\n",
       "      <td>9</td>\n",
       "      <td>N</td>\n",
       "    </tr>\n",
       "    <tr>\n",
       "      <th>578513</th>\n",
       "      <td>29254</td>\n",
       "      <td>1421348</td>\n",
       "      <td>2007-09-19</td>\n",
       "      <td>115000.00</td>\n",
       "      <td>1</td>\n",
       "      <td>1410</td>\n",
       "      <td>FL0802</td>\n",
       "      <td>A</td>\n",
       "      <td>6.30</td>\n",
       "      <td>B</td>\n",
       "      <td>55</td>\n",
       "      <td>N</td>\n",
       "    </tr>\n",
       "    <tr>\n",
       "      <th>928842</th>\n",
       "      <td>66155</td>\n",
       "      <td>5666638</td>\n",
       "      <td>2010-09-14</td>\n",
       "      <td>99500.00</td>\n",
       "      <td>1</td>\n",
       "      <td>1410</td>\n",
       "      <td>FL0801</td>\n",
       "      <td>A</td>\n",
       "      <td>9.70</td>\n",
       "      <td>B</td>\n",
       "      <td>49</td>\n",
       "      <td>Y</td>\n",
       "    </tr>\n",
       "    <tr>\n",
       "      <th>2539895</th>\n",
       "      <td>1420414</td>\n",
       "      <td>12192050</td>\n",
       "      <td>2016-08-19</td>\n",
       "      <td>29200.00</td>\n",
       "      <td>1</td>\n",
       "      <td>1410</td>\n",
       "      <td>FL0801</td>\n",
       "      <td>A</td>\n",
       "      <td>7.98</td>\n",
       "      <td>B</td>\n",
       "      <td>49</td>\n",
       "      <td>N</td>\n",
       "    </tr>\n",
       "    <tr>\n",
       "      <th>4352930</th>\n",
       "      <td>928810</td>\n",
       "      <td>7250932</td>\n",
       "      <td>2012-10-10</td>\n",
       "      <td>899.00</td>\n",
       "      <td>1</td>\n",
       "      <td>1410</td>\n",
       "      <td>FL1100</td>\n",
       "      <td>A</td>\n",
       "      <td>0.00</td>\n",
       "      <td>C</td>\n",
       "      <td>28</td>\n",
       "      <td>N</td>\n",
       "    </tr>\n",
       "    <tr>\n",
       "      <th>5036064</th>\n",
       "      <td>779730</td>\n",
       "      <td>9964450</td>\n",
       "      <td>2016-08-16</td>\n",
       "      <td>4425.44</td>\n",
       "      <td>1</td>\n",
       "      <td>1410</td>\n",
       "      <td>TM0109</td>\n",
       "      <td>L</td>\n",
       "      <td>1.50</td>\n",
       "      <td>A</td>\n",
       "      <td>59</td>\n",
       "      <td>N</td>\n",
       "    </tr>\n",
       "    <tr>\n",
       "      <th>4186957</th>\n",
       "      <td>259450</td>\n",
       "      <td>1271874</td>\n",
       "      <td>2007-04-24</td>\n",
       "      <td>40000.00</td>\n",
       "      <td>1</td>\n",
       "      <td>1410</td>\n",
       "      <td>FL0801</td>\n",
       "      <td>A</td>\n",
       "      <td>10.45</td>\n",
       "      <td>C</td>\n",
       "      <td>45</td>\n",
       "      <td>N</td>\n",
       "    </tr>\n",
       "    <tr>\n",
       "      <th>4391803</th>\n",
       "      <td>1321275</td>\n",
       "      <td>11138180</td>\n",
       "      <td>2015-07-01</td>\n",
       "      <td>48366.30</td>\n",
       "      <td>2</td>\n",
       "      <td>1550</td>\n",
       "      <td>TM0109</td>\n",
       "      <td>L</td>\n",
       "      <td>1.95</td>\n",
       "      <td>A</td>\n",
       "      <td>30</td>\n",
       "      <td>N</td>\n",
       "    </tr>\n",
       "  </tbody>\n",
       "</table>\n",
       "</div>"
      ],
      "text/plain": [
       "         KLIJENT_ID  OZNAKA_PARTIJE DATUM_OTVARANJA  UGOVORENI_IZNOS  VALUTA  \\\n",
       "1169709      899857         5540168      2010-06-23        144016.10       2   \n",
       "1044081     1335935         8972913      2013-09-18        182000.00       1   \n",
       "3167342     1467205         9836547      2014-06-24         10500.00       1   \n",
       "578513        29254         1421348      2007-09-19        115000.00       1   \n",
       "928842        66155         5666638      2010-09-14         99500.00       1   \n",
       "2539895     1420414        12192050      2016-08-19         29200.00       1   \n",
       "4352930      928810         7250932      2012-10-10           899.00       1   \n",
       "5036064      779730         9964450      2016-08-16          4425.44       1   \n",
       "4186957      259450         1271874      2007-04-24         40000.00       1   \n",
       "4391803     1321275        11138180      2015-07-01         48366.30       2   \n",
       "\n",
       "         VRSTA_KLIJENTA PROIZVOD VRSTA_PROIZVODA  VISINA_KAMATE TIP_KAMATE  \\\n",
       "1169709            1410   FL0801               A           8.78          B   \n",
       "1044081            1410   FL0801               A           9.45          A   \n",
       "3167342            1410   FD0200               L           3.80          A   \n",
       "578513             1410   FL0802               A           6.30          B   \n",
       "928842             1410   FL0801               A           9.70          B   \n",
       "2539895            1410   FL0801               A           7.98          B   \n",
       "4352930            1410   FL1100               A           0.00          C   \n",
       "5036064            1410   TM0109               L           1.50          A   \n",
       "4186957            1410   FL0801               A          10.45          C   \n",
       "4391803            1550   TM0109               L           1.95          A   \n",
       "\n",
       "         STAROST PRIJEVREMENI_RASKID  \n",
       "1169709       29                   N  \n",
       "1044081       58                   Y  \n",
       "3167342        9                   N  \n",
       "578513        55                   N  \n",
       "928842        49                   Y  \n",
       "2539895       49                   N  \n",
       "4352930       28                   N  \n",
       "5036064       59                   N  \n",
       "4186957       45                   N  \n",
       "4391803       30                   N  "
      ]
     },
     "execution_count": 32,
     "metadata": {},
     "output_type": "execute_result"
    }
   ],
   "source": [
    "df_copy = df.copy()\n",
    "del_col_list = ['DATUM_IZVJESTAVANJA','PLANIRANI_DATUM_ZATVARANJA', 'DATUM_ZATVARANJA',\n",
    "       'STANJE_NA_KRAJU_PRETH_KVARTALA', 'STANJE_NA_KRAJU_KVARTALA']\n",
    "df_copy.drop(del_col_list, axis = 1, inplace = True)\n",
    "df_copy.sample(n=10)"
   ]
  },
  {
   "cell_type": "code",
   "execution_count": 33,
   "metadata": {},
   "outputs": [
    {
     "data": {
      "text/plain": [
       "(5193124, 12)"
      ]
     },
     "execution_count": 33,
     "metadata": {},
     "output_type": "execute_result"
    }
   ],
   "source": [
    "df_copy.shape"
   ]
  },
  {
   "cell_type": "code",
   "execution_count": 37,
   "metadata": {},
   "outputs": [],
   "source": [
    "df_copy.drop_duplicates(subset = ['KLIJENT_ID', 'OZNAKA_PARTIJE', 'DATUM_OTVARANJA'], inplace = True)"
   ]
  },
  {
   "cell_type": "code",
   "execution_count": 38,
   "metadata": {},
   "outputs": [
    {
     "data": {
      "text/plain": [
       "(950239, 12)"
      ]
     },
     "execution_count": 38,
     "metadata": {},
     "output_type": "execute_result"
    }
   ],
   "source": [
    "df_copy.shape"
   ]
  },
  {
   "cell_type": "code",
   "execution_count": 39,
   "metadata": {},
   "outputs": [
    {
     "data": {
      "image/png": "[encoded data removed]",
      "text/plain": [
       "<Figure size 432x288 with 1 Axes>"
      ]
     },
     "metadata": {
      "needs_background": "light"
     },
     "output_type": "display_data"
    }
   ],
   "source": [
    "plt.hist(df_copy['STAROST'], density = True, bins=30)\n",
    "plt.ylabel('Rel. frekvencija');\n",
    "plt.xlabel('Starost');"
   ]
  },
  {
   "cell_type": "code",
   "execution_count": null,
   "metadata": {},
   "outputs": [],
   "source": []
  }
 ],
 "metadata": {
  "kernelspec": {
   "display_name": "Python 3",
   "language": "python",
   "name": "python3"
  },
  "language_info": {
   "codemirror_mode": {
    "name": "ipython",
    "version": 3
   },
   "file_extension": ".py",
   "mimetype": "text/x-python",
   "name": "python",
   "nbconvert_exporter": "python",
   "pygments_lexer": "ipython3",
   "version": "3.7.1"
  }
 },
 "nbformat": 4,
 "nbformat_minor": 2
}

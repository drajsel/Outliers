{
 "cells": [
  {
   "cell_type": "code",
   "execution_count": 1,
   "metadata": {},
   "outputs": [],
   "source": [
    "import pandas as pd\n",
    "import matplotlib.pyplot as plt\n",
    "import numpy as np\n",
    "%matplotlib inline"
   ]
  },
  {
   "cell_type": "markdown",
   "metadata": {},
   "source": [
    "<h2> Učitavanje skupa podataka i generalni uvid u podatke </h2>"
   ]
  },
  {
   "cell_type": "code",
   "execution_count": 2,
   "metadata": {},
   "outputs": [],
   "source": [
    "# učitavanje podataka\n",
    "mydateparser = lambda c: pd.to_datetime(c, format='%d.%m.%Y', errors='coerce')\n",
    "df = pd.read_csv('training_dataset_enc.csv', parse_dates=['DATUM_IZVJESTAVANJA', 'PLANIRANI_DATUM_ZATVARANJA', 'DATUM_OTVARANJA', 'DATUM_ZATVARANJA'], date_parser=mydateparser)"
   ]
  },
  {
   "cell_type": "code",
   "execution_count": 3,
   "metadata": {},
   "outputs": [],
   "source": [
    "# brisanje nepotrebnih stupaca \n",
    "del df['Unnamed: 0']; del df['Unnamed: 0.1']; "
   ]
  },
  {
   "cell_type": "code",
   "execution_count": 10,
   "metadata": {},
   "outputs": [
    {
     "data": {
      "text/plain": [
       "(5193124, 17)"
      ]
     },
     "execution_count": 10,
     "metadata": {},
     "output_type": "execute_result"
    }
   ],
   "source": [
    "df.shape"
   ]
  },
  {
   "cell_type": "code",
   "execution_count": 4,
   "metadata": {},
   "outputs": [
    {
     "data": {
      "text/html": [
       "<div>\n",
       "<style scoped>\n",
       "    .dataframe tbody tr th:only-of-type {\n",
       "        vertical-align: middle;\n",
       "    }\n",
       "\n",
       "    .dataframe tbody tr th {\n",
       "        vertical-align: top;\n",
       "    }\n",
       "\n",
       "    .dataframe thead th {\n",
       "        text-align: right;\n",
       "    }\n",
       "</style>\n",
       "<table border=\"1\" class=\"dataframe\">\n",
       "  <thead>\n",
       "    <tr style=\"text-align: right;\">\n",
       "      <th></th>\n",
       "      <th>DATUM_IZVJESTAVANJA</th>\n",
       "      <th>KLIJENT_ID</th>\n",
       "      <th>OZNAKA_PARTIJE</th>\n",
       "      <th>DATUM_OTVARANJA</th>\n",
       "      <th>PLANIRANI_DATUM_ZATVARANJA</th>\n",
       "      <th>DATUM_ZATVARANJA</th>\n",
       "      <th>UGOVORENI_IZNOS</th>\n",
       "      <th>STANJE_NA_KRAJU_PRETH_KVARTALA</th>\n",
       "      <th>STANJE_NA_KRAJU_KVARTALA</th>\n",
       "      <th>VALUTA</th>\n",
       "      <th>VRSTA_KLIJENTA</th>\n",
       "      <th>PROIZVOD</th>\n",
       "      <th>VRSTA_PROIZVODA</th>\n",
       "      <th>VISINA_KAMATE</th>\n",
       "      <th>TIP_KAMATE</th>\n",
       "      <th>STAROST</th>\n",
       "      <th>PRIJEVREMENI_RASKID</th>\n",
       "    </tr>\n",
       "  </thead>\n",
       "  <tbody>\n",
       "    <tr>\n",
       "      <th>0</th>\n",
       "      <td>2013-12-31</td>\n",
       "      <td>412140</td>\n",
       "      <td>7146814</td>\n",
       "      <td>2012-08-27</td>\n",
       "      <td>2018-04-30</td>\n",
       "      <td>NaT</td>\n",
       "      <td>629155.97</td>\n",
       "      <td>639373.81</td>\n",
       "      <td>641562.01</td>\n",
       "      <td>2</td>\n",
       "      <td>1420</td>\n",
       "      <td>TM0109</td>\n",
       "      <td>L</td>\n",
       "      <td>1.50</td>\n",
       "      <td>A</td>\n",
       "      <td>22</td>\n",
       "      <td>N</td>\n",
       "    </tr>\n",
       "    <tr>\n",
       "      <th>1</th>\n",
       "      <td>2013-12-31</td>\n",
       "      <td>772139</td>\n",
       "      <td>5521579</td>\n",
       "      <td>2010-06-11</td>\n",
       "      <td>2017-06-30</td>\n",
       "      <td>NaT</td>\n",
       "      <td>46000.00</td>\n",
       "      <td>28481.94</td>\n",
       "      <td>26887.19</td>\n",
       "      <td>1</td>\n",
       "      <td>1410</td>\n",
       "      <td>FL0801</td>\n",
       "      <td>A</td>\n",
       "      <td>9.70</td>\n",
       "      <td>B</td>\n",
       "      <td>38</td>\n",
       "      <td>N</td>\n",
       "    </tr>\n",
       "    <tr>\n",
       "      <th>2</th>\n",
       "      <td>2013-12-31</td>\n",
       "      <td>481985</td>\n",
       "      <td>7443823</td>\n",
       "      <td>2013-01-23</td>\n",
       "      <td>2018-02-28</td>\n",
       "      <td>NaT</td>\n",
       "      <td>44679.50</td>\n",
       "      <td>44908.40</td>\n",
       "      <td>45062.09</td>\n",
       "      <td>2</td>\n",
       "      <td>1550</td>\n",
       "      <td>FD0100</td>\n",
       "      <td>L</td>\n",
       "      <td>3.10</td>\n",
       "      <td>A</td>\n",
       "      <td>37</td>\n",
       "      <td>N</td>\n",
       "    </tr>\n",
       "    <tr>\n",
       "      <th>3</th>\n",
       "      <td>2013-12-31</td>\n",
       "      <td>139014</td>\n",
       "      <td>6511639</td>\n",
       "      <td>2011-09-16</td>\n",
       "      <td>2016-09-30</td>\n",
       "      <td>NaT</td>\n",
       "      <td>29959.15</td>\n",
       "      <td>19691.64</td>\n",
       "      <td>18285.89</td>\n",
       "      <td>2</td>\n",
       "      <td>1410</td>\n",
       "      <td>FL0801</td>\n",
       "      <td>A</td>\n",
       "      <td>7.95</td>\n",
       "      <td>B</td>\n",
       "      <td>49</td>\n",
       "      <td>N</td>\n",
       "    </tr>\n",
       "    <tr>\n",
       "      <th>4</th>\n",
       "      <td>2013-12-31</td>\n",
       "      <td>952566</td>\n",
       "      <td>6143123</td>\n",
       "      <td>2011-05-23</td>\n",
       "      <td>2014-05-31</td>\n",
       "      <td>NaT</td>\n",
       "      <td>100000.00</td>\n",
       "      <td>24797.93</td>\n",
       "      <td>15685.33</td>\n",
       "      <td>1</td>\n",
       "      <td>1410</td>\n",
       "      <td>FL0801</td>\n",
       "      <td>A</td>\n",
       "      <td>9.70</td>\n",
       "      <td>B</td>\n",
       "      <td>35</td>\n",
       "      <td>N</td>\n",
       "    </tr>\n",
       "  </tbody>\n",
       "</table>\n",
       "</div>"
      ],
      "text/plain": [
       "  DATUM_IZVJESTAVANJA  KLIJENT_ID  OZNAKA_PARTIJE DATUM_OTVARANJA  \\\n",
       "0          2013-12-31      412140         7146814      2012-08-27   \n",
       "1          2013-12-31      772139         5521579      2010-06-11   \n",
       "2          2013-12-31      481985         7443823      2013-01-23   \n",
       "3          2013-12-31      139014         6511639      2011-09-16   \n",
       "4          2013-12-31      952566         6143123      2011-05-23   \n",
       "\n",
       "  PLANIRANI_DATUM_ZATVARANJA DATUM_ZATVARANJA  UGOVORENI_IZNOS  \\\n",
       "0                 2018-04-30              NaT        629155.97   \n",
       "1                 2017-06-30              NaT         46000.00   \n",
       "2                 2018-02-28              NaT         44679.50   \n",
       "3                 2016-09-30              NaT         29959.15   \n",
       "4                 2014-05-31              NaT        100000.00   \n",
       "\n",
       "   STANJE_NA_KRAJU_PRETH_KVARTALA  STANJE_NA_KRAJU_KVARTALA  VALUTA  \\\n",
       "0                       639373.81                 641562.01       2   \n",
       "1                        28481.94                  26887.19       1   \n",
       "2                        44908.40                  45062.09       2   \n",
       "3                        19691.64                  18285.89       2   \n",
       "4                        24797.93                  15685.33       1   \n",
       "\n",
       "   VRSTA_KLIJENTA PROIZVOD VRSTA_PROIZVODA  VISINA_KAMATE TIP_KAMATE  STAROST  \\\n",
       "0            1420   TM0109               L           1.50          A       22   \n",
       "1            1410   FL0801               A           9.70          B       38   \n",
       "2            1550   FD0100               L           3.10          A       37   \n",
       "3            1410   FL0801               A           7.95          B       49   \n",
       "4            1410   FL0801               A           9.70          B       35   \n",
       "\n",
       "  PRIJEVREMENI_RASKID  \n",
       "0                   N  \n",
       "1                   N  \n",
       "2                   N  \n",
       "3                   N  \n",
       "4                   N  "
      ]
     },
     "execution_count": 4,
     "metadata": {},
     "output_type": "execute_result"
    }
   ],
   "source": [
    "df.head()"
   ]
  },
  {
   "cell_type": "code",
   "execution_count": 5,
   "metadata": {},
   "outputs": [
    {
     "data": {
      "text/html": [
       "<div>\n",
       "<style scoped>\n",
       "    .dataframe tbody tr th:only-of-type {\n",
       "        vertical-align: middle;\n",
       "    }\n",
       "\n",
       "    .dataframe tbody tr th {\n",
       "        vertical-align: top;\n",
       "    }\n",
       "\n",
       "    .dataframe thead th {\n",
       "        text-align: right;\n",
       "    }\n",
       "</style>\n",
       "<table border=\"1\" class=\"dataframe\">\n",
       "  <thead>\n",
       "    <tr style=\"text-align: right;\">\n",
       "      <th></th>\n",
       "      <th>KLIJENT_ID</th>\n",
       "      <th>OZNAKA_PARTIJE</th>\n",
       "      <th>UGOVORENI_IZNOS</th>\n",
       "      <th>STANJE_NA_KRAJU_PRETH_KVARTALA</th>\n",
       "      <th>STANJE_NA_KRAJU_KVARTALA</th>\n",
       "      <th>VALUTA</th>\n",
       "      <th>VRSTA_KLIJENTA</th>\n",
       "      <th>VISINA_KAMATE</th>\n",
       "      <th>STAROST</th>\n",
       "    </tr>\n",
       "  </thead>\n",
       "  <tbody>\n",
       "    <tr>\n",
       "      <th>count</th>\n",
       "      <td>5.193124e+06</td>\n",
       "      <td>5.193124e+06</td>\n",
       "      <td>5.193124e+06</td>\n",
       "      <td>4.772056e+06</td>\n",
       "      <td>5.193124e+06</td>\n",
       "      <td>5.193124e+06</td>\n",
       "      <td>5.193124e+06</td>\n",
       "      <td>5.141422e+06</td>\n",
       "      <td>5.193124e+06</td>\n",
       "    </tr>\n",
       "    <tr>\n",
       "      <th>mean</th>\n",
       "      <td>7.207398e+05</td>\n",
       "      <td>7.152089e+06</td>\n",
       "      <td>2.554007e+05</td>\n",
       "      <td>1.309054e+05</td>\n",
       "      <td>1.181028e+05</td>\n",
       "      <td>1.682643e+00</td>\n",
       "      <td>1.426380e+03</td>\n",
       "      <td>5.562767e+00</td>\n",
       "      <td>4.141305e+01</td>\n",
       "    </tr>\n",
       "    <tr>\n",
       "      <th>std</th>\n",
       "      <td>1.160615e+07</td>\n",
       "      <td>8.765659e+06</td>\n",
       "      <td>3.784332e+06</td>\n",
       "      <td>1.950900e+06</td>\n",
       "      <td>1.829336e+06</td>\n",
       "      <td>8.221024e-01</td>\n",
       "      <td>6.029030e+01</td>\n",
       "      <td>3.760118e+00</td>\n",
       "      <td>2.045255e+02</td>\n",
       "    </tr>\n",
       "    <tr>\n",
       "      <th>min</th>\n",
       "      <td>1.002000e+03</td>\n",
       "      <td>1.630070e+05</td>\n",
       "      <td>0.000000e+00</td>\n",
       "      <td>-5.981000e+01</td>\n",
       "      <td>-5.981000e+01</td>\n",
       "      <td>1.000000e+00</td>\n",
       "      <td>1.110000e+03</td>\n",
       "      <td>-4.000000e-03</td>\n",
       "      <td>-7.994000e+03</td>\n",
       "    </tr>\n",
       "    <tr>\n",
       "      <th>25%</th>\n",
       "      <td>3.708580e+05</td>\n",
       "      <td>4.275223e+06</td>\n",
       "      <td>2.956673e+04</td>\n",
       "      <td>6.897520e+03</td>\n",
       "      <td>4.032975e+02</td>\n",
       "      <td>1.000000e+00</td>\n",
       "      <td>1.410000e+03</td>\n",
       "      <td>2.350000e+00</td>\n",
       "      <td>3.500000e+01</td>\n",
       "    </tr>\n",
       "    <tr>\n",
       "      <th>50%</th>\n",
       "      <td>6.930290e+05</td>\n",
       "      <td>6.603912e+06</td>\n",
       "      <td>6.422751e+04</td>\n",
       "      <td>3.339354e+04</td>\n",
       "      <td>2.673879e+04</td>\n",
       "      <td>2.000000e+00</td>\n",
       "      <td>1.410000e+03</td>\n",
       "      <td>6.480000e+00</td>\n",
       "      <td>4.600000e+01</td>\n",
       "    </tr>\n",
       "    <tr>\n",
       "      <th>75%</th>\n",
       "      <td>1.033071e+06</td>\n",
       "      <td>9.142953e+06</td>\n",
       "      <td>1.150000e+05</td>\n",
       "      <td>8.280279e+04</td>\n",
       "      <td>7.627030e+04</td>\n",
       "      <td>2.000000e+00</td>\n",
       "      <td>1.410000e+03</td>\n",
       "      <td>8.740000e+00</td>\n",
       "      <td>5.700000e+01</td>\n",
       "    </tr>\n",
       "    <tr>\n",
       "      <th>max</th>\n",
       "      <td>9.991411e+09</td>\n",
       "      <td>1.136257e+08</td>\n",
       "      <td>6.055048e+08</td>\n",
       "      <td>6.105662e+08</td>\n",
       "      <td>6.105662e+08</td>\n",
       "      <td>5.000000e+00</td>\n",
       "      <td>1.610000e+03</td>\n",
       "      <td>8.080000e+01</td>\n",
       "      <td>9.080000e+02</td>\n",
       "    </tr>\n",
       "  </tbody>\n",
       "</table>\n",
       "</div>"
      ],
      "text/plain": [
       "         KLIJENT_ID  OZNAKA_PARTIJE  UGOVORENI_IZNOS  \\\n",
       "count  5.193124e+06    5.193124e+06     5.193124e+06   \n",
       "mean   7.207398e+05    7.152089e+06     2.554007e+05   \n",
       "std    1.160615e+07    8.765659e+06     3.784332e+06   \n",
       "min    1.002000e+03    1.630070e+05     0.000000e+00   \n",
       "25%    3.708580e+05    4.275223e+06     2.956673e+04   \n",
       "50%    6.930290e+05    6.603912e+06     6.422751e+04   \n",
       "75%    1.033071e+06    9.142953e+06     1.150000e+05   \n",
       "max    9.991411e+09    1.136257e+08     6.055048e+08   \n",
       "\n",
       "       STANJE_NA_KRAJU_PRETH_KVARTALA  STANJE_NA_KRAJU_KVARTALA        VALUTA  \\\n",
       "count                    4.772056e+06              5.193124e+06  5.193124e+06   \n",
       "mean                     1.309054e+05              1.181028e+05  1.682643e+00   \n",
       "std                      1.950900e+06              1.829336e+06  8.221024e-01   \n",
       "min                     -5.981000e+01             -5.981000e+01  1.000000e+00   \n",
       "25%                      6.897520e+03              4.032975e+02  1.000000e+00   \n",
       "50%                      3.339354e+04              2.673879e+04  2.000000e+00   \n",
       "75%                      8.280279e+04              7.627030e+04  2.000000e+00   \n",
       "max                      6.105662e+08              6.105662e+08  5.000000e+00   \n",
       "\n",
       "       VRSTA_KLIJENTA  VISINA_KAMATE       STAROST  \n",
       "count    5.193124e+06   5.141422e+06  5.193124e+06  \n",
       "mean     1.426380e+03   5.562767e+00  4.141305e+01  \n",
       "std      6.029030e+01   3.760118e+00  2.045255e+02  \n",
       "min      1.110000e+03  -4.000000e-03 -7.994000e+03  \n",
       "25%      1.410000e+03   2.350000e+00  3.500000e+01  \n",
       "50%      1.410000e+03   6.480000e+00  4.600000e+01  \n",
       "75%      1.410000e+03   8.740000e+00  5.700000e+01  \n",
       "max      1.610000e+03   8.080000e+01  9.080000e+02  "
      ]
     },
     "execution_count": 5,
     "metadata": {},
     "output_type": "execute_result"
    }
   ],
   "source": [
    "df.describe()"
   ]
  },
  {
   "cell_type": "code",
   "execution_count": 6,
   "metadata": {},
   "outputs": [
    {
     "name": "stdout",
     "output_type": "stream",
     "text": [
      "<class 'pandas.core.frame.DataFrame'>\n",
      "RangeIndex: 5193124 entries, 0 to 5193123\n",
      "Data columns (total 17 columns):\n",
      "DATUM_IZVJESTAVANJA               datetime64[ns]\n",
      "KLIJENT_ID                        int64\n",
      "OZNAKA_PARTIJE                    int64\n",
      "DATUM_OTVARANJA                   datetime64[ns]\n",
      "PLANIRANI_DATUM_ZATVARANJA        datetime64[ns]\n",
      "DATUM_ZATVARANJA                  datetime64[ns]\n",
      "UGOVORENI_IZNOS                   float64\n",
      "STANJE_NA_KRAJU_PRETH_KVARTALA    float64\n",
      "STANJE_NA_KRAJU_KVARTALA          float64\n",
      "VALUTA                            int64\n",
      "VRSTA_KLIJENTA                    int64\n",
      "PROIZVOD                          object\n",
      "VRSTA_PROIZVODA                   object\n",
      "VISINA_KAMATE                     float64\n",
      "TIP_KAMATE                        object\n",
      "STAROST                           int64\n",
      "PRIJEVREMENI_RASKID               object\n",
      "dtypes: datetime64[ns](4), float64(4), int64(5), object(4)\n",
      "memory usage: 673.5+ MB\n"
     ]
    }
   ],
   "source": [
    "df.info()"
   ]
  },
  {
   "cell_type": "markdown",
   "metadata": {},
   "source": [
    "Ciljna značajka je varijabla 'PRIJEVREMENI_RASKID'. \n",
    "\n",
    "Primjećujemo da u stupcu 'STAROST' postoje ekstremne vrijednosti kao što su negativne vrijednosti i vrijednosti veće od 900. Rečeno nam je da to znači da podatak nije dostupan, tj. vrlo vjerojatno se radi o pravnoj osobi pa ćemo postaviti te vrijednosti na -1."
   ]
  },
  {
   "cell_type": "code",
   "execution_count": null,
   "metadata": {},
   "outputs": [],
   "source": [
    "df['STAROST'].values[df['STAROST'].values >= 900] = -1\n",
    "df['STAROST'].values[df['STAROST'].values < 0] = -1"
   ]
  },
  {
   "cell_type": "code",
   "execution_count": 24,
   "metadata": {},
   "outputs": [
    {
     "name": "stdout",
     "output_type": "stream",
     "text": [
      "VALUTA :  [2 1 3 4 5]\n",
      "VRSTA_KLIJENTA :  [1420 1410 1550 1610 1430 1120 1110 1320 1210 1510 1310 1330 1350]\n",
      "PROIZVOD :  ['TM0109' 'FL0801' 'FD0100' 'FL1301' 'FL1100' 'FL1200' 'FL1201' 'FL0802'\n",
      " 'FL1202' 'FL1306' 'FL1309' 'FL0900' 'FL0803' 'FL1400' 'FL1600' 'FL0804'\n",
      " 'FL1500' 'FL1310' 'FD0200' 'TM0104' 'FS0200' 'FL1304' 'FI0500' 'FP0100'\n",
      " 'FL0201' 'FL0202' 'FL0901' 'FL0600' 'TM0102' 'TM0500' 'FE0100' 'FE0200']\n",
      "VRSTA_PROIZVODA :  ['L' 'A']\n",
      "TIP_KAMATE :  ['A' 'B' 'C' 'D']\n",
      "PRIJEVREMENI_RASKID :  ['N' 'Y']\n"
     ]
    }
   ],
   "source": [
    "# istražujemo kategoričke varijable \n",
    "columns = ['VALUTA', 'VRSTA_KLIJENTA', 'PROIZVOD', 'VRSTA_PROIZVODA','TIP_KAMATE', 'PRIJEVREMENI_RASKID'];\n",
    "for column_name in columns:\n",
    "    print(column_name,': ', df[column_name].unique())"
   ]
  },
  {
   "cell_type": "markdown",
   "metadata": {},
   "source": [
    "<h3> (Ne)Balansiranost skupa podataka </h3>"
   ]
  },
  {
   "cell_type": "code",
   "execution_count": 18,
   "metadata": {},
   "outputs": [
    {
     "name": "stdout",
     "output_type": "stream",
     "text": [
      "Broj prijevremenih raskida:  160155\n",
      "Ukupan broj ugovora:  950239\n",
      "Postotak prijevremenih raskida u datasetu:  0.16854180895543122\n"
     ]
    }
   ],
   "source": [
    "prekidi = df.loc[df['PRIJEVREMENI_RASKID']=='Y']\n",
    "prekidi_group = prekidi.groupby(['KLIJENT_ID', 'OZNAKA_PARTIJE', 'DATUM_OTVARANJA'])\n",
    "len1 = len(prekidi_group);\n",
    "print('Broj prijevremenih raskida: ', len1)\n",
    "\n",
    "sve_grupe = df.groupby(['KLIJENT_ID', 'OZNAKA_PARTIJE', 'DATUM_OTVARANJA'])\n",
    "len2 = len(sve_grupe);\n",
    "print('Ukupan broj ugovora: ', len2)\n",
    "print('Postotak prijevremenih raskida u datasetu: ', len1/len2 )"
   ]
  },
  {
   "cell_type": "markdown",
   "metadata": {},
   "source": [
    "Kako je postotak prijevremenih raskida u skupu podataka otprilike 17%, zaključujemo da je dataset nebalansiran pa moramo to uzeti u obzir pri odabiru ML modela."
   ]
  },
  {
   "cell_type": "markdown",
   "metadata": {},
   "source": [
    "<h3>Missing values </h3>"
   ]
  },
  {
   "cell_type": "code",
   "execution_count": 12,
   "metadata": {},
   "outputs": [
    {
     "data": {
      "text/plain": [
       "DATUM_IZVJESTAVANJA                     0\n",
       "KLIJENT_ID                              0\n",
       "OZNAKA_PARTIJE                          0\n",
       "DATUM_OTVARANJA                         0\n",
       "PLANIRANI_DATUM_ZATVARANJA         421129\n",
       "DATUM_ZATVARANJA                  3978638\n",
       "UGOVORENI_IZNOS                         0\n",
       "STANJE_NA_KRAJU_PRETH_KVARTALA     421068\n",
       "STANJE_NA_KRAJU_KVARTALA                0\n",
       "VALUTA                                  0\n",
       "VRSTA_KLIJENTA                          0\n",
       "PROIZVOD                                0\n",
       "VRSTA_PROIZVODA                         0\n",
       "VISINA_KAMATE                       51702\n",
       "TIP_KAMATE                              0\n",
       "STAROST                                 0\n",
       "PRIJEVREMENI_RASKID                     0\n",
       "dtype: int64"
      ]
     },
     "execution_count": 12,
     "metadata": {},
     "output_type": "execute_result"
    }
   ],
   "source": [
    "df.isnull().sum()"
   ]
  },
  {
   "cell_type": "code",
   "execution_count": 14,
   "metadata": {},
   "outputs": [
    {
     "data": {
      "text/plain": [
       "0.7661357595158521"
      ]
     },
     "execution_count": 14,
     "metadata": {},
     "output_type": "execute_result"
    }
   ],
   "source": [
    "df.isnull().sum() ['DATUM_ZATVARANJA'] / df.shape[0]"
   ]
  },
  {
   "cell_type": "markdown",
   "metadata": {},
   "source": [
    "Budući da je otprilike 77% podataka u stupcu 'DATUM_ZATVARANJA' nepoznato, obrisat ćemo taj stupac."
   ]
  },
  {
   "cell_type": "code",
   "execution_count": 15,
   "metadata": {},
   "outputs": [],
   "source": [
    "del df['DATUM_ZATVARANJA']"
   ]
  },
  {
   "cell_type": "code",
   "execution_count": 33,
   "metadata": {},
   "outputs": [],
   "source": [
    "tip_kamate_kredita = df.groupby(['TIP_KAMATE', 'VRSTA_PROIZVODA', 'KLIJENT_ID', 'OZNAKA_PARTIJE', 'DATUM_OTVARANJA' ])['VISINA_KAMATE']"
   ]
  },
  {
   "cell_type": "code",
   "execution_count": 34,
   "metadata": {},
   "outputs": [
    {
     "data": {
      "text/plain": [
       "TIP_KAMATE  VRSTA_PROIZVODA  KLIJENT_ID  OZNAKA_PARTIJE  DATUM_OTVARANJA\n",
       "A           A                1013        11378209        2016-06-07         1.900000\n",
       "                                         12480085        2017-03-07         2.100000\n",
       "                             1061        349107          2005-02-28         5.000000\n",
       "                             1063        9738470         2014-04-24         4.236842\n",
       "                             1100        168604          2007-10-29         4.000000\n",
       "                                         7058587         2012-06-28         4.000000\n",
       "                                         11274030        2015-10-05              NaN\n",
       "                             1103        1213645         2006-08-31         9.250000\n",
       "                             1115        10342567        2015-05-27         8.950000\n",
       "                             1116        7534409         2013-03-11         8.450000\n",
       "                             1123        1309841         2003-12-03         3.000000\n",
       "                                         9959508         2014-08-06         0.000000\n",
       "                             1126        7015398         2012-05-18         4.500000\n",
       "                                         7812487         2013-06-04         0.000000\n",
       "                                         9735218         2014-04-13         0.000000\n",
       "                             1127        8923515         2013-09-05         6.950000\n",
       "                                         9216911         2014-02-06         6.950000\n",
       "                             1135        7599084         2013-04-27         0.000000\n",
       "                                         8889560         2013-07-25         0.000000\n",
       "                             1139        9175438         2014-01-23         9.450000\n",
       "                             1140        1263872         2006-04-28         7.250000\n",
       "                                         7441691         2013-01-18         0.000000\n",
       "                             1141        7791031         2013-05-21         0.000000\n",
       "                             1142        6142645         2011-06-01         4.000000\n",
       "                             1144        11517614        2016-04-07              NaN\n",
       "                             1145        9995589         2014-09-23         0.000000\n",
       "                             1146        8889706         2013-07-27         0.000000\n",
       "                                         9831749         2014-06-11         0.000000\n",
       "                             1152        12612289        2017-07-31         6.300000\n",
       "                             1156        917758          2005-06-16         7.775000\n",
       "                                                                              ...   \n",
       "C           L                1402285     7571921         2013-04-15         2.850000\n",
       "                             1403135     7600598         2013-04-22         2.750000\n",
       "                             1405437     7770983         2013-05-08         3.000000\n",
       "                             1406026     7771729         2013-05-13         2.750000\n",
       "                             1406148     7773167         2013-05-14         2.750000\n",
       "                                                         2013-06-01         2.750000\n",
       "                                                         2014-05-15         2.200000\n",
       "                             1408823     7793047         2013-06-01         2.850000\n",
       "                             1417404     8890997         2013-08-02         2.850000\n",
       "                             1417762     8893470         2013-07-30         2.750000\n",
       "                             1421770     8916600         2013-08-30         3.100000\n",
       "                             1468243     12209419        2016-10-04         3.700000\n",
       "                             1745599     113536805       2018-10-10              NaN\n",
       "D           L                14329       7343856         2010-10-11              NaN\n",
       "                             18205       7343851         2003-12-31              NaN\n",
       "                             43264       7343831         2012-12-31              NaN\n",
       "                             45401       7343870         2012-01-25              NaN\n",
       "                             86833       6505863         2011-09-19         3.400000\n",
       "                                         6576819         2011-11-10         3.700000\n",
       "                                         6648908         2011-12-21         4.600000\n",
       "                                         6940035         2012-03-27         0.500000\n",
       "                                         6976686         2012-04-10         0.300000\n",
       "                             388430      7343841         2012-05-18              NaN\n",
       "                             508140      9860590         2014-06-30              NaN\n",
       "                             887656      7343854         2009-07-28              NaN\n",
       "                             910167      12495892        2017-03-09         0.050000\n",
       "                                         12499218        2017-03-13         0.050000\n",
       "                                         12645171        2017-08-08         0.100000\n",
       "                             910268      6605280         2011-12-02              NaN\n",
       "                             1784865     12742242        2017-12-01              NaN\n",
       "Name: VISINA_KAMATE, Length: 1023149, dtype: float64"
      ]
     },
     "execution_count": 34,
     "metadata": {},
     "output_type": "execute_result"
    }
   ],
   "source": [
    "tip_kamate_kredita.mean()"
   ]
  },
  {
   "cell_type": "code",
   "execution_count": 32,
   "metadata": {},
   "outputs": [
    {
     "data": {
      "text/plain": [
       "TIP_KAMATE  KLIJENT_ID  OZNAKA_PARTIJE  DATUM_OTVARANJA\n",
       "A           1002        6403355         2011-07-07         2.10\n",
       "                        6426427         2011-08-04         2.55\n",
       "                        6501523         2011-09-19         2.35\n",
       "                        6548855         2011-10-20         1.60\n",
       "                        6592319         2011-11-18         1.60\n",
       "                        6643516         2011-12-28         3.00\n",
       "                        6726203         2012-02-07         3.50\n",
       "                        7146985         2012-09-04         1.70\n",
       "                        7220379         2012-10-01         1.30\n",
       "                        7288118         2012-11-09         1.00\n",
       "                        9956379         2014-08-20         1.00\n",
       "                        12254464        2016-10-28         1.00\n",
       "            1013        5903781         2011-02-15          NaN\n",
       "                        5916726         2011-02-21          NaN\n",
       "                        5916741         2011-02-22          NaN\n",
       "                        5916756         2011-02-25          NaN\n",
       "                        5925862         2011-02-28          NaN\n",
       "                        5928498         2011-03-01          NaN\n",
       "                        5928512         2011-03-03          NaN\n",
       "                        5932846         2011-03-04          NaN\n",
       "                        6501099         2011-09-20          NaN\n",
       "                        6501118         2011-09-22          NaN\n",
       "                        6501132         2011-09-26          NaN\n",
       "                        6501143         2011-09-27          NaN\n",
       "                        6527461         2011-10-18          NaN\n",
       "                        6548659         2011-10-19          NaN\n",
       "                        6548678         2011-10-21          NaN\n",
       "                        6548689         2011-10-21         3.10\n",
       "                        6548701         2011-10-24          NaN\n",
       "                        6548724         2011-10-25          NaN\n",
       "                                                           ... \n",
       "C           1483867     10143760        2015-07-16         8.95\n",
       "            1485687     10351410        2015-05-15         8.75\n",
       "            1488025     10158598        2014-12-11         8.95\n",
       "            1488816     10173709        2015-01-05         8.75\n",
       "            1491045     10164728        2015-01-02         8.95\n",
       "            1492179     10203989        2015-01-09         9.25\n",
       "            1499822     10272056        2015-03-17         9.25\n",
       "            1501411     10263258        2015-04-03         9.50\n",
       "            1502188     10259178        2015-04-02         9.25\n",
       "            1507805     10325633        2015-05-28         9.25\n",
       "            1516477     12913162        2018-04-11         4.70\n",
       "            1517225     10039573        2014-10-16         8.75\n",
       "            1745599     113536805       2018-10-10          NaN\n",
       "D           14329       7343856         2010-10-11          NaN\n",
       "            18205       7343851         2003-12-31          NaN\n",
       "            43264       7343831         2012-12-31          NaN\n",
       "            45401       7343870         2012-01-25          NaN\n",
       "            86833       6505863         2011-09-19         3.40\n",
       "                        6576819         2011-11-10         3.70\n",
       "                        6648908         2011-12-21         4.60\n",
       "                        6940035         2012-03-27         0.50\n",
       "                        6976686         2012-04-10         0.30\n",
       "            388430      7343841         2012-05-18          NaN\n",
       "            508140      9860590         2014-06-30          NaN\n",
       "            887656      7343854         2009-07-28          NaN\n",
       "            910167      12495892        2017-03-09         0.05\n",
       "                        12499218        2017-03-13         0.05\n",
       "                        12645171        2017-08-08         0.10\n",
       "            910268      6605280         2011-12-02          NaN\n",
       "            1784865     12742242        2017-12-01          NaN\n",
       "Name: VISINA_KAMATE, Length: 1023149, dtype: float64"
      ]
     },
     "execution_count": 32,
     "metadata": {},
     "output_type": "execute_result"
    }
   ],
   "source": [
    "tip_kamate_kredita.min()"
   ]
  },
  {
   "cell_type": "code",
   "execution_count": null,
   "metadata": {},
   "outputs": [],
   "source": []
  }
 ],
 "metadata": {
  "kernelspec": {
   "display_name": "Python 3",
   "language": "python",
   "name": "python3"
  },
  "language_info": {
   "codemirror_mode": {
    "name": "ipython",
    "version": 3
   },
   "file_extension": ".py",
   "mimetype": "text/x-python",
   "name": "python",
   "nbconvert_exporter": "python",
   "pygments_lexer": "ipython3",
   "version": "3.7.1"
  }
 },
 "nbformat": 4,
 "nbformat_minor": 2
}

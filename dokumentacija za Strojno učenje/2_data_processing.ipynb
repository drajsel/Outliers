{
 "cells": [
  {
   "cell_type": "markdown",
   "metadata": {},
   "source": [
    "<h1> 2. (Pret)procesiranje podataka </h1>\n",
    "\n",
    "U ovoj bilježnici radimo na čišćenju podataka te definiciji novih značajki. Input je skup za treniranje dan na natjecanju (u formatu kojeg smo eksportirali u eksploratornoj analizi podataka), a output je skup spreman za transformacije kao što su enkodiranje i normalizacija."
   ]
  },
  {
   "cell_type": "code",
   "execution_count": 1,
   "metadata": {},
   "outputs": [],
   "source": [
    "import pandas as pd\n",
    "import matplotlib.pyplot as plt\n",
    "import numpy as np\n",
    "%matplotlib inline"
   ]
  },
  {
   "cell_type": "code",
   "execution_count": 2,
   "metadata": {},
   "outputs": [],
   "source": [
    "## DIO POTREBAN ZA BRISANJE UPOZORENJA (kako bismo sačuvali anonimnost)\n",
    "import warnings\n",
    "warnings.filterwarnings('ignore')"
   ]
  },
  {
   "cell_type": "code",
   "execution_count": 4,
   "metadata": {},
   "outputs": [],
   "source": [
    "import os\n",
    "filename_in = os.path.dirname(os.getcwd())+\"\\\\data\\\\raw\\\\training_dataset.h5\"## ukoliko datoteka sa skupom za učenje u novom formatu postoji u direktoriju, čitamo je ovako:\n",
    "df = pd.read_hdf(filename_in, key = 'df')"
   ]
  },
  {
   "cell_type": "code",
   "execution_count": 5,
   "metadata": {},
   "outputs": [
    {
     "name": "stdout",
     "output_type": "stream",
     "text": [
      "Postotak originalnog dataset-a:\n",
      "0.9988667707530188\n"
     ]
    }
   ],
   "source": [
    "### BRISANJE PARTIJA S VIŠE KLIJENATA\n",
    "old_shape = df.shape\n",
    "gb = df.groupby('OZNAKA_PARTIJE')['KLIJENT_ID'].nunique() \n",
    "# gb[df2['OZNAKA_PARTIJE']] vrati za svaku oznaku partije (svaki redak tablice) njenu vrijednost i usporedi je s 1\n",
    "mask = gb[df['OZNAKA_PARTIJE']] == 1 \n",
    "df = df[ mask.values ] # rezultat je skup gdje za svaku partiju ima jedan klijent\n",
    "print('Postotak originalnog dataset-a:')\n",
    "print(df.shape[0]/old_shape[0])"
   ]
  },
  {
   "cell_type": "code",
   "execution_count": 6,
   "metadata": {},
   "outputs": [
    {
     "data": {
      "text/html": [
       "<div>\n",
       "<style scoped>\n",
       "    .dataframe tbody tr th:only-of-type {\n",
       "        vertical-align: middle;\n",
       "    }\n",
       "\n",
       "    .dataframe tbody tr th {\n",
       "        vertical-align: top;\n",
       "    }\n",
       "\n",
       "    .dataframe thead th {\n",
       "        text-align: right;\n",
       "    }\n",
       "</style>\n",
       "<table border=\"1\" class=\"dataframe\">\n",
       "  <thead>\n",
       "    <tr style=\"text-align: right;\">\n",
       "      <th></th>\n",
       "      <th>DATUM_IZVJESTAVANJA</th>\n",
       "      <th>KLIJENT_ID</th>\n",
       "      <th>OZNAKA_PARTIJE</th>\n",
       "      <th>DATUM_OTVARANJA</th>\n",
       "      <th>PLANIRANI_DATUM_ZATVARANJA</th>\n",
       "      <th>DATUM_ZATVARANJA</th>\n",
       "      <th>UGOVORENI_IZNOS</th>\n",
       "      <th>STANJE_NA_KRAJU_PRETH_KVARTALA</th>\n",
       "      <th>STANJE_NA_KRAJU_KVARTALA</th>\n",
       "      <th>VALUTA</th>\n",
       "      <th>VRSTA_KLIJENTA</th>\n",
       "      <th>PROIZVOD</th>\n",
       "      <th>VRSTA_PROIZVODA</th>\n",
       "      <th>VISINA_KAMATE</th>\n",
       "      <th>TIP_KAMATE</th>\n",
       "      <th>STAROST</th>\n",
       "      <th>PRIJEVREMENI_RASKID</th>\n",
       "    </tr>\n",
       "  </thead>\n",
       "  <tbody>\n",
       "    <tr>\n",
       "      <th>0</th>\n",
       "      <td>2013-12-31</td>\n",
       "      <td>412140</td>\n",
       "      <td>7146814</td>\n",
       "      <td>2012-08-27</td>\n",
       "      <td>2018-04-30</td>\n",
       "      <td>NaT</td>\n",
       "      <td>629155.97</td>\n",
       "      <td>639373.81</td>\n",
       "      <td>641562.01</td>\n",
       "      <td>2</td>\n",
       "      <td>1420</td>\n",
       "      <td>TM0109</td>\n",
       "      <td>L</td>\n",
       "      <td>1.50</td>\n",
       "      <td>A</td>\n",
       "      <td>22</td>\n",
       "      <td>N</td>\n",
       "    </tr>\n",
       "    <tr>\n",
       "      <th>1</th>\n",
       "      <td>2013-12-31</td>\n",
       "      <td>772139</td>\n",
       "      <td>5521579</td>\n",
       "      <td>2010-06-11</td>\n",
       "      <td>2017-06-30</td>\n",
       "      <td>NaT</td>\n",
       "      <td>46000.00</td>\n",
       "      <td>28481.94</td>\n",
       "      <td>26887.19</td>\n",
       "      <td>1</td>\n",
       "      <td>1410</td>\n",
       "      <td>FL0801</td>\n",
       "      <td>A</td>\n",
       "      <td>9.70</td>\n",
       "      <td>B</td>\n",
       "      <td>38</td>\n",
       "      <td>N</td>\n",
       "    </tr>\n",
       "    <tr>\n",
       "      <th>2</th>\n",
       "      <td>2013-12-31</td>\n",
       "      <td>481985</td>\n",
       "      <td>7443823</td>\n",
       "      <td>2013-01-23</td>\n",
       "      <td>2018-02-28</td>\n",
       "      <td>NaT</td>\n",
       "      <td>44679.50</td>\n",
       "      <td>44908.40</td>\n",
       "      <td>45062.09</td>\n",
       "      <td>2</td>\n",
       "      <td>1550</td>\n",
       "      <td>FD0100</td>\n",
       "      <td>L</td>\n",
       "      <td>3.10</td>\n",
       "      <td>A</td>\n",
       "      <td>37</td>\n",
       "      <td>N</td>\n",
       "    </tr>\n",
       "    <tr>\n",
       "      <th>3</th>\n",
       "      <td>2013-12-31</td>\n",
       "      <td>139014</td>\n",
       "      <td>6511639</td>\n",
       "      <td>2011-09-16</td>\n",
       "      <td>2016-09-30</td>\n",
       "      <td>NaT</td>\n",
       "      <td>29959.15</td>\n",
       "      <td>19691.64</td>\n",
       "      <td>18285.89</td>\n",
       "      <td>2</td>\n",
       "      <td>1410</td>\n",
       "      <td>FL0801</td>\n",
       "      <td>A</td>\n",
       "      <td>7.95</td>\n",
       "      <td>B</td>\n",
       "      <td>49</td>\n",
       "      <td>N</td>\n",
       "    </tr>\n",
       "    <tr>\n",
       "      <th>4</th>\n",
       "      <td>2013-12-31</td>\n",
       "      <td>952566</td>\n",
       "      <td>6143123</td>\n",
       "      <td>2011-05-23</td>\n",
       "      <td>2014-05-31</td>\n",
       "      <td>NaT</td>\n",
       "      <td>100000.00</td>\n",
       "      <td>24797.93</td>\n",
       "      <td>15685.33</td>\n",
       "      <td>1</td>\n",
       "      <td>1410</td>\n",
       "      <td>FL0801</td>\n",
       "      <td>A</td>\n",
       "      <td>9.70</td>\n",
       "      <td>B</td>\n",
       "      <td>35</td>\n",
       "      <td>N</td>\n",
       "    </tr>\n",
       "  </tbody>\n",
       "</table>\n",
       "</div>"
      ],
      "text/plain": [
       "  DATUM_IZVJESTAVANJA  KLIJENT_ID  OZNAKA_PARTIJE DATUM_OTVARANJA  \\\n",
       "0          2013-12-31      412140         7146814      2012-08-27   \n",
       "1          2013-12-31      772139         5521579      2010-06-11   \n",
       "2          2013-12-31      481985         7443823      2013-01-23   \n",
       "3          2013-12-31      139014         6511639      2011-09-16   \n",
       "4          2013-12-31      952566         6143123      2011-05-23   \n",
       "\n",
       "  PLANIRANI_DATUM_ZATVARANJA DATUM_ZATVARANJA  UGOVORENI_IZNOS  \\\n",
       "0                 2018-04-30              NaT        629155.97   \n",
       "1                 2017-06-30              NaT         46000.00   \n",
       "2                 2018-02-28              NaT         44679.50   \n",
       "3                 2016-09-30              NaT         29959.15   \n",
       "4                 2014-05-31              NaT        100000.00   \n",
       "\n",
       "   STANJE_NA_KRAJU_PRETH_KVARTALA  STANJE_NA_KRAJU_KVARTALA  VALUTA  \\\n",
       "0                       639373.81                 641562.01       2   \n",
       "1                        28481.94                  26887.19       1   \n",
       "2                        44908.40                  45062.09       2   \n",
       "3                        19691.64                  18285.89       2   \n",
       "4                        24797.93                  15685.33       1   \n",
       "\n",
       "   VRSTA_KLIJENTA PROIZVOD VRSTA_PROIZVODA  VISINA_KAMATE TIP_KAMATE  STAROST  \\\n",
       "0            1420   TM0109               L           1.50          A       22   \n",
       "1            1410   FL0801               A           9.70          B       38   \n",
       "2            1550   FD0100               L           3.10          A       37   \n",
       "3            1410   FL0801               A           7.95          B       49   \n",
       "4            1410   FL0801               A           9.70          B       35   \n",
       "\n",
       "  PRIJEVREMENI_RASKID  \n",
       "0                   N  \n",
       "1                   N  \n",
       "2                   N  \n",
       "3                   N  \n",
       "4                   N  "
      ]
     },
     "execution_count": 6,
     "metadata": {},
     "output_type": "execute_result"
    }
   ],
   "source": [
    "df.head()"
   ]
  },
  {
   "cell_type": "code",
   "execution_count": 7,
   "metadata": {},
   "outputs": [
    {
     "data": {
      "text/html": [
       "<div>\n",
       "<style scoped>\n",
       "    .dataframe tbody tr th:only-of-type {\n",
       "        vertical-align: middle;\n",
       "    }\n",
       "\n",
       "    .dataframe tbody tr th {\n",
       "        vertical-align: top;\n",
       "    }\n",
       "\n",
       "    .dataframe thead th {\n",
       "        text-align: right;\n",
       "    }\n",
       "</style>\n",
       "<table border=\"1\" class=\"dataframe\">\n",
       "  <thead>\n",
       "    <tr style=\"text-align: right;\">\n",
       "      <th></th>\n",
       "      <th>KLIJENT_ID</th>\n",
       "      <th>OZNAKA_PARTIJE</th>\n",
       "      <th>UGOVORENI_IZNOS</th>\n",
       "      <th>STANJE_NA_KRAJU_PRETH_KVARTALA</th>\n",
       "      <th>STANJE_NA_KRAJU_KVARTALA</th>\n",
       "      <th>VALUTA</th>\n",
       "      <th>VRSTA_KLIJENTA</th>\n",
       "      <th>VISINA_KAMATE</th>\n",
       "      <th>STAROST</th>\n",
       "    </tr>\n",
       "  </thead>\n",
       "  <tbody>\n",
       "    <tr>\n",
       "      <th>count</th>\n",
       "      <td>5.187239e+06</td>\n",
       "      <td>5.187239e+06</td>\n",
       "      <td>5.187239e+06</td>\n",
       "      <td>4.766322e+06</td>\n",
       "      <td>5.187239e+06</td>\n",
       "      <td>5.187239e+06</td>\n",
       "      <td>5.187239e+06</td>\n",
       "      <td>5.135555e+06</td>\n",
       "      <td>5.187239e+06</td>\n",
       "    </tr>\n",
       "    <tr>\n",
       "      <th>mean</th>\n",
       "      <td>7.206729e+05</td>\n",
       "      <td>7.153406e+06</td>\n",
       "      <td>2.536863e+05</td>\n",
       "      <td>1.295566e+05</td>\n",
       "      <td>1.168920e+05</td>\n",
       "      <td>1.682218e+00</td>\n",
       "      <td>1.426424e+03</td>\n",
       "      <td>5.561989e+00</td>\n",
       "      <td>4.140727e+01</td>\n",
       "    </tr>\n",
       "    <tr>\n",
       "      <th>std</th>\n",
       "      <td>1.161272e+07</td>\n",
       "      <td>8.757979e+06</td>\n",
       "      <td>3.768251e+06</td>\n",
       "      <td>1.920337e+06</td>\n",
       "      <td>1.801749e+06</td>\n",
       "      <td>8.217323e-01</td>\n",
       "      <td>6.022722e+01</td>\n",
       "      <td>3.760708e+00</td>\n",
       "      <td>2.046405e+02</td>\n",
       "    </tr>\n",
       "    <tr>\n",
       "      <th>min</th>\n",
       "      <td>1.002000e+03</td>\n",
       "      <td>1.630070e+05</td>\n",
       "      <td>0.000000e+00</td>\n",
       "      <td>-5.981000e+01</td>\n",
       "      <td>-5.981000e+01</td>\n",
       "      <td>1.000000e+00</td>\n",
       "      <td>1.110000e+03</td>\n",
       "      <td>-4.000000e-03</td>\n",
       "      <td>-7.994000e+03</td>\n",
       "    </tr>\n",
       "    <tr>\n",
       "      <th>25%</th>\n",
       "      <td>3.708930e+05</td>\n",
       "      <td>4.276645e+06</td>\n",
       "      <td>2.953413e+04</td>\n",
       "      <td>6.878780e+03</td>\n",
       "      <td>3.977950e+02</td>\n",
       "      <td>1.000000e+00</td>\n",
       "      <td>1.410000e+03</td>\n",
       "      <td>2.350000e+00</td>\n",
       "      <td>3.500000e+01</td>\n",
       "    </tr>\n",
       "    <tr>\n",
       "      <th>50%</th>\n",
       "      <td>6.930060e+05</td>\n",
       "      <td>6.605459e+06</td>\n",
       "      <td>6.414009e+04</td>\n",
       "      <td>3.335964e+04</td>\n",
       "      <td>2.670734e+04</td>\n",
       "      <td>2.000000e+00</td>\n",
       "      <td>1.410000e+03</td>\n",
       "      <td>6.480000e+00</td>\n",
       "      <td>4.600000e+01</td>\n",
       "    </tr>\n",
       "    <tr>\n",
       "      <th>75%</th>\n",
       "      <td>1.032869e+06</td>\n",
       "      <td>9.143072e+06</td>\n",
       "      <td>1.150000e+05</td>\n",
       "      <td>8.274797e+04</td>\n",
       "      <td>7.624641e+04</td>\n",
       "      <td>2.000000e+00</td>\n",
       "      <td>1.410000e+03</td>\n",
       "      <td>8.740000e+00</td>\n",
       "      <td>5.700000e+01</td>\n",
       "    </tr>\n",
       "    <tr>\n",
       "      <th>max</th>\n",
       "      <td>9.991411e+09</td>\n",
       "      <td>1.136257e+08</td>\n",
       "      <td>6.055048e+08</td>\n",
       "      <td>6.105662e+08</td>\n",
       "      <td>6.105662e+08</td>\n",
       "      <td>5.000000e+00</td>\n",
       "      <td>1.610000e+03</td>\n",
       "      <td>8.080000e+01</td>\n",
       "      <td>9.080000e+02</td>\n",
       "    </tr>\n",
       "  </tbody>\n",
       "</table>\n",
       "</div>"
      ],
      "text/plain": [
       "         KLIJENT_ID  OZNAKA_PARTIJE  UGOVORENI_IZNOS  \\\n",
       "count  5.187239e+06    5.187239e+06     5.187239e+06   \n",
       "mean   7.206729e+05    7.153406e+06     2.536863e+05   \n",
       "std    1.161272e+07    8.757979e+06     3.768251e+06   \n",
       "min    1.002000e+03    1.630070e+05     0.000000e+00   \n",
       "25%    3.708930e+05    4.276645e+06     2.953413e+04   \n",
       "50%    6.930060e+05    6.605459e+06     6.414009e+04   \n",
       "75%    1.032869e+06    9.143072e+06     1.150000e+05   \n",
       "max    9.991411e+09    1.136257e+08     6.055048e+08   \n",
       "\n",
       "       STANJE_NA_KRAJU_PRETH_KVARTALA  STANJE_NA_KRAJU_KVARTALA        VALUTA  \\\n",
       "count                    4.766322e+06              5.187239e+06  5.187239e+06   \n",
       "mean                     1.295566e+05              1.168920e+05  1.682218e+00   \n",
       "std                      1.920337e+06              1.801749e+06  8.217323e-01   \n",
       "min                     -5.981000e+01             -5.981000e+01  1.000000e+00   \n",
       "25%                      6.878780e+03              3.977950e+02  1.000000e+00   \n",
       "50%                      3.335964e+04              2.670734e+04  2.000000e+00   \n",
       "75%                      8.274797e+04              7.624641e+04  2.000000e+00   \n",
       "max                      6.105662e+08              6.105662e+08  5.000000e+00   \n",
       "\n",
       "       VRSTA_KLIJENTA  VISINA_KAMATE       STAROST  \n",
       "count    5.187239e+06   5.135555e+06  5.187239e+06  \n",
       "mean     1.426424e+03   5.561989e+00  4.140727e+01  \n",
       "std      6.022722e+01   3.760708e+00  2.046405e+02  \n",
       "min      1.110000e+03  -4.000000e-03 -7.994000e+03  \n",
       "25%      1.410000e+03   2.350000e+00  3.500000e+01  \n",
       "50%      1.410000e+03   6.480000e+00  4.600000e+01  \n",
       "75%      1.410000e+03   8.740000e+00  5.700000e+01  \n",
       "max      1.610000e+03   8.080000e+01  9.080000e+02  "
      ]
     },
     "execution_count": 7,
     "metadata": {},
     "output_type": "execute_result"
    }
   ],
   "source": [
    "df.describe()"
   ]
  },
  {
   "cell_type": "code",
   "execution_count": 8,
   "metadata": {},
   "outputs": [
    {
     "data": {
      "text/plain": [
       "DATUM_IZVJESTAVANJA                     0\n",
       "KLIJENT_ID                              0\n",
       "OZNAKA_PARTIJE                          0\n",
       "DATUM_OTVARANJA                         0\n",
       "PLANIRANI_DATUM_ZATVARANJA         420978\n",
       "DATUM_ZATVARANJA                  3973234\n",
       "UGOVORENI_IZNOS                         0\n",
       "STANJE_NA_KRAJU_PRETH_KVARTALA     420917\n",
       "STANJE_NA_KRAJU_KVARTALA                0\n",
       "VALUTA                                  0\n",
       "VRSTA_KLIJENTA                          0\n",
       "PROIZVOD                                0\n",
       "VRSTA_PROIZVODA                         0\n",
       "VISINA_KAMATE                       51684\n",
       "TIP_KAMATE                              0\n",
       "STAROST                                 0\n",
       "PRIJEVREMENI_RASKID                     0\n",
       "dtype: int64"
      ]
     },
     "execution_count": 8,
     "metadata": {},
     "output_type": "execute_result"
    }
   ],
   "source": [
    "df.isnull().sum()"
   ]
  },
  {
   "cell_type": "markdown",
   "metadata": {},
   "source": [
    "Varijablom 'STAROST' ćemo se kasnije pozabaviti pa trenutačno nelogične vrijednosti postavljamo na NaN, kako bismo ih kasnije mogli lakše identificirati i popuniti."
   ]
  },
  {
   "cell_type": "code",
   "execution_count": 9,
   "metadata": {},
   "outputs": [],
   "source": [
    "df['STAROST'] = np.where((df['STAROST']<0) | (df['STAROST']>120), np.nan, df['STAROST'])"
   ]
  },
  {
   "cell_type": "code",
   "execution_count": 10,
   "metadata": {},
   "outputs": [],
   "source": [
    "## SORTIRANJE za lakši pregled\n",
    "df.sort_values(['KLIJENT_ID', 'OZNAKA_PARTIJE', 'DATUM_OTVARANJA', 'DATUM_IZVJESTAVANJA'], inplace = True)"
   ]
  },
  {
   "cell_type": "markdown",
   "metadata": {},
   "source": [
    "Odlučili smo da nećemo koristiti podatke o stanju kvartala. Prvotna ideja je bila probati koristiti metode takozvanog privilegiranog učenja, no nije nam ostalo dovoljno vremena."
   ]
  },
  {
   "cell_type": "code",
   "execution_count": 11,
   "metadata": {},
   "outputs": [],
   "source": [
    "del_col_list = ['STANJE_NA_KRAJU_PRETH_KVARTALA', 'STANJE_NA_KRAJU_KVARTALA']\n",
    "df.drop(del_col_list, axis = 1, inplace = True)"
   ]
  },
  {
   "cell_type": "markdown",
   "metadata": {},
   "source": [
    "U sljedećoj ćeliji se popunjavaju nedostajuće vrijednosti. Neke vrijednosti se nalaze tek u kasnijim izvještajima pa ćemo ih dobiti pomoću groupby objekta i funkcije 'transform'.\n",
    "\n",
    "Ponegdje je ugovoreni iznos ugovora jednak 0 samo u prvom izvještaju pa također mijenjamo tu varijablu. \n",
    "\n",
    "Ugovore koji su se produljivali ovdje smatramo kao jedan ugovor. "
   ]
  },
  {
   "cell_type": "code",
   "execution_count": 12,
   "metadata": {},
   "outputs": [],
   "source": [
    "grouped = df.groupby(['KLIJENT_ID', 'OZNAKA_PARTIJE', 'DATUM_OTVARANJA'])\n",
    "grouped_all = df.groupby(['KLIJENT_ID', 'OZNAKA_PARTIJE'])\n",
    "def impute_backwards(series):\n",
    "    return series.fillna(method = 'bfill')\n",
    "\n",
    "def impute_mean(series):\n",
    "    return series.fillna(series.mean())\n",
    "\n",
    "def impute_max(group):\n",
    "    return group.max()\n",
    "\n",
    "## po ugovoru\n",
    "df['VISINA_KAMATE'] = grouped['VISINA_KAMATE'].transform(impute_mean)\n",
    "df['PLANIRANI_DATUM_ZATVARANJA']  = grouped['PLANIRANI_DATUM_ZATVARANJA'].transform('last')\n",
    "df['UGOVORENI_IZNOS'] = grouped['UGOVORENI_IZNOS'].transform('last') #ili max\n",
    "#df['DATUM_ZATVARANJA'] = grouped['DATUM_ZATVARANJA'].transform('last')\n",
    "df['DATUM_ZATVARANJA'] = grouped_all['DATUM_ZATVARANJA'].transform('last')\n",
    "df['PRIJEVREMENI_RASKID'] = grouped['PRIJEVREMENI_RASKID'].transform('last')\n",
    "# popunjavanje stanja na kraju prethodnog kvartala \n",
    "\n",
    "#df['NOVO_STANJE_NKPH'] = np.where(df['STANJE_NA_KRAJU_KVARTALA'].isnull(), df['UGOVORENI_IZNOS'], df['STANJE_NA_KRAJU_KVARTALA'])\n"
   ]
  },
  {
   "cell_type": "markdown",
   "metadata": {},
   "source": [
    "Varijabla 'DRUKCIJI_CILJ' je privremena i služi nam samo za uvid u ugovore s produljenjima. Naime, ako promatramo ciljnu značajku 'DRUKCIJI_CILJ', sva produljenja ugovora označimo kao prijevremeno raskinuta, ne samo posljednje produljenje. "
   ]
  },
  {
   "cell_type": "code",
   "execution_count": 13,
   "metadata": {},
   "outputs": [],
   "source": [
    "df['DRUKCIJI_CILJ'] = grouped_all['PRIJEVREMENI_RASKID'].transform('last')"
   ]
  },
  {
   "cell_type": "code",
   "execution_count": 14,
   "metadata": {},
   "outputs": [
    {
     "data": {
      "text/plain": [
       "PRIJEVREMENI_RASKID\n",
       "N    0.81549\n",
       "Y    0.18451\n",
       "dtype: float64"
      ]
     },
     "execution_count": 14,
     "metadata": {},
     "output_type": "execute_result"
    }
   ],
   "source": [
    "df.groupby(['PRIJEVREMENI_RASKID']).size() / (df.shape[0])"
   ]
  },
  {
   "cell_type": "code",
   "execution_count": 15,
   "metadata": {},
   "outputs": [
    {
     "data": {
      "text/plain": [
       "DRUKCIJI_CILJ\n",
       "N    0.767401\n",
       "Y    0.232599\n",
       "dtype: float64"
      ]
     },
     "execution_count": 15,
     "metadata": {},
     "output_type": "execute_result"
    }
   ],
   "source": [
    "df.groupby(['DRUKCIJI_CILJ']).size() / (df.shape[0])"
   ]
  },
  {
   "cell_type": "code",
   "execution_count": 17,
   "metadata": {},
   "outputs": [
    {
     "data": {
      "text/plain": [
       "DATUM_IZVJESTAVANJA            0.000000\n",
       "KLIJENT_ID                     0.000000\n",
       "OZNAKA_PARTIJE                 0.000000\n",
       "DATUM_OTVARANJA                0.000000\n",
       "PLANIRANI_DATUM_ZATVARANJA     0.683832\n",
       "DATUM_ZATVARANJA              25.187754\n",
       "UGOVORENI_IZNOS                0.000000\n",
       "VALUTA                         0.000000\n",
       "VRSTA_KLIJENTA                 0.000000\n",
       "PROIZVOD                       0.000000\n",
       "VRSTA_PROIZVODA                0.000000\n",
       "VISINA_KAMATE                  0.089990\n",
       "TIP_KAMATE                     0.000000\n",
       "STAROST                        0.073912\n",
       "PRIJEVREMENI_RASKID            0.000000\n",
       "DRUKCIJI_CILJ                  0.000000\n",
       "dtype: float64"
      ]
     },
     "execution_count": 17,
     "metadata": {},
     "output_type": "execute_result"
    }
   ],
   "source": [
    "## postotak ostalih missinig values\n",
    "df.isnull().sum()/df.shape[0]*100"
   ]
  },
  {
   "cell_type": "markdown",
   "metadata": {},
   "source": [
    "Brišemo ugovore koji još nisu zatvoreni, a i one kojima je nepoznata značajka 'PLANIRANI_DATUM_ZATVARANJA' jer je planiramo koristiti u definiciji nove značajke."
   ]
  },
  {
   "cell_type": "code",
   "execution_count": 20,
   "metadata": {},
   "outputs": [],
   "source": [
    "df.dropna(subset = ['DATUM_ZATVARANJA'], inplace = True)\n",
    "df.dropna(subset = ['PLANIRANI_DATUM_ZATVARANJA'], inplace = True)"
   ]
  },
  {
   "cell_type": "code",
   "execution_count": 22,
   "metadata": {},
   "outputs": [],
   "source": [
    "### NAPOMENA S FAQ-a\n",
    "df['PRIJEVREMENI_RASKID'] = np.where(df['DATUM_ZATVARANJA']>=(df['PLANIRANI_DATUM_ZATVARANJA']- np.timedelta64(10, 'D')), \n",
    "                                     'N', df['PRIJEVREMENI_RASKID'])"
   ]
  },
  {
   "cell_type": "markdown",
   "metadata": {},
   "source": [
    "Nakon potrebnih transformacija možemo reducirati skup za treniranje na jedan redak po ugovoru. Ugovor sa svakim svojim datumom otvaranja, id-jem klijenta i oznakom partije smatramo posebno. \n",
    "\n",
    "Ugovor ne smatramo raskinutim do njegovog zadnjeg produljenja."
   ]
  },
  {
   "cell_type": "code",
   "execution_count": null,
   "metadata": {},
   "outputs": [],
   "source": [
    "df.drop_duplicates(subset = ['KLIJENT_ID', 'OZNAKA_PARTIJE', 'DATUM_OTVARANJA'], inplace = True, keep = 'last')\n"
   ]
  },
  {
   "cell_type": "code",
   "execution_count": 24,
   "metadata": {},
   "outputs": [
    {
     "data": {
      "text/plain": [
       "PRIJEVREMENI_RASKID\n",
       "N    0.82208\n",
       "Y    0.17792\n",
       "dtype: float64"
      ]
     },
     "execution_count": 24,
     "metadata": {},
     "output_type": "execute_result"
    }
   ],
   "source": [
    "df.groupby(['PRIJEVREMENI_RASKID']).size() / (df.shape[0])"
   ]
  },
  {
   "cell_type": "code",
   "execution_count": 25,
   "metadata": {},
   "outputs": [
    {
     "data": {
      "text/plain": [
       "DRUKCIJI_CILJ\n",
       "N    0.664475\n",
       "Y    0.335525\n",
       "dtype: float64"
      ]
     },
     "execution_count": 25,
     "metadata": {},
     "output_type": "execute_result"
    }
   ],
   "source": [
    "df.groupby(['DRUKCIJI_CILJ']).size() / (df.shape[0]) "
   ]
  },
  {
   "cell_type": "code",
   "execution_count": 26,
   "metadata": {},
   "outputs": [
    {
     "data": {
      "text/plain": [
       "DATUM_IZVJESTAVANJA              0\n",
       "KLIJENT_ID                       0\n",
       "OZNAKA_PARTIJE                   0\n",
       "DATUM_OTVARANJA                  0\n",
       "PLANIRANI_DATUM_ZATVARANJA       0\n",
       "DATUM_ZATVARANJA                 0\n",
       "UGOVORENI_IZNOS                  0\n",
       "VALUTA                           0\n",
       "VRSTA_KLIJENTA                   0\n",
       "PROIZVOD                         0\n",
       "VRSTA_PROIZVODA                  0\n",
       "VISINA_KAMATE                 1266\n",
       "TIP_KAMATE                       0\n",
       "STAROST                        278\n",
       "PRIJEVREMENI_RASKID              0\n",
       "DRUKCIJI_CILJ                    0\n",
       "dtype: int64"
      ]
     },
     "execution_count": 26,
     "metadata": {},
     "output_type": "execute_result"
    }
   ],
   "source": [
    "df.isnull().sum()"
   ]
  },
  {
   "cell_type": "markdown",
   "metadata": {},
   "source": [
    "Definiramo novu značajku - varijablu 'PRODULJENJA' - koja nam kazuje koliko puta je ugovor produžen (prvi put otvoren ugovor ima 0 produljenja)."
   ]
  },
  {
   "cell_type": "code",
   "execution_count": 27,
   "metadata": {},
   "outputs": [],
   "source": [
    "grouped = df.groupby(['KLIJENT_ID', 'OZNAKA_PARTIJE'])\n",
    "\n",
    "def produljenja(series):\n",
    "    n = series.count()\n",
    "    return range(0,n)\n",
    "\n",
    "df['PRODULJENJA'] = grouped['DATUM_OTVARANJA'].transform(produljenja)"
   ]
  },
  {
   "cell_type": "code",
   "execution_count": 29,
   "metadata": {},
   "outputs": [
    {
     "data": {
      "text/plain": [
       "PRODULJENJA\n",
       "0     473809\n",
       "1      57126\n",
       "2      34811\n",
       "3      24216\n",
       "4      17257\n",
       "5      12858\n",
       "6       9648\n",
       "7       7276\n",
       "8       5603\n",
       "9       4387\n",
       "10      3490\n",
       "11      2761\n",
       "12      2132\n",
       "13      1680\n",
       "14      1321\n",
       "15      1044\n",
       "16       873\n",
       "17       725\n",
       "18       598\n",
       "19       495\n",
       "20       401\n",
       "21       310\n",
       "22       222\n",
       "23       177\n",
       "24       122\n",
       "25        83\n",
       "26        45\n",
       "27        25\n",
       "28         5\n",
       "dtype: int64"
      ]
     },
     "execution_count": 29,
     "metadata": {},
     "output_type": "execute_result"
    }
   ],
   "source": [
    "# KOLIKO UGOVORA JE PRODULJENO n PUTA?\n",
    "df.groupby('PRODULJENJA').size()"
   ]
  },
  {
   "cell_type": "code",
   "execution_count": 30,
   "metadata": {},
   "outputs": [
    {
     "data": {
      "text/plain": [
       "PRIJEVREMENI_RASKID\n",
       "N    0.82208\n",
       "Y    0.17792\n",
       "dtype: float64"
      ]
     },
     "execution_count": 30,
     "metadata": {},
     "output_type": "execute_result"
    }
   ],
   "source": [
    "# distribucija raskida\n",
    "df.groupby(['PRIJEVREMENI_RASKID']).size()/(df.shape[0])"
   ]
  },
  {
   "cell_type": "markdown",
   "metadata": {},
   "source": [
    "Popunjavamo zadnje nedostajuće vrijednosti; varijable 'STAROST' i 'VISINA_KAMATE'."
   ]
  },
  {
   "cell_type": "code",
   "execution_count": 31,
   "metadata": {},
   "outputs": [],
   "source": [
    "grouped_kamate= df.groupby(['VRSTA_KLIJENTA', 'VRSTA_PROIZVODA', 'PROIZVOD'])\n",
    "grouped_klijenti = df.groupby(['VRSTA_KLIJENTA', 'VRSTA_PROIZVODA'])\n",
    "\n",
    "def impute_mean(series):\n",
    "    return series.fillna(series.mean())\n",
    "\n",
    "df['VISINA_KAMATE'] = grouped_kamate.transform(impute_mean) \n",
    "df['STAROST'] = grouped_klijenti.transform(impute_mean)"
   ]
  },
  {
   "cell_type": "code",
   "execution_count": 32,
   "metadata": {},
   "outputs": [
    {
     "data": {
      "text/plain": [
       "DATUM_IZVJESTAVANJA           0\n",
       "KLIJENT_ID                    0\n",
       "OZNAKA_PARTIJE                0\n",
       "DATUM_OTVARANJA               0\n",
       "PLANIRANI_DATUM_ZATVARANJA    0\n",
       "DATUM_ZATVARANJA              0\n",
       "UGOVORENI_IZNOS               0\n",
       "VALUTA                        0\n",
       "VRSTA_KLIJENTA                0\n",
       "PROIZVOD                      0\n",
       "VRSTA_PROIZVODA               0\n",
       "VISINA_KAMATE                 0\n",
       "TIP_KAMATE                    0\n",
       "STAROST                       0\n",
       "PRIJEVREMENI_RASKID           0\n",
       "DRUKCIJI_CILJ                 0\n",
       "PRODULJENJA                   0\n",
       "dtype: int64"
      ]
     },
     "execution_count": 32,
     "metadata": {},
     "output_type": "execute_result"
    }
   ],
   "source": [
    "df.isnull().sum()"
   ]
  },
  {
   "cell_type": "markdown",
   "metadata": {},
   "source": [
    "Definiramo nove značajke; godinu otvaranja i planiranu duljinu trajanja ugovora."
   ]
  },
  {
   "cell_type": "code",
   "execution_count": 39,
   "metadata": {},
   "outputs": [],
   "source": [
    "df['GODINA_OTVARANJA'] = df['DATUM_OTVARANJA'].dt.year\n",
    "df['PLANIRANA_DULJINA_UGOVORA'] = (df['PLANIRANI_DATUM_ZATVARANJA']-df['DATUM_OTVARANJA']).dt.days"
   ]
  },
  {
   "cell_type": "code",
   "execution_count": 38,
   "metadata": {},
   "outputs": [],
   "source": [
    "df['DATUM_OTVARANJA_TIMESTAMP'] = (df['DATUM_OTVARANJA'] - pd.Timestamp(\"1970-01-01\")) // pd.Timedelta('1s')\n",
    "df['PLANIRANI_DATUM_ZATVARANJA_TIMESTAMP'] = (df['PLANIRANI_DATUM_ZATVARANJA'] - pd.Timestamp(\"1970-01-01\")) // pd.Timedelta('1s')"
   ]
  },
  {
   "cell_type": "code",
   "execution_count": 40,
   "metadata": {},
   "outputs": [
    {
     "data": {
      "text/plain": [
       "Index(['DATUM_IZVJESTAVANJA', 'KLIJENT_ID', 'OZNAKA_PARTIJE',\n",
       "       'DATUM_OTVARANJA', 'PLANIRANI_DATUM_ZATVARANJA', 'DATUM_ZATVARANJA',\n",
       "       'UGOVORENI_IZNOS', 'VALUTA', 'VRSTA_KLIJENTA', 'PROIZVOD',\n",
       "       'VRSTA_PROIZVODA', 'VISINA_KAMATE', 'TIP_KAMATE', 'STAROST',\n",
       "       'PRIJEVREMENI_RASKID', 'DRUKCIJI_CILJ', 'PRODULJENJA',\n",
       "       'GODINA_OTVARANJA', 'PLANIRANA_DULJINA_UGOVORA',\n",
       "       'DATUM_OTVARANJA_TIMESTAMP', 'PLANIRANI_DATUM_ZATVARANJA_TIMESTAMP'],\n",
       "      dtype='object')"
      ]
     },
     "execution_count": 40,
     "metadata": {},
     "output_type": "execute_result"
    }
   ],
   "source": [
    "df.columns"
   ]
  },
  {
   "cell_type": "markdown",
   "metadata": {},
   "source": [
    "Napokon, brišemo varijable koje nam više ne trebaju te eksportiramo podatke u novu datoteku."
   ]
  },
  {
   "cell_type": "code",
   "execution_count": 41,
   "metadata": {},
   "outputs": [],
   "source": [
    "del_col_list = ['DATUM_IZVJESTAVANJA', 'DATUM_OTVARANJA', 'PLANIRANI_DATUM_ZATVARANJA', 'DATUM_ZATVARANJA']\n",
    "df.drop(del_col_list, axis = 1, inplace = True)"
   ]
  },
  {
   "cell_type": "code",
   "execution_count": 42,
   "metadata": {},
   "outputs": [
    {
     "data": {
      "text/plain": [
       "(663500, 17)"
      ]
     },
     "execution_count": 42,
     "metadata": {},
     "output_type": "execute_result"
    }
   ],
   "source": [
    "df.shape"
   ]
  },
  {
   "cell_type": "code",
   "execution_count": 43,
   "metadata": {},
   "outputs": [
    {
     "data": {
      "text/plain": [
       "PRIJEVREMENI_RASKID\n",
       "N    0.82208\n",
       "Y    0.17792\n",
       "dtype: float64"
      ]
     },
     "execution_count": 43,
     "metadata": {},
     "output_type": "execute_result"
    }
   ],
   "source": [
    "df.groupby(['PRIJEVREMENI_RASKID']).size()/(df.shape[0])"
   ]
  },
  {
   "cell_type": "code",
   "execution_count": 45,
   "metadata": {},
   "outputs": [],
   "source": [
    "df.drop('DRUKCIJI_CILJ', axis = 1, inplace = True)"
   ]
  },
  {
   "cell_type": "code",
   "execution_count": 46,
   "metadata": {},
   "outputs": [],
   "source": [
    "import os\n",
    "filename_out = os.path.dirname(os.getcwd())+\"\\\\data\\\\raw\\\\training_dataset_processed.h5\"\n",
    "df.to_hdf(filename_out, key='df')"
   ]
  }
 ],
 "metadata": {
  "kernelspec": {
   "display_name": "Python 3",
   "language": "python",
   "name": "python3"
  },
  "language_info": {
   "codemirror_mode": {
    "name": "ipython",
    "version": 3
   },
   "file_extension": ".py",
   "mimetype": "text/x-python",
   "name": "python",
   "nbconvert_exporter": "python",
   "pygments_lexer": "ipython3",
   "version": "3.7.3"
  }
 },
 "nbformat": 4,
 "nbformat_minor": 2
}
